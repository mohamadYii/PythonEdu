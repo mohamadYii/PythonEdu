{
 "cells": [
  {
   "cell_type": "markdown",
   "id": "0d36d78c-10fa-408e-8377-469109468fb2",
   "metadata": {
    "editable": true,
    "slideshow": {
     "slide_type": ""
    },
    "tags": []
   },
   "source": [
    "## Operator:"
   ]
  },
  {
   "cell_type": "markdown",
   "id": "b88f9658-2197-4d5d-8044-ec7091ce95bb",
   "metadata": {
    "editable": true,
    "slideshow": {
     "slide_type": ""
    },
    "tags": []
   },
   "source": [
    "#### { + , - , * , / , // , % , ** }"
   ]
  },
  {
   "cell_type": "code",
   "execution_count": 2,
   "id": "dfe2ab71-2bf9-4bae-a252-1d7050796e40",
   "metadata": {
    "editable": true,
    "slideshow": {
     "slide_type": ""
    },
    "tags": []
   },
   "outputs": [
    {
     "data": {
      "text/plain": [
       "4"
      ]
     },
     "execution_count": 2,
     "metadata": {},
     "output_type": "execute_result"
    }
   ],
   "source": [
    "1+3"
   ]
  },
  {
   "cell_type": "code",
   "execution_count": 3,
   "id": "4bba4967-76ca-4cc4-9de6-50ddf2d617d6",
   "metadata": {},
   "outputs": [
    {
     "data": {
      "text/plain": [
       "6"
      ]
     },
     "execution_count": 3,
     "metadata": {},
     "output_type": "execute_result"
    }
   ],
   "source": [
    "3*2"
   ]
  },
  {
   "cell_type": "code",
   "execution_count": 4,
   "id": "1e5a3bd2-054c-46d2-8c2d-3fc368146e8d",
   "metadata": {},
   "outputs": [
    {
     "data": {
      "text/plain": [
       "4.5"
      ]
     },
     "execution_count": 4,
     "metadata": {},
     "output_type": "execute_result"
    }
   ],
   "source": [
    "18/4"
   ]
  },
  {
   "cell_type": "code",
   "execution_count": 5,
   "id": "4688f7b7-785e-44c2-ba73-335319f307f1",
   "metadata": {},
   "outputs": [
    {
     "data": {
      "text/plain": [
       "4"
      ]
     },
     "execution_count": 5,
     "metadata": {},
     "output_type": "execute_result"
    }
   ],
   "source": [
    "18//4"
   ]
  },
  {
   "cell_type": "code",
   "execution_count": 6,
   "id": "881588b8-de03-427e-80bf-54b3476c1d5b",
   "metadata": {},
   "outputs": [
    {
     "data": {
      "text/plain": [
       "2"
      ]
     },
     "execution_count": 6,
     "metadata": {},
     "output_type": "execute_result"
    }
   ],
   "source": [
    "18%4"
   ]
  },
  {
   "cell_type": "code",
   "execution_count": 7,
   "id": "7beba249-a01a-4af4-bd92-ea3637430fcc",
   "metadata": {},
   "outputs": [
    {
     "data": {
      "text/plain": [
       "32"
      ]
     },
     "execution_count": 7,
     "metadata": {},
     "output_type": "execute_result"
    }
   ],
   "source": [
    "2**5"
   ]
  },
  {
   "cell_type": "markdown",
   "id": "978e5952-b70f-4203-a42e-8d8715d2158c",
   "metadata": {},
   "source": [
    "#### { x+=num , x/=num , ...} "
   ]
  },
  {
   "cell_type": "code",
   "execution_count": 17,
   "id": "03a3eea7-5380-4528-b629-eacebb509bfa",
   "metadata": {},
   "outputs": [
    {
     "name": "stdout",
     "output_type": "stream",
     "text": [
      "53\n",
      "17.666666666666668\n"
     ]
    }
   ],
   "source": [
    "y = 50 \n",
    "y+=3\n",
    "print(y)\n",
    "y/=3\n",
    "print(y)"
   ]
  },
  {
   "cell_type": "markdown",
   "id": "beb2cdc4-8ee3-4bf2-bf51-4aa333693812",
   "metadata": {},
   "source": [
    "#### { == != >= <= > < }"
   ]
  },
  {
   "cell_type": "code",
   "execution_count": 18,
   "id": "c382f186-f417-4946-ae3e-6ea445bf8ab6",
   "metadata": {},
   "outputs": [
    {
     "data": {
      "text/plain": [
       "False"
      ]
     },
     "execution_count": 18,
     "metadata": {},
     "output_type": "execute_result"
    }
   ],
   "source": [
    "2 > 3"
   ]
  },
  {
   "cell_type": "code",
   "execution_count": 19,
   "id": "67e756f9-e5a7-4c36-8cc5-9f8af0187dff",
   "metadata": {},
   "outputs": [
    {
     "data": {
      "text/plain": [
       "False"
      ]
     },
     "execution_count": 19,
     "metadata": {},
     "output_type": "execute_result"
    }
   ],
   "source": [
    "3 >= 4"
   ]
  },
  {
   "cell_type": "markdown",
   "id": "6124c74e-fb2e-424e-8687-8300ec510a84",
   "metadata": {},
   "source": [
    "#### { and or not }"
   ]
  },
  {
   "cell_type": "code",
   "execution_count": 20,
   "id": "6eb40915-3cdd-4a31-84b8-1aaa327bd020",
   "metadata": {},
   "outputs": [
    {
     "data": {
      "text/plain": [
       "True"
      ]
     },
     "execution_count": 20,
     "metadata": {},
     "output_type": "execute_result"
    }
   ],
   "source": [
    "1>0 or not(5>3)"
   ]
  },
  {
   "cell_type": "code",
   "execution_count": 21,
   "id": "5427dc7c-b527-43f2-b0c3-c47b0f8767f8",
   "metadata": {},
   "outputs": [
    {
     "data": {
      "text/plain": [
       "True"
      ]
     },
     "execution_count": 21,
     "metadata": {},
     "output_type": "execute_result"
    }
   ],
   "source": [
    "5<12 and 5<18"
   ]
  },
  {
   "cell_type": "markdown",
   "id": "df054845-e4a1-4930-8f4c-55438df49e9c",
   "metadata": {},
   "source": [
    "#### { in , not in }"
   ]
  },
  {
   "cell_type": "code",
   "execution_count": 22,
   "id": "44143f0d-1fe8-47e6-9269-330a3e605fc8",
   "metadata": {},
   "outputs": [
    {
     "data": {
      "text/plain": [
       "True"
      ]
     },
     "execution_count": 22,
     "metadata": {},
     "output_type": "execute_result"
    }
   ],
   "source": [
    "x1 = [1,2,3,4,5]\n",
    "3 in x1"
   ]
  },
  {
   "cell_type": "code",
   "execution_count": 23,
   "id": "7e0b13ca-94df-4135-a8f7-36fbb4298215",
   "metadata": {},
   "outputs": [
    {
     "data": {
      "text/plain": [
       "False"
      ]
     },
     "execution_count": 23,
     "metadata": {},
     "output_type": "execute_result"
    }
   ],
   "source": [
    "1 not in x1\n"
   ]
  },
  {
   "cell_type": "markdown",
   "id": "98a8de03-72ce-446c-9d39-a70f2b55f95e",
   "metadata": {},
   "source": [
    "### bin()"
   ]
  },
  {
   "cell_type": "code",
   "execution_count": 24,
   "id": "8bb75399-e44a-4e12-a6ce-3aae4a0311b5",
   "metadata": {},
   "outputs": [
    {
     "data": {
      "text/plain": [
       "'0b11110000110111001'"
      ]
     },
     "execution_count": 24,
     "metadata": {},
     "output_type": "execute_result"
    }
   ],
   "source": [
    "bin(123321)"
   ]
  },
  {
   "cell_type": "markdown",
   "id": "24df2fb2-0296-420b-8bf1-39180cac567d",
   "metadata": {},
   "source": [
    "#### { & | ^ >> <<}"
   ]
  },
  {
   "cell_type": "code",
   "execution_count": 25,
   "id": "0a64e3ce-93bb-47cf-9cf5-9adf41b0f010",
   "metadata": {},
   "outputs": [
    {
     "data": {
      "text/plain": [
       "31"
      ]
     },
     "execution_count": 25,
     "metadata": {},
     "output_type": "execute_result"
    }
   ],
   "source": [
    "23 | 12"
   ]
  },
  {
   "cell_type": "code",
   "execution_count": 26,
   "id": "728b2f88-3127-43e3-9b5b-5f765eab6b4e",
   "metadata": {},
   "outputs": [
    {
     "data": {
      "text/plain": [
       "4"
      ]
     },
     "execution_count": 26,
     "metadata": {},
     "output_type": "execute_result"
    }
   ],
   "source": [
    "23 & 12"
   ]
  },
  {
   "cell_type": "markdown",
   "id": "6fa2c214-c432-4c63-a585-3ca66b2d0f4f",
   "metadata": {},
   "source": [
    "### abs()"
   ]
  },
  {
   "cell_type": "code",
   "execution_count": 27,
   "id": "c94a2a4e-2db0-42f7-85a2-88d6a690c399",
   "metadata": {},
   "outputs": [
    {
     "data": {
      "text/plain": [
       "8"
      ]
     },
     "execution_count": 27,
     "metadata": {},
     "output_type": "execute_result"
    }
   ],
   "source": [
    "abs(-8)"
   ]
  },
  {
   "cell_type": "markdown",
   "id": "50296eba-9866-4c55-8069-ee106e7a5a77",
   "metadata": {},
   "source": [
    "### pow()"
   ]
  },
  {
   "cell_type": "code",
   "execution_count": 30,
   "id": "e321e1f0-34b7-447e-9a62-319897a4cc83",
   "metadata": {},
   "outputs": [
    {
     "data": {
      "text/plain": [
       "32"
      ]
     },
     "execution_count": 30,
     "metadata": {},
     "output_type": "execute_result"
    }
   ],
   "source": [
    "pow (2,5)"
   ]
  },
  {
   "cell_type": "markdown",
   "id": "48df54cf-19ef-49ea-82ae-0882aa447b8f",
   "metadata": {},
   "source": [
    "### math.sqrt()"
   ]
  },
  {
   "cell_type": "code",
   "execution_count": 67,
   "id": "df11b262-86ef-4baf-9d9b-70f8674796f4",
   "metadata": {},
   "outputs": [
    {
     "data": {
      "text/plain": [
       "2.0"
      ]
     },
     "execution_count": 67,
     "metadata": {},
     "output_type": "execute_result"
    }
   ],
   "source": [
    "import math\n",
    "math.sqrt(32)\n",
    "math.sqrt(4)"
   ]
  },
  {
   "cell_type": "markdown",
   "id": "bf818b22-9beb-463f-b5ca-099f315ef58e",
   "metadata": {},
   "source": [
    "### divmod()"
   ]
  },
  {
   "cell_type": "code",
   "execution_count": 38,
   "id": "94589148-3eaa-4501-b1cc-7389bfbc33ca",
   "metadata": {},
   "outputs": [
    {
     "data": {
      "text/plain": [
       "(2, 2)"
      ]
     },
     "execution_count": 38,
     "metadata": {},
     "output_type": "execute_result"
    }
   ],
   "source": [
    "divmod(12,5) #Result( / , % )"
   ]
  },
  {
   "cell_type": "code",
   "execution_count": 35,
   "id": "cadf1b3a-ad65-47c0-9f9a-09fbf8e15560",
   "metadata": {},
   "outputs": [
    {
     "data": {
      "text/plain": [
       "(2, 0)"
      ]
     },
     "execution_count": 35,
     "metadata": {},
     "output_type": "execute_result"
    }
   ],
   "source": [
    "divmod(8,4)"
   ]
  },
  {
   "cell_type": "markdown",
   "id": "7272f5a9-d0b4-4bd4-8bcb-88349966e28e",
   "metadata": {},
   "source": [
    "### round()"
   ]
  },
  {
   "cell_type": "code",
   "execution_count": 39,
   "id": "2dea34ee-5564-4de5-a49c-bf02197eabe4",
   "metadata": {},
   "outputs": [
    {
     "data": {
      "text/plain": [
       "3"
      ]
     },
     "execution_count": 39,
     "metadata": {},
     "output_type": "execute_result"
    }
   ],
   "source": [
    "round(2.7)"
   ]
  },
  {
   "cell_type": "raw",
   "id": "ecea4459-79e6-416f-8504-c3fc089002b1",
   "metadata": {},
   "source": [
    "{ .__doc__ }"
   ]
  },
  {
   "cell_type": "code",
   "execution_count": 41,
   "id": "9c5380ba-0d86-4595-9ec5-3de2113ade86",
   "metadata": {},
   "outputs": [
    {
     "data": {
      "text/plain": [
       "'Return the tuple (x//y, x%y).  Invariant: div*y + mod == x.'"
      ]
     },
     "execution_count": 41,
     "metadata": {},
     "output_type": "execute_result"
    }
   ],
   "source": [
    "divmod.__doc__"
   ]
  },
  {
   "cell_type": "code",
   "execution_count": 42,
   "id": "a036b641-0b87-4899-9be3-2464163f48e2",
   "metadata": {},
   "outputs": [
    {
     "data": {
      "text/plain": [
       "'Return the absolute value of the argument.'"
      ]
     },
     "execution_count": 42,
     "metadata": {},
     "output_type": "execute_result"
    }
   ],
   "source": [
    "abs.__doc__"
   ]
  },
  {
   "cell_type": "markdown",
   "id": "cd6374c9-de29-4523-83fc-7f0191986360",
   "metadata": {},
   "source": [
    "### math.trunc()"
   ]
  },
  {
   "cell_type": "code",
   "execution_count": 58,
   "id": "67ba0b2b-0ac7-46aa-9cea-01ab4e345c78",
   "metadata": {},
   "outputs": [
    {
     "data": {
      "text/plain": [
       "2"
      ]
     },
     "execution_count": 58,
     "metadata": {},
     "output_type": "execute_result"
    }
   ],
   "source": [
    "math.trunc(2.332)"
   ]
  },
  {
   "cell_type": "markdown",
   "id": "be191f7e-9baf-45ca-949d-3c6232022e29",
   "metadata": {},
   "source": [
    " ### math.floor()"
   ]
  },
  {
   "cell_type": "code",
   "execution_count": 57,
   "id": "c7d1b252-5abf-4fcc-ae62-2bd04902c0c8",
   "metadata": {},
   "outputs": [
    {
     "data": {
      "text/plain": [
       "2"
      ]
     },
     "execution_count": 57,
     "metadata": {},
     "output_type": "execute_result"
    }
   ],
   "source": [
    "math.floor(2.3)"
   ]
  },
  {
   "cell_type": "markdown",
   "id": "e2620b06-eab7-493c-8743-aa2a0ecf0957",
   "metadata": {},
   "source": [
    "### math.ceil()"
   ]
  },
  {
   "cell_type": "code",
   "execution_count": 62,
   "id": "096cbb32-75e1-44c8-b2b6-93ed672be4d1",
   "metadata": {},
   "outputs": [
    {
     "data": {
      "text/plain": [
       "4"
      ]
     },
     "execution_count": 62,
     "metadata": {},
     "output_type": "execute_result"
    }
   ],
   "source": [
    "math.ceil(3.2)"
   ]
  },
  {
   "cell_type": "markdown",
   "id": "ad1c44f7-1020-4365-851b-a2683176bb7a",
   "metadata": {},
   "source": [
    "### math.factorial()"
   ]
  },
  {
   "cell_type": "code",
   "execution_count": 66,
   "id": "435f5f3d-a684-40ba-b59e-c2eb5e4aa0f2",
   "metadata": {},
   "outputs": [
    {
     "data": {
      "text/plain": [
       "24"
      ]
     },
     "execution_count": 66,
     "metadata": {},
     "output_type": "execute_result"
    }
   ],
   "source": [
    "math.factorial(4)"
   ]
  },
  {
   "cell_type": "markdown",
   "id": "8b6be0fc-02e5-4af1-9d0f-9fd281f04e1f",
   "metadata": {},
   "source": [
    "### math.log2() , math.log10() , math.log()"
   ]
  },
  {
   "cell_type": "code",
   "execution_count": 68,
   "id": "758558b8-3463-417a-b1c2-4fa3f7749f50",
   "metadata": {},
   "outputs": [
    {
     "data": {
      "text/plain": [
       "5.0"
      ]
     },
     "execution_count": 68,
     "metadata": {},
     "output_type": "execute_result"
    }
   ],
   "source": [
    "math.log2(32)"
   ]
  },
  {
   "cell_type": "code",
   "execution_count": 69,
   "id": "c2fb584f-7d02-4c38-80c0-804500bcc7ed",
   "metadata": {},
   "outputs": [
    {
     "data": {
      "text/plain": [
       "2.0"
      ]
     },
     "execution_count": 69,
     "metadata": {},
     "output_type": "execute_result"
    }
   ],
   "source": [
    "math.log10(100)"
   ]
  },
  {
   "cell_type": "markdown",
   "id": "e0f68374-9b4e-4a13-b2ba-bb457e5860fe",
   "metadata": {},
   "source": [
    "### math.e"
   ]
  },
  {
   "cell_type": "code",
   "execution_count": 70,
   "id": "574a2d65-3325-40e6-89fa-2d2b773055b4",
   "metadata": {},
   "outputs": [
    {
     "data": {
      "text/plain": [
       "2.718281828459045"
      ]
     },
     "execution_count": 70,
     "metadata": {},
     "output_type": "execute_result"
    }
   ],
   "source": [
    "math.e"
   ]
  },
  {
   "cell_type": "code",
   "execution_count": 71,
   "id": "aca04bff-16b4-4580-a4ea-a508cfcbc6ae",
   "metadata": {},
   "outputs": [
    {
     "data": {
      "text/plain": [
       "3.4657359027997265"
      ]
     },
     "execution_count": 71,
     "metadata": {},
     "output_type": "execute_result"
    }
   ],
   "source": [
    "math.log(32)"
   ]
  },
  {
   "cell_type": "markdown",
   "id": "068f0a72-2f2c-4ae8-adb4-9ba79cf08150",
   "metadata": {},
   "source": [
    "### math.cos() , math.sin()"
   ]
  },
  {
   "cell_type": "code",
   "execution_count": 72,
   "id": "44fce964-697a-4082-b1ce-094174b922d0",
   "metadata": {},
   "outputs": [
    {
     "data": {
      "text/plain": [
       "0.28366218546322625"
      ]
     },
     "execution_count": 72,
     "metadata": {},
     "output_type": "execute_result"
    }
   ],
   "source": [
    "math.cos(5)"
   ]
  },
  {
   "cell_type": "code",
   "execution_count": 73,
   "id": "8ee088f2-d28a-48c2-a6f0-f8ebd8eaa739",
   "metadata": {},
   "outputs": [
    {
     "data": {
      "text/plain": [
       "-0.9589242746631385"
      ]
     },
     "execution_count": 73,
     "metadata": {},
     "output_type": "execute_result"
    }
   ],
   "source": [
    "math.sin(5)"
   ]
  },
  {
   "cell_type": "markdown",
   "id": "ae7df085-63c0-42a2-ac85-20feb0596237",
   "metadata": {},
   "source": [
    "### math.gcd() #B.m.m"
   ]
  },
  {
   "cell_type": "code",
   "execution_count": 75,
   "id": "d247ac7e-da31-4952-9249-faddf3876ba7",
   "metadata": {},
   "outputs": [
    {
     "data": {
      "text/plain": [
       "2"
      ]
     },
     "execution_count": 75,
     "metadata": {},
     "output_type": "execute_result"
    }
   ],
   "source": [
    "math.gcd(30,4)"
   ]
  },
  {
   "cell_type": "markdown",
   "id": "41500750-81de-45c0-8a59-1c87eb610bc5",
   "metadata": {},
   "source": [
    "### math.pi"
   ]
  },
  {
   "cell_type": "code",
   "execution_count": 80,
   "id": "37d61245-f33f-4a76-be4c-2d0011609f87",
   "metadata": {},
   "outputs": [
    {
     "name": "stdout",
     "output_type": "stream",
     "text": [
      "3.14\n"
     ]
    }
   ],
   "source": [
    "math.pi\n",
    "print(f\"{math.pi :.2f}\")"
   ]
  },
  {
   "cell_type": "markdown",
   "id": "66d01bb0-84c5-460b-8bba-f78409f8bb01",
   "metadata": {},
   "source": [
    "### random.randint()"
   ]
  },
  {
   "cell_type": "code",
   "execution_count": 81,
   "id": "4cf40852-cec6-4315-b44f-7c9489185792",
   "metadata": {},
   "outputs": [],
   "source": [
    "import random"
   ]
  },
  {
   "cell_type": "code",
   "execution_count": 94,
   "id": "286867d8-eac2-42d5-a112-06ac73f7e0c0",
   "metadata": {},
   "outputs": [
    {
     "data": {
      "text/plain": [
       "4"
      ]
     },
     "execution_count": 94,
     "metadata": {},
     "output_type": "execute_result"
    }
   ],
   "source": [
    "random.randint(1,5)\n"
   ]
  },
  {
   "cell_type": "markdown",
   "id": "0bb06bb0-80fd-4edb-b13e-cc9fcf130be1",
   "metadata": {},
   "source": [
    "### random.choice([ ])"
   ]
  },
  {
   "cell_type": "code",
   "execution_count": 92,
   "id": "20cc457c-3a0e-4f05-af22-1419e73054d7",
   "metadata": {},
   "outputs": [
    {
     "data": {
      "text/plain": [
       "2"
      ]
     },
     "execution_count": 92,
     "metadata": {},
     "output_type": "execute_result"
    }
   ],
   "source": [
    "random.choice([1,2,5])"
   ]
  },
  {
   "cell_type": "markdown",
   "id": "e37a72cb-b8aa-49a4-831e-7957fe120502",
   "metadata": {},
   "source": [
    "### random.shuffle()"
   ]
  },
  {
   "cell_type": "code",
   "execution_count": 116,
   "id": "185bdd22-0bf6-401f-ba00-72e710615dbf",
   "metadata": {},
   "outputs": [
    {
     "name": "stdout",
     "output_type": "stream",
     "text": [
      "[1, 2, 3, 4, 5, 6]\n",
      "[1, 6, 5, 4, 2, 3]\n"
     ]
    }
   ],
   "source": [
    "list1 = [1,2,3,4,5,6]\n",
    "print(list1)\n",
    "random.shuffle(list1)\n",
    "print(list1)"
   ]
  },
  {
   "cell_type": "markdown",
   "id": "9701f442-6fca-445f-bde6-1bb6a4431ba7",
   "metadata": {},
   "source": [
    "### datetime.now()"
   ]
  },
  {
   "cell_type": "code",
   "execution_count": 127,
   "id": "901638c9-8585-447c-a066-5d98de1de9ef",
   "metadata": {},
   "outputs": [
    {
     "name": "stdout",
     "output_type": "stream",
     "text": [
      "2023-12-24 03:55:50.216145\n",
      "2023\n",
      "24\n"
     ]
    }
   ],
   "source": [
    "import datetime\n",
    "now = datetime.datetime.now()\n",
    "print(now)\n",
    "print(now.year)\n",
    "print(now.day)"
   ]
  },
  {
   "cell_type": "markdown",
   "id": "82140314-c44c-42f7-b046-d16d5202725a",
   "metadata": {},
   "source": [
    "### sys.version , sys.platform"
   ]
  },
  {
   "cell_type": "code",
   "execution_count": 132,
   "id": "8f64da61-cf61-4f97-aaa8-57058477a976",
   "metadata": {},
   "outputs": [
    {
     "name": "stdout",
     "output_type": "stream",
     "text": [
      "3.10.12 (main, Nov 20 2023, 15:14:05) [GCC 11.4.0]\n",
      "linux\n"
     ]
    }
   ],
   "source": [
    "import sys\n",
    "print(sys.version)\n",
    "print(sys.platform)"
   ]
  },
  {
   "cell_type": "markdown",
   "id": "a00915ba-c226-4ecc-8864-2e38d24b5e4b",
   "metadata": {},
   "source": [
    "### platform.release()"
   ]
  },
  {
   "cell_type": "code",
   "execution_count": 133,
   "id": "1baac60d-718e-44b4-96c1-ab1c3515cbf1",
   "metadata": {},
   "outputs": [
    {
     "data": {
      "text/plain": [
       "'5.15.133.1-microsoft-standard-WSL2'"
      ]
     },
     "execution_count": 133,
     "metadata": {},
     "output_type": "execute_result"
    }
   ],
   "source": [
    "import platform \n",
    "platform.release()"
   ]
  },
  {
   "cell_type": "markdown",
   "id": "32afd655-d528-4a4f-9bd4-d950e921a45b",
   "metadata": {},
   "source": [
    "### os.getcwd()"
   ]
  },
  {
   "cell_type": "code",
   "execution_count": 138,
   "id": "152b5a62-8289-496e-88fc-cbf333b7f359",
   "metadata": {},
   "outputs": [
    {
     "data": {
      "text/plain": [
       "'/home/moepc/Project/PythonShirAfkan'"
      ]
     },
     "execution_count": 138,
     "metadata": {},
     "output_type": "execute_result"
    }
   ],
   "source": [
    "import os\n",
    "os.getcwd()"
   ]
  }
 ],
 "metadata": {
  "kernelspec": {
   "display_name": "Python 3 (ipykernel)",
   "language": "python",
   "name": "python3"
  },
  "language_info": {
   "codemirror_mode": {
    "name": "ipython",
    "version": 3
   },
   "file_extension": ".py",
   "mimetype": "text/x-python",
   "name": "python",
   "nbconvert_exporter": "python",
   "pygments_lexer": "ipython3",
   "version": "3.10.12"
  }
 },
 "nbformat": 4,
 "nbformat_minor": 5
}
