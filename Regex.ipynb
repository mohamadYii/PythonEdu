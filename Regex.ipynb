{
 "cells": [
  {
   "cell_type": "markdown",
   "id": "fb350584-e048-4fa0-ad74-d9fac5e128e8",
   "metadata": {},
   "source": [
    "## Regular Expressions"
   ]
  },
  {
   "cell_type": "markdown",
   "id": "34eb58bc-2a52-4802-907e-f9624c94cc5a",
   "metadata": {},
   "source": [
    "### search()"
   ]
  },
  {
   "cell_type": "code",
   "execution_count": null,
   "id": "d156fc93-fc80-4f94-8e08-03dcc8baebbe",
   "metadata": {},
   "outputs": [],
   "source": [
    "\n",
    "\n",
    "import re\n",
    "\n",
    "txt = 'python is a programming language.'\n",
    "\n",
    "m = re.search('programming',txt)\n",
    "print(m)"
   ]
  },
  {
   "cell_type": "code",
   "execution_count": 4,
   "id": "3ab02f02-5366-4647-a01f-37bc432f5b78",
   "metadata": {},
   "outputs": [
    {
     "name": "stdout",
     "output_type": "stream",
     "text": [
      "<re.Match object; span=(0, 6), match='python'>\n"
     ]
    }
   ],
   "source": [
    "m = re.search('python',txt)\n",
    "print(m)"
   ]
  },
  {
   "cell_type": "code",
   "execution_count": 8,
   "id": "f05e9679-e16c-4fe7-9273-9c789a319828",
   "metadata": {},
   "outputs": [
    {
     "name": "stdout",
     "output_type": "stream",
     "text": [
      "<re.Match object; span=(0, 6), match='python'>\n"
     ]
    }
   ],
   "source": [
    "m = re.search('^python',txt)  # txt start with python when we use ^\n",
    "print(m)"
   ]
  },
  {
   "cell_type": "code",
   "execution_count": 11,
   "id": "706c433a-59af-4b2a-8f91-3b51c4833cfc",
   "metadata": {},
   "outputs": [
    {
     "name": "stdout",
     "output_type": "stream",
     "text": [
      "<re.Match object; span=(24, 33), match='language.'>\n"
     ]
    }
   ],
   "source": [
    "m = re.search('language.$',txt)  # txt end with python when we use ^\n",
    "print(m)"
   ]
  },
  {
   "cell_type": "code",
   "execution_count": 16,
   "id": "586079f0-610c-40f9-98b8-e15c757c8ae6",
   "metadata": {},
   "outputs": [
    {
     "name": "stdout",
     "output_type": "stream",
     "text": [
      "<re.Match object; span=(6, 25), match='number 091212123344'>\n",
      "number 091212123344\n",
      "<re.Match object; span=(6, 25), match='number 091212123344'>\n",
      "091212123344\n"
     ]
    }
   ],
   "source": [
    "x = 'phone number 091212123344 and another number 02122344455 number.'\n",
    "\n",
    "m = re.search('number \\d+',x) # \\d => first digit  \\d+ digits\n",
    "print(m)\n",
    "print(m.group(0))\n",
    "\n",
    "\n",
    "m2 = re.search('number (\\d+)',x)\n",
    "print(m2)\n",
    "print(m2.group(1))"
   ]
  },
  {
   "cell_type": "markdown",
   "id": "fb9c4999-00e8-4ced-ab7d-94ad4b63fb27",
   "metadata": {},
   "source": [
    "### findall()"
   ]
  },
  {
   "cell_type": "code",
   "execution_count": 17,
   "id": "e559f99e-cdb9-46f8-988f-755bccf48811",
   "metadata": {},
   "outputs": [
    {
     "name": "stdout",
     "output_type": "stream",
     "text": [
      "['091212123344', '02122344455']\n",
      "['number 091212123344', 'number 02122344455']\n"
     ]
    }
   ],
   "source": [
    "print(re.findall('\\d+', x))      \n",
    "\n",
    "print(re.findall('\\w+ \\d+', x))  "
   ]
  },
  {
   "cell_type": "code",
   "execution_count": 24,
   "id": "469fc5a5-b1b7-435d-bda7-a76ce40c7aa9",
   "metadata": {},
   "outputs": [
    {
     "name": "stdout",
     "output_type": "stream",
     "text": [
      "ali@gmail.com\n",
      "['ali@gmail.com', 'sara@yahoo.com']\n"
     ]
    }
   ],
   "source": [
    "e = 'From ali@gmail.com to sara@yahoo.com'\n",
    "words = e.split()\n",
    "print(words[1])\n",
    "\n",
    "print(re.findall('\\S+@\\S+',e))  # for split word =>> \\S its mean show everythings without space"
   ]
  },
  {
   "cell_type": "markdown",
   "id": "09dc414e-5f43-4623-9b3d-0e0ff8b70229",
   "metadata": {},
   "source": [
    "### sub()"
   ]
  },
  {
   "cell_type": "code",
   "execution_count": 25,
   "id": "18afcb46-4984-4b8d-88b4-8054791531db",
   "metadata": {},
   "outputs": [
    {
     "name": "stdout",
     "output_type": "stream",
     "text": [
      "Python_is_a_programming_language.\n",
      "aaaaaa aa a aaaaaaaaaaa aaaaaaaaa\n",
      "Python_is_a programming language.\n"
     ]
    }
   ],
   "source": [
    "txt = 'Python is a programming language.'\n",
    "\n",
    "print(re.sub('\\s', '_', txt)) # \\s => space\n",
    "print(re.sub('\\S', 'a', txt)) \n",
    "print(re.sub('\\s', '_', txt, 2)) "
   ]
  },
  {
   "cell_type": "code",
   "execution_count": 28,
   "id": "5e8884b2-42cf-456f-a797-734c0c0d5555",
   "metadata": {},
   "outputs": [
    {
     "name": "stdout",
     "output_type": "stream",
     "text": [
      "****-***-*****\n",
      "0912#197#12345\n"
     ]
    }
   ],
   "source": [
    "phone = '0912-197-12345'\n",
    "print(re.sub('\\d', '*', phone))  \n",
    "print(re.sub('\\D', '#', phone)) \n"
   ]
  },
  {
   "cell_type": "markdown",
   "id": "4e5bd3da-a87b-474e-8512-b503ee9eccc5",
   "metadata": {},
   "source": [
    "### finditer()"
   ]
  },
  {
   "cell_type": "code",
   "execution_count": 30,
   "id": "4c789253-0a9c-4e0a-9ede-3ceec0a96fd0",
   "metadata": {},
   "outputs": [
    {
     "name": "stdout",
     "output_type": "stream",
     "text": [
      "7 16 carefully\n",
      "40 47 quickly\n"
     ]
    }
   ],
   "source": [
    "text = \"He was carefully disguised but captured quickly by police.\"\n",
    "fi = re.finditer(r\"\\w+ly\", text)\n",
    "for m in fi:\n",
    "     print(m.start(), m.end(), m.group(0))"
   ]
  },
  {
   "cell_type": "code",
   "execution_count": null,
   "id": "3e1bda71-af41-47a1-900c-5c74d3a30dff",
   "metadata": {},
   "outputs": [],
   "source": []
  }
 ],
 "metadata": {
  "kernelspec": {
   "display_name": "Python 3 (ipykernel)",
   "language": "python",
   "name": "python3"
  },
  "language_info": {
   "codemirror_mode": {
    "name": "ipython",
    "version": 3
   },
   "file_extension": ".py",
   "mimetype": "text/x-python",
   "name": "python",
   "nbconvert_exporter": "python",
   "pygments_lexer": "ipython3",
   "version": "3.10.12"
  }
 },
 "nbformat": 4,
 "nbformat_minor": 5
}
