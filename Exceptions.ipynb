{
 "cells": [
  {
   "cell_type": "markdown",
   "id": "01e07528-f7ff-4e25-a0a9-675b4c5b3ed6",
   "metadata": {},
   "source": [
    "## Exception"
   ]
  },
  {
   "cell_type": "markdown",
   "id": "09b60d43-ca6a-4f19-a97c-b696e4d8d904",
   "metadata": {},
   "source": [
    "### NameError:"
   ]
  },
  {
   "cell_type": "code",
   "execution_count": 4,
   "id": "785356c0-47be-4d73-ad8f-8b38d7760b4c",
   "metadata": {},
   "outputs": [
    {
     "ename": "NameError",
     "evalue": "name 'a' is not defined",
     "output_type": "error",
     "traceback": [
      "\u001b[0;31m---------------------------------------------------------------------------\u001b[0m",
      "\u001b[0;31mNameError\u001b[0m                                 Traceback (most recent call last)",
      "Cell \u001b[0;32mIn[4], line 1\u001b[0m\n\u001b[0;32m----> 1\u001b[0m \u001b[38;5;28mprint\u001b[39m(\u001b[43ma\u001b[49m)\n",
      "\u001b[0;31mNameError\u001b[0m: name 'a' is not defined"
     ]
    }
   ],
   "source": [
    "print(a)"
   ]
  },
  {
   "cell_type": "markdown",
   "id": "451e90c0-509f-4512-8c9d-2bde1af00c2a",
   "metadata": {},
   "source": [
    "### TypeError:"
   ]
  },
  {
   "cell_type": "code",
   "execution_count": 11,
   "id": "90c4de89-ea3b-41ef-90b2-6d3dca541564",
   "metadata": {},
   "outputs": [
    {
     "ename": "TypeError",
     "evalue": "can only concatenate str (not \"int\") to str",
     "output_type": "error",
     "traceback": [
      "\u001b[0;31m---------------------------------------------------------------------------\u001b[0m",
      "\u001b[0;31mTypeError\u001b[0m                                 Traceback (most recent call last)",
      "Cell \u001b[0;32mIn[11], line 2\u001b[0m\n\u001b[1;32m      1\u001b[0m s \u001b[38;5;241m=\u001b[39m \u001b[38;5;124m\"\u001b[39m\u001b[38;5;124mMoe\u001b[39m\u001b[38;5;124m\"\u001b[39m\n\u001b[0;32m----> 2\u001b[0m \u001b[38;5;28mprint\u001b[39m(\u001b[43ms\u001b[49m\u001b[38;5;241;43m+\u001b[39;49m\u001b[38;5;241;43m2\u001b[39;49m)\n",
      "\u001b[0;31mTypeError\u001b[0m: can only concatenate str (not \"int\") to str"
     ]
    }
   ],
   "source": [
    "s = \"Moe\"\n",
    "print(s+2)"
   ]
  },
  {
   "cell_type": "markdown",
   "id": "feeb20de-1e23-46aa-826b-7e24546c0508",
   "metadata": {},
   "source": [
    "### AttributeError:"
   ]
  },
  {
   "cell_type": "code",
   "execution_count": 6,
   "id": "923e5f4c-5ee5-451a-862a-7561c4531e4e",
   "metadata": {},
   "outputs": [
    {
     "ename": "AttributeError",
     "evalue": "'str' object has no attribute 'append'",
     "output_type": "error",
     "traceback": [
      "\u001b[0;31m---------------------------------------------------------------------------\u001b[0m",
      "\u001b[0;31mAttributeError\u001b[0m                            Traceback (most recent call last)",
      "Cell \u001b[0;32mIn[6], line 1\u001b[0m\n\u001b[0;32m----> 1\u001b[0m \u001b[43ms\u001b[49m\u001b[38;5;241;43m.\u001b[39;49m\u001b[43mappend\u001b[49m(\u001b[38;5;124m'\u001b[39m\u001b[38;5;124mmoe\u001b[39m\u001b[38;5;124m'\u001b[39m) \u001b[38;5;66;03m# cuz its not list\u001b[39;00m\n",
      "\u001b[0;31mAttributeError\u001b[0m: 'str' object has no attribute 'append'"
     ]
    }
   ],
   "source": [
    "s.append('moe') # cuz its not list"
   ]
  },
  {
   "cell_type": "markdown",
   "id": "d55cd432-af2f-4025-94e3-1887fbeec5d5",
   "metadata": {},
   "source": [
    "### IndexError:"
   ]
  },
  {
   "cell_type": "code",
   "execution_count": 9,
   "id": "4d5cb1ce-57fc-4044-acfc-2e13418d7a2a",
   "metadata": {},
   "outputs": [
    {
     "ename": "IndexError",
     "evalue": "list index out of range",
     "output_type": "error",
     "traceback": [
      "\u001b[0;31m---------------------------------------------------------------------------\u001b[0m",
      "\u001b[0;31mIndexError\u001b[0m                                Traceback (most recent call last)",
      "Cell \u001b[0;32mIn[9], line 2\u001b[0m\n\u001b[1;32m      1\u001b[0m lst \u001b[38;5;241m=\u001b[39m [\u001b[38;5;241m15\u001b[39m,\u001b[38;5;241m20\u001b[39m,\u001b[38;5;241m17\u001b[39m]\n\u001b[0;32m----> 2\u001b[0m \u001b[38;5;28mprint\u001b[39m(\u001b[43mlst\u001b[49m\u001b[43m[\u001b[49m\u001b[38;5;241;43m3\u001b[39;49m\u001b[43m]\u001b[49m)\n",
      "\u001b[0;31mIndexError\u001b[0m: list index out of range"
     ]
    }
   ],
   "source": [
    "lst = [15,20,17]\n",
    "print(lst[3])"
   ]
  },
  {
   "cell_type": "markdown",
   "id": "549e3aca-4921-446b-b4ba-62f9351a3c85",
   "metadata": {},
   "source": [
    "### KeyError:"
   ]
  },
  {
   "cell_type": "code",
   "execution_count": 12,
   "id": "d476385b-aa14-4c78-a9ba-db13fdb9c11b",
   "metadata": {},
   "outputs": [
    {
     "ename": "KeyError",
     "evalue": "'f'",
     "output_type": "error",
     "traceback": [
      "\u001b[0;31m---------------------------------------------------------------------------\u001b[0m",
      "\u001b[0;31mKeyError\u001b[0m                                  Traceback (most recent call last)",
      "Cell \u001b[0;32mIn[12], line 2\u001b[0m\n\u001b[1;32m      1\u001b[0m d \u001b[38;5;241m=\u001b[39m {\u001b[38;5;124m'\u001b[39m\u001b[38;5;124ma\u001b[39m\u001b[38;5;124m'\u001b[39m : \u001b[38;5;241m5\u001b[39m , \u001b[38;5;124m'\u001b[39m\u001b[38;5;124mb\u001b[39m\u001b[38;5;124m'\u001b[39m : \u001b[38;5;241m6\u001b[39m}\n\u001b[0;32m----> 2\u001b[0m \u001b[38;5;28mprint\u001b[39m(\u001b[43md\u001b[49m\u001b[43m[\u001b[49m\u001b[38;5;124;43m'\u001b[39;49m\u001b[38;5;124;43mf\u001b[39;49m\u001b[38;5;124;43m'\u001b[39;49m\u001b[43m]\u001b[49m)\n",
      "\u001b[0;31mKeyError\u001b[0m: 'f'"
     ]
    }
   ],
   "source": [
    "d = {'a' : 5 , 'b' : 6}\n",
    "print(d['f'])"
   ]
  },
  {
   "cell_type": "markdown",
   "id": "0f7b57ae-7fab-402d-9d5f-77684e0ef12a",
   "metadata": {},
   "source": [
    "### ZeroDivisionError:"
   ]
  },
  {
   "cell_type": "code",
   "execution_count": 13,
   "id": "a4b666b5-d254-4d42-b27f-65ff9c1aaf08",
   "metadata": {},
   "outputs": [
    {
     "ename": "ZeroDivisionError",
     "evalue": "division by zero",
     "output_type": "error",
     "traceback": [
      "\u001b[0;31m---------------------------------------------------------------------------\u001b[0m",
      "\u001b[0;31mZeroDivisionError\u001b[0m                         Traceback (most recent call last)",
      "Cell \u001b[0;32mIn[13], line 1\u001b[0m\n\u001b[0;32m----> 1\u001b[0m x \u001b[38;5;241m=\u001b[39m \u001b[38;5;241;43m8\u001b[39;49m\u001b[38;5;241;43m/\u001b[39;49m\u001b[38;5;241;43m0\u001b[39;49m\n",
      "\u001b[0;31mZeroDivisionError\u001b[0m: division by zero"
     ]
    }
   ],
   "source": [
    "x = 8/0"
   ]
  },
  {
   "cell_type": "markdown",
   "id": "24024904-d8e7-4fb7-a8a2-5e11b5bf3a2b",
   "metadata": {},
   "source": [
    "### ValueError:"
   ]
  },
  {
   "cell_type": "code",
   "execution_count": 20,
   "id": "960747e3-9ff4-4c3a-97e5-e6052c2909bf",
   "metadata": {},
   "outputs": [
    {
     "ename": "ValueError",
     "evalue": "invalid literal for int() with base 10: 'A'",
     "output_type": "error",
     "traceback": [
      "\u001b[0;31m---------------------------------------------------------------------------\u001b[0m",
      "\u001b[0;31mValueError\u001b[0m                                Traceback (most recent call last)",
      "Cell \u001b[0;32mIn[20], line 1\u001b[0m\n\u001b[0;32m----> 1\u001b[0m \u001b[38;5;28mprint\u001b[39m(\u001b[38;5;28;43mint\u001b[39;49m\u001b[43m(\u001b[49m\u001b[38;5;124;43m'\u001b[39;49m\u001b[38;5;124;43mA\u001b[39;49m\u001b[38;5;124;43m'\u001b[39;49m\u001b[43m)\u001b[49m)\n",
      "\u001b[0;31mValueError\u001b[0m: invalid literal for int() with base 10: 'A'"
     ]
    }
   ],
   "source": [
    "print(int('A'))"
   ]
  },
  {
   "cell_type": "code",
   "execution_count": 15,
   "id": "db29ec1c-cfd7-4c80-a65e-efca028daa87",
   "metadata": {},
   "outputs": [
    {
     "name": "stdout",
     "output_type": "stream",
     "text": [
      "Error\n",
      "hello\n"
     ]
    }
   ],
   "source": [
    "try:\n",
    "    print(k)\n",
    "except NameError:\n",
    "    print('Error')\n",
    "print(\"hello\")"
   ]
  },
  {
   "cell_type": "code",
   "execution_count": 16,
   "id": "427696e1-b8d8-47f2-9b31-5c884323a502",
   "metadata": {},
   "outputs": [
    {
     "name": "stdout",
     "output_type": "stream",
     "text": [
      "name 'k' is not defined\n",
      "hello\n"
     ]
    }
   ],
   "source": [
    "try:\n",
    "    print(k)\n",
    "except NameError as er:\n",
    "    print(er)\n",
    "print(\"hello\")"
   ]
  },
  {
   "cell_type": "code",
   "execution_count": 19,
   "id": "38ffdb8e-15b9-43eb-9fd2-d162e507d3fa",
   "metadata": {},
   "outputs": [
    {
     "name": "stdout",
     "output_type": "stream",
     "text": [
      "division by zero\n"
     ]
    }
   ],
   "source": [
    "try:\n",
    "    x = 8 / 0\n",
    "except ZeroDivisionError as er:\n",
    "    print(er)\n",
    "else:\n",
    "    print(x)"
   ]
  },
  {
   "cell_type": "code",
   "execution_count": 21,
   "id": "ac5f17bc-b22c-4572-bdf5-35da0d795afd",
   "metadata": {},
   "outputs": [
    {
     "name": "stdout",
     "output_type": "stream",
     "text": [
      "23\n"
     ]
    }
   ],
   "source": [
    "s = '23'\n",
    "try:\n",
    "    i = int(s)\n",
    "except ValueError:\n",
    "    i = -1\n",
    "print(i)"
   ]
  },
  {
   "cell_type": "markdown",
   "id": "dc008302-5bb3-4a85-a1f8-2d8385f997db",
   "metadata": {},
   "source": [
    "### raise"
   ]
  },
  {
   "cell_type": "code",
   "execution_count": 26,
   "id": "07bed9a3-4530-40e1-9d9e-76c655a00a98",
   "metadata": {},
   "outputs": [
    {
     "name": "stdout",
     "output_type": "stream",
     "text": [
      "4.0\n",
      "enter a number other then 0\n",
      "enter a number other then 0\n"
     ]
    },
    {
     "ename": "ValueError",
     "evalue": "unlucky number",
     "output_type": "error",
     "traceback": [
      "\u001b[0;31m---------------------------------------------------------------------------\u001b[0m",
      "\u001b[0;31mValueError\u001b[0m                                Traceback (most recent call last)",
      "Cell \u001b[0;32mIn[26], line 13\u001b[0m\n\u001b[1;32m     11\u001b[0m \u001b[38;5;28mprint\u001b[39m(f(\u001b[38;5;241m0\u001b[39m))\n\u001b[1;32m     12\u001b[0m \u001b[38;5;28mprint\u001b[39m(f(\u001b[38;5;124m'\u001b[39m\u001b[38;5;124ma\u001b[39m\u001b[38;5;124m'\u001b[39m))\n\u001b[0;32m---> 13\u001b[0m \u001b[38;5;28mprint\u001b[39m(\u001b[43mf\u001b[49m\u001b[43m(\u001b[49m\u001b[38;5;241;43m13\u001b[39;49m\u001b[43m)\u001b[49m)\n",
      "Cell \u001b[0;32mIn[26], line 4\u001b[0m, in \u001b[0;36mf\u001b[0;34m(n)\u001b[0m\n\u001b[1;32m      2\u001b[0m \u001b[38;5;28;01mtry\u001b[39;00m:\n\u001b[1;32m      3\u001b[0m     \u001b[38;5;28;01mif\u001b[39;00m n \u001b[38;5;241m==\u001b[39m \u001b[38;5;241m13\u001b[39m:\n\u001b[0;32m----> 4\u001b[0m         \u001b[38;5;28;01mraise\u001b[39;00m \u001b[38;5;167;01mValueError\u001b[39;00m(\u001b[38;5;124m'\u001b[39m\u001b[38;5;124munlucky number\u001b[39m\u001b[38;5;124m'\u001b[39m)\n\u001b[1;32m      5\u001b[0m     \u001b[38;5;28;01mreturn\u001b[39;00m \u001b[38;5;241m20\u001b[39m\u001b[38;5;241m/\u001b[39mn\n\u001b[1;32m      6\u001b[0m \u001b[38;5;28;01mexcept\u001b[39;00m (\u001b[38;5;167;01mZeroDivisionError\u001b[39;00m , \u001b[38;5;167;01mTypeError\u001b[39;00m):\n",
      "\u001b[0;31mValueError\u001b[0m: unlucky number"
     ]
    }
   ],
   "source": [
    "def f(n):\n",
    "    try:\n",
    "        if n == 13:\n",
    "            raise ValueError('unlucky number')\n",
    "        return 20/n\n",
    "    except (ZeroDivisionError , TypeError):\n",
    "        return \"enter a number other then 0\"\n",
    "\n",
    "\n",
    "print(f(5))\n",
    "print(f(0))\n",
    "print(f('a'))\n",
    "print(f(13))"
   ]
  },
  {
   "cell_type": "markdown",
   "id": "778b6fe0-d472-42ca-92dc-75406b90295e",
   "metadata": {},
   "source": [
    "### Nested try_except"
   ]
  },
  {
   "cell_type": "code",
   "execution_count": 27,
   "id": "315c8bb6-7f6a-43d5-97da-6da5e5929144",
   "metadata": {},
   "outputs": [
    {
     "name": "stdout",
     "output_type": "stream",
     "text": [
      "division by zero\n"
     ]
    }
   ],
   "source": [
    "try:\n",
    "    print(5 / 0)\n",
    "    try:\n",
    "        print(n)\n",
    "    except NameError  as ne:\n",
    "        print(ne)\n",
    "except ZeroDivisionError as ze:    \n",
    "   print(ze)"
   ]
  },
  {
   "cell_type": "code",
   "execution_count": 28,
   "id": "acceb01d-3148-482f-8623-1813a5c9b26e",
   "metadata": {},
   "outputs": [
    {
     "name": "stdout",
     "output_type": "stream",
     "text": [
      "2.5\n",
      "name 'n' is not defined\n"
     ]
    }
   ],
   "source": [
    "try:\n",
    "    print(5 / 2)\n",
    "    try:\n",
    "        print(n)\n",
    "    except NameError  as ne:\n",
    "        print(ne)\n",
    "except ZeroDivisionError as ze:    \n",
    "   print(ze)"
   ]
  },
  {
   "cell_type": "markdown",
   "id": "0e717af0-f670-4ff7-9825-9977104771f5",
   "metadata": {},
   "source": [
    "### assert:"
   ]
  },
  {
   "cell_type": "code",
   "execution_count": 32,
   "id": "92b6830d-2dae-4327-ae9a-5299027a3a0e",
   "metadata": {},
   "outputs": [
    {
     "name": "stdin",
     "output_type": "stream",
     "text": [
      "enter: 20\n"
     ]
    },
    {
     "name": "stdout",
     "output_type": "stream",
     "text": [
      "40\n"
     ]
    }
   ],
   "source": [
    "try :\n",
    "    n = int(input('enter:'))\n",
    "    assert n % 2 == 0  \n",
    "    #if the condition  False its count like a error\n",
    "    # assert True => else..   assert False (error) => except\n",
    "except:\n",
    "    print('Not even')    \n",
    "else:\n",
    "    print( n * 2)    \n"
   ]
  },
  {
   "cell_type": "code",
   "execution_count": null,
   "id": "b501e8ca-19e0-490b-880f-c7f0f9ad77e3",
   "metadata": {},
   "outputs": [],
   "source": []
  }
 ],
 "metadata": {
  "kernelspec": {
   "display_name": "Python 3 (ipykernel)",
   "language": "python",
   "name": "python3"
  },
  "language_info": {
   "codemirror_mode": {
    "name": "ipython",
    "version": 3
   },
   "file_extension": ".py",
   "mimetype": "text/x-python",
   "name": "python",
   "nbconvert_exporter": "python",
   "pygments_lexer": "ipython3",
   "version": "3.10.12"
  }
 },
 "nbformat": 4,
 "nbformat_minor": 5
}
