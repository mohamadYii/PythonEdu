{
 "cells": [
  {
   "cell_type": "markdown",
   "id": "85700238-74ad-4d3e-8d25-02dfba901425",
   "metadata": {},
   "source": [
    "## Dictionary"
   ]
  },
  {
   "cell_type": "code",
   "execution_count": 29,
   "id": "800360bf-66e7-4184-9662-78872f24cda0",
   "metadata": {},
   "outputs": [
    {
     "name": "stdout",
     "output_type": "stream",
     "text": [
      "<class 'dict'>\n",
      "3\n",
      "arizo5\n"
     ]
    }
   ],
   "source": [
    "d = {\n",
    "     'brand' : 'cherry' , \n",
    "     'model' : 'arizo5' ,\n",
    "     'color' : 'white'\n",
    "     }\n",
    "\n",
    "print(type(d))   \n",
    "\n",
    "print(len(d))   \n",
    "\n",
    "d1 = dict( brand = 'cherry' , model='arizo5' , color = 'white')\n",
    "\n",
    "d['year'] = '2010'\n",
    "\n",
    "\n",
    "print( d['model']) \n"
   ]
  },
  {
   "cell_type": "markdown",
   "id": "cd2569c5-e315-4955-bf40-0a2823a83826",
   "metadata": {},
   "source": [
    "### .get()"
   ]
  },
  {
   "cell_type": "code",
   "execution_count": 4,
   "id": "2478e413-739e-4730-b8ef-d7fa0f26e182",
   "metadata": {},
   "outputs": [
    {
     "name": "stdout",
     "output_type": "stream",
     "text": [
      "arizo5\n",
      "None\n",
      "-1\n"
     ]
    }
   ],
   "source": [
    "x = d.get('model')\n",
    "print(x)           \n",
    "\n",
    "x = d.get('cylinder')\n",
    "print(x)           \n",
    "\n",
    "x = d.get('cylinder',-1)\n",
    "print(x)"
   ]
  },
  {
   "cell_type": "markdown",
   "id": "9ac162cd-cff5-4933-a1ee-2a2b4fa79502",
   "metadata": {},
   "source": [
    "### .key()  .value()  .items()"
   ]
  },
  {
   "cell_type": "code",
   "execution_count": 2,
   "id": "b4bacd23-d69a-4149-8349-c7e92a75525a",
   "metadata": {},
   "outputs": [
    {
     "name": "stdout",
     "output_type": "stream",
     "text": [
      "['brand', 'model', 'color']\n",
      "['cherry', 'arizo5', 'white']\n",
      "[('brand', 'cherry'), ('model', 'arizo5'), ('color', 'white')]\n"
     ]
    }
   ],
   "source": [
    "d = dict( brand = 'cherry' , model='arizo5' , color = 'white')\n",
    "print(list(d.keys()))   \n",
    "\n",
    "print(list(d.values()))  \n",
    "\n",
    "print(list(d.items())) "
   ]
  },
  {
   "cell_type": "code",
   "execution_count": 3,
   "id": "66c84014-06aa-491f-b690-a2971b6598ce",
   "metadata": {},
   "outputs": [
    {
     "name": "stdout",
     "output_type": "stream",
     "text": [
      "brand : cherry\n",
      "model : arizo5\n",
      "color : white\n"
     ]
    }
   ],
   "source": [
    "for k,v in d.items():\n",
    "    print(k,':',v)"
   ]
  },
  {
   "cell_type": "markdown",
   "id": "b2b507c7-b4a7-4192-9478-1e1b47f384db",
   "metadata": {},
   "source": [
    "### .pop() .popitem() .clear() del"
   ]
  },
  {
   "cell_type": "code",
   "execution_count": 30,
   "id": "8a4dda63-74b7-43ea-b00f-d138343eca92",
   "metadata": {},
   "outputs": [
    {
     "name": "stdout",
     "output_type": "stream",
     "text": [
      "{'brand': 'cherry', 'color': 'white', 'year': '2010'}\n",
      "{'brand': 'cherry', 'color': 'white'}\n",
      "{'brand': 'cherry'}\n",
      "{}\n"
     ]
    }
   ],
   "source": [
    "d.pop('model')    \n",
    "print(d)     \n",
    "\n",
    "d.popitem()\n",
    "print(d)    \n",
    "\n",
    "\n",
    "d.popitem()\n",
    "print(d)   \n",
    "\n",
    "d.clear()\n",
    "print(d)   \n",
    "\n",
    "del d"
   ]
  },
  {
   "cell_type": "code",
   "execution_count": 27,
   "id": "66949520-c118-40f0-8cd1-a028a594ce5f",
   "metadata": {},
   "outputs": [
    {
     "name": "stdout",
     "output_type": "stream",
     "text": [
      "{'x': 3, 'y': 2, 'z': 1}\n"
     ]
    }
   ],
   "source": [
    "a = ['x', 'y', 'x', 'z', 'y', 'x']\n",
    "d = {}\n",
    "\n",
    "for i in a :\n",
    "    if i not in d:\n",
    "        d[i] = 1\n",
    "    else:\n",
    "        d[i] += 1         \n",
    "print(d)           "
   ]
  },
  {
   "cell_type": "code",
   "execution_count": 26,
   "id": "dabbf755-a1b8-43bb-b83f-cbf13a6fbffb",
   "metadata": {},
   "outputs": [
    {
     "name": "stdout",
     "output_type": "stream",
     "text": [
      "{'x': 3, 'y': 2, 'z': 1}\n"
     ]
    }
   ],
   "source": [
    "d1 = {}\n",
    "for i in a:\n",
    "    d1[i] = d1.get(i,0) +1\n",
    "    \n",
    "print(d1)    \n",
    "\n",
    "d2 = d.copy()"
   ]
  },
  {
   "cell_type": "code",
   "execution_count": 31,
   "id": "67b0879b-379c-4ed2-9a1c-5e148ee4c734",
   "metadata": {},
   "outputs": [
    {
     "name": "stdout",
     "output_type": "stream",
     "text": [
      "{'a': 4, 'b': 2, 'f': 1, 'd': 1, 'c': 1}\n"
     ]
    }
   ],
   "source": [
    "s = 'abfabdcaa'\n",
    "d = {}\n",
    "for i in s:\n",
    "    d[i] = d.get(i,0) + 1\n",
    "    \n",
    "print(d) "
   ]
  },
  {
   "cell_type": "code",
   "execution_count": 33,
   "id": "2f190429-a595-42a4-b06e-8607d3e7ab0e",
   "metadata": {},
   "outputs": [
    {
     "name": "stdout",
     "output_type": "stream",
     "text": [
      "['a', 'dictionary', 'is', 'a', 'datastructure.']\n",
      "{'a': 2, 'dictionary': 1, 'is': 1, 'datastructure.': 1}\n"
     ]
    }
   ],
   "source": [
    "line ='a dictionary is a datastructure.'\n",
    "d = {}\n",
    "s = line.split()\n",
    "print(s) \n",
    "\n",
    "for i in s:\n",
    "    d[i] = d.get(i,0) + 1\n",
    "\n",
    "print(d)"
   ]
  },
  {
   "cell_type": "code",
   "execution_count": 34,
   "id": "c8974a69-a064-43cc-8cc4-c5acf0f8143e",
   "metadata": {},
   "outputs": [
    {
     "name": "stdout",
     "output_type": "stream",
     "text": [
      "9\n",
      "9\n"
     ]
    }
   ],
   "source": [
    "d = {'a': 4, 'b': 2, 'f': 1, 'd': 1, 'c': 1}\n",
    "\n",
    "s = 0\n",
    "for i in d:\n",
    "    s += d[i]\n",
    "print(s)\n",
    "\n",
    "# or\n",
    "print(sum(d.values())) "
   ]
  },
  {
   "cell_type": "markdown",
   "id": "b90582db-db1a-4390-a3c7-2e88f4725161",
   "metadata": {},
   "source": [
    "### .itemgetter() sorted()"
   ]
  },
  {
   "cell_type": "code",
   "execution_count": 36,
   "id": "8edd1497-f0b0-4f28-b19a-9c5d6322a1d9",
   "metadata": {},
   "outputs": [
    {
     "name": "stdout",
     "output_type": "stream",
     "text": [
      "# sort #\n",
      "[('f', 1), ('d', 1), ('c', 1), ('b', 2), ('a', 4)]\n",
      "[('a', 4), ('b', 2), ('c', 1), ('d', 1), ('f', 1)]\n"
     ]
    }
   ],
   "source": [
    "print('# sort #')\n",
    "d = {'a': 4, 'b': 2, 'f': 1, 'd': 1, 'c': 1}\n",
    "import operator\n",
    "k= operator.itemgetter(1)\n",
    "print(sorted(d.items(),key = k))\n",
    "\n",
    "k= operator.itemgetter(0)\n",
    "print(sorted(d.items(),key = k))"
   ]
  },
  {
   "cell_type": "code",
   "execution_count": 37,
   "id": "d994c535-3756-4c2b-aa53-65eb3d854a8e",
   "metadata": {},
   "outputs": [
    {
     "name": "stdout",
     "output_type": "stream",
     "text": [
      "{'ali': [8, 12, 13], 'sara': [7, 14, 15], 'taha': [5, 13, 18]}\n"
     ]
    }
   ],
   "source": [
    "num ={\n",
    "      'ali' : [12,13,8],\n",
    "      'sara': [15,7,14],\n",
    "      'taha': [5,18,13]     \n",
    "      }\n",
    "\n",
    "d = {k : sorted(v)  for k,v in num.items()}\n",
    "\n",
    "print(d)\n"
   ]
  },
  {
   "cell_type": "markdown",
   "id": "cbbaf7e9-8ac2-43af-9c66-c5450f2a5175",
   "metadata": {},
   "source": [
    "### .update()"
   ]
  },
  {
   "cell_type": "code",
   "execution_count": 39,
   "id": "6a3116cf-332e-4d07-9b7d-298313a22469",
   "metadata": {},
   "outputs": [
    {
     "name": "stdout",
     "output_type": "stream",
     "text": [
      "{'x': 3, 'y': 2, 'z': 1, 'w': 8, 't': 7}\n",
      "{'x': 3, 'y': 2, 'z': 1, 'w': 8, 't': 7}\n",
      "{'x': 3, 'y': 2, 'z': 1, 'w': 8, 't': 7}\n"
     ]
    }
   ],
   "source": [
    "d1 = {'x' : 3 , 'y': 2 , 'z':1}\n",
    "d2 = {'w' : 8 , 't': 7 }\n",
    "\n",
    "d = {}\n",
    "d = d1.copy()\n",
    "d.update(d2)\n",
    "print(d)\n",
    "\n",
    "# or\n",
    "d = {}\n",
    "for i in (d1,d2):\n",
    "    d.update(i)\n",
    "print(d)   \n",
    "\n",
    "# or\n",
    "d = {**d1 , **d2} \n",
    "print(d)"
   ]
  },
  {
   "cell_type": "markdown",
   "id": "47ef13af-b929-4059-ac81-02a1cad832ac",
   "metadata": {},
   "source": [
    "### Map two lists into a dict"
   ]
  },
  {
   "cell_type": "code",
   "execution_count": 41,
   "id": "d3b58dd4-9cf5-4845-a2ff-fe3e6337155f",
   "metadata": {},
   "outputs": [
    {
     "name": "stdout",
     "output_type": "stream",
     "text": [
      "{'red': '#FF0000', 'green': '#008000'}\n"
     ]
    }
   ],
   "source": [
    "k = ['red' , 'green'] \n",
    "v = ['#FF0000' , '#008000']\n",
    "\n",
    "z = zip(k,v)\n",
    "d = dict(z) \n",
    "print(d)"
   ]
  },
  {
   "cell_type": "markdown",
   "id": "c9d8309c-8718-48cf-bf82-b87b276fec93",
   "metadata": {},
   "source": [
    "### .setdefault()"
   ]
  },
  {
   "cell_type": "code",
   "execution_count": 42,
   "id": "529d1e15-e249-42d9-b3e0-496ddd2614e6",
   "metadata": {},
   "outputs": [
    {
     "name": "stdout",
     "output_type": "stream",
     "text": [
      "{'a': 2, 'r': 1}\n"
     ]
    }
   ],
   "source": [
    "s = 'alireza'\n",
    "x = ['a', 'r']\n",
    "d = {}\n",
    "\n",
    "for i in s:\n",
    "    if i in x:\n",
    "        d.setdefault(i,0)\n",
    "        d[i] +=1\n",
    "\n",
    "print(d)         # {'a': 2, 'r': 1}\n"
   ]
  },
  {
   "cell_type": "markdown",
   "id": "4dec6c1c-d432-461f-a7f2-0980b978b781",
   "metadata": {},
   "source": [
    "### remove duplications"
   ]
  },
  {
   "cell_type": "code",
   "execution_count": 43,
   "id": "c9ee71ff-3a3a-4ea3-b29f-ac5c73b055c6",
   "metadata": {},
   "outputs": [
    {
     "name": "stdout",
     "output_type": "stream",
     "text": [
      "{'x': 3, 'y': 2, 'z': 4}\n"
     ]
    }
   ],
   "source": [
    "d = {'x': 3, 'y': 2, 'z': 1, 'y' :2 , 'z' : 4 }\n",
    "\n",
    "r = {}\n",
    "\n",
    "for k,v in d.items():\n",
    "    if v not in r.values():\n",
    "        r[k] = v\n",
    "\n",
    "print(r)     \n"
   ]
  },
  {
   "cell_type": "code",
   "execution_count": 47,
   "id": "9bce7940-cf81-4e21-b4a2-d6b3efdbb515",
   "metadata": {},
   "outputs": [
    {
     "name": "stdout",
     "output_type": "stream",
     "text": [
      "{'h': 6, 't': 11}\n"
     ]
    }
   ],
   "source": [
    "d = {\n",
    "     'h' : 0 , \n",
    "     't' : 0\n",
    "     }\n",
    "\n",
    "import random\n",
    "\n",
    "for i in range(17):\n",
    "    d[random.choice(list(d.keys()))] +=1\n",
    "\n",
    "print(d)    \n"
   ]
  },
  {
   "cell_type": "code",
   "execution_count": 48,
   "id": "bfe97636-80be-4a3c-b8a5-1b651c42533f",
   "metadata": {},
   "outputs": [
    {
     "name": "stdout",
     "output_type": "stream",
     "text": [
      "2\n"
     ]
    }
   ],
   "source": [
    "students = [ \n",
    "             {'id':123 , 'name' : 'ali'  , 's': True},\n",
    "             {'id':378 , 'name' : 'taha' , 's': False},\n",
    "             {'id':934 , 'name' : 'sara' , 's': True} \n",
    "            ]\n",
    "\n",
    "print(sum(d['s']  for d in students))"
   ]
  },
  {
   "cell_type": "markdown",
   "id": "c18b38b4-4b80-437d-90ac-0596f8f64013",
   "metadata": {},
   "source": [
    "### nested dict"
   ]
  },
  {
   "cell_type": "code",
   "execution_count": 49,
   "id": "7a856b9d-8f00-46c9-9697-5da89a106b40",
   "metadata": {},
   "outputs": [
    {
     "name": "stdout",
     "output_type": "stream",
     "text": [
      "{'child1': {'name': 'taha', 'age': 8}, 'child2': {'name': 'mahsa', 'age': 20}}\n"
     ]
    }
   ],
   "source": [
    "myfamily = {\n",
    "        'child1':{'name':'taha'  , 'age' : 8}  ,      \n",
    "        'child2':{'name':'mahsa' , 'age' : 20}              \n",
    "        }\n",
    "\n",
    "print(myfamily)\n",
    "\n",
    "# or\n",
    "d1 = {'name':'taha'  , 'age' : 8} \n",
    "d2 = {'name':'mahsa' , 'age' : 20}\n",
    "\n",
    "myfamily1 = {\n",
    "        'child1':d1 ,      \n",
    "        'child2':d2              \n",
    "        }\n"
   ]
  },
  {
   "cell_type": "code",
   "execution_count": 50,
   "id": "add96cdd-bbc0-4e7f-97e5-ae04115e5283",
   "metadata": {},
   "outputs": [
    {
     "name": "stdout",
     "output_type": "stream",
     "text": [
      "4\n",
      "{'home': '021-4455', 'mobile': '0912-1972028'}\n",
      "0912-1972028\n",
      "['mahsa', 'taha']\n",
      "mahsa\n",
      "48\n"
     ]
    }
   ],
   "source": [
    "tel = {\n",
    "       'home' : '021-4455' , \n",
    "       'mobile' : '0912-1972028'\n",
    "       }\n",
    "\n",
    "person ={\n",
    "         'name'     : 'farshid' , \n",
    "         'age'      : 48 , \n",
    "         'children' : ['mahsa' , 'taha'],\n",
    "         'phone'    : tel\n",
    "        }\n",
    "\n",
    "print(len(person))  \n",
    "\n",
    "print(person['phone'])\n",
    "\n",
    "print(person['phone']['mobile']) \n",
    "\n",
    "print(person['children'])    \n",
    "print(person['children'][0])  \n",
    "\n",
    "print(person.pop('age'))"
   ]
  },
  {
   "cell_type": "code",
   "execution_count": null,
   "id": "3addf0a5-f2b3-4e2d-8962-c0ad941c03d3",
   "metadata": {},
   "outputs": [],
   "source": []
  }
 ],
 "metadata": {
  "kernelspec": {
   "display_name": "Python 3 (ipykernel)",
   "language": "python",
   "name": "python3"
  },
  "language_info": {
   "codemirror_mode": {
    "name": "ipython",
    "version": 3
   },
   "file_extension": ".py",
   "mimetype": "text/x-python",
   "name": "python",
   "nbconvert_exporter": "python",
   "pygments_lexer": "ipython3",
   "version": "3.10.12"
  }
 },
 "nbformat": 4,
 "nbformat_minor": 5
}
