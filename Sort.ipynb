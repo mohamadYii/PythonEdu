{
 "cells": [
  {
   "cell_type": "markdown",
   "id": "312f9675-73f3-480e-a658-d6e8583334d8",
   "metadata": {},
   "source": [
    "## Sort"
   ]
  },
  {
   "cell_type": "markdown",
   "id": "132013d9-07f7-4d37-8464-b4467337cf32",
   "metadata": {},
   "source": [
    "### BubbleSort:"
   ]
  },
  {
   "cell_type": "code",
   "execution_count": 7,
   "id": "e59860d2-13d4-4db3-8685-f79c38addadc",
   "metadata": {},
   "outputs": [
    {
     "name": "stdout",
     "output_type": "stream",
     "text": [
      "[1, 2, 3, 4, 5, 6]\n"
     ]
    }
   ],
   "source": [
    "def bubblesort(lst):\n",
    "    for i in range(len(lst)-1,0,-1):\n",
    "        for j in range(i):\n",
    "            if lst[j] > lst[j+1]:\n",
    "                t = lst[j]\n",
    "                lst[j] = lst[j+1]\n",
    "                lst[j+1]= t\n",
    "                \n",
    "a = [3,5,1,2,4,6]\n",
    "bubblesort(a)\n",
    "print(a)\n",
    "\n",
    "\n",
    "#p1: \n",
    "#   3,5,1,2,4,6,7\n",
    "#   3,5,1,2,4,6,7\n",
    "#   3,1,5,2,4,6,7\n",
    "#   3,1,2,5,4,6,7\n",
    "#   3,1,2,4,5,6,7\n",
    "#   3,1,2,4,5,6,7\n",
    "#   3,1,2,4,5,6,7\n",
    "#p2:\n",
    "#   1,3,2,4,5,6,7\n",
    "#    1,2,3,4,5,6,7"
   ]
  },
  {
   "cell_type": "markdown",
   "id": "fcb67653-4e71-429f-829e-44ae6c0e2cad",
   "metadata": {},
   "source": [
    "### InsertionSort:"
   ]
  },
  {
   "cell_type": "code",
   "execution_count": 8,
   "id": "31cfe786-ae76-40d9-bc9f-b62abff43d03",
   "metadata": {},
   "outputs": [
    {
     "name": "stdout",
     "output_type": "stream",
     "text": [
      "[1, 2, 3, 4, 5, 6, 7]\n"
     ]
    }
   ],
   "source": [
    "def insertion_sort(lst):\n",
    "    for i in range(1, len(lst)):\n",
    "        cv = lst[i]\n",
    "        p = i\n",
    "        while p>0 and lst[p-1] > cv:\n",
    "            lst[p] = lst[p-1]\n",
    "            p = p-1\n",
    "        lst[p] = cv\n",
    "        \n",
    "a = [3, 5, 1, 2, 4, 6, 7]    \n",
    "insertion_sort(a)        \n",
    "print(a)"
   ]
  },
  {
   "cell_type": "markdown",
   "id": "f83457b1-395f-450d-8fe5-a5c6d14def78",
   "metadata": {},
   "source": [
    "### SelectionSort:"
   ]
  },
  {
   "cell_type": "code",
   "execution_count": 9,
   "id": "af56394f-05f0-4d83-8035-0a2119e8d6b2",
   "metadata": {},
   "outputs": [
    {
     "name": "stdout",
     "output_type": "stream",
     "text": [
      "[1, 2, 3, 4, 5, 6, 7]\n"
     ]
    }
   ],
   "source": [
    "def  selection_sort(lst):\n",
    "    for i in range(len(lst)-1 , 0 , -1):\n",
    "        p = 0\n",
    "        for j in range(1, i+1):\n",
    "            if lst[j] > lst[p]:\n",
    "                p = j\n",
    "        t = lst[i]        \n",
    "        lst[i] = lst[p]\n",
    "        lst[p] = t\n",
    "        \n",
    "a = [3, 5, 1, 2, 7, 6, 4]    \n",
    "selection_sort(a)\n",
    "print(a) "
   ]
  },
  {
   "cell_type": "markdown",
   "id": "c76e6298-40b3-4992-8a27-e38cd1e2a613",
   "metadata": {},
   "source": [
    "### MergeSort:"
   ]
  },
  {
   "cell_type": "code",
   "execution_count": 10,
   "id": "06e20da8-abdf-4ad4-bdee-294ba1e8cd23",
   "metadata": {},
   "outputs": [
    {
     "name": "stdout",
     "output_type": "stream",
     "text": [
      "[1, 2, 3, 4, 5, 6, 7]\n"
     ]
    }
   ],
   "source": [
    "def merge(left, right):\n",
    "    i = 0\n",
    "    j = 0\n",
    "    a = []\n",
    "    while i < len(left) and j < len(right):\n",
    "        if left[i] < right[j]:\n",
    "            a.append(left[i])\n",
    "            i += 1\n",
    "        else:\n",
    "            a.append(right[j])\n",
    "            j += 1\n",
    "\n",
    "    a += left[i:]\n",
    "    a += right[j:]\n",
    "    return a\n",
    "\n",
    "\n",
    "def merge_sort(lst):\n",
    "    if len(lst) <= 1: \n",
    "        return lst\n",
    "    mid = len(lst) // 2\n",
    "    left  = merge_sort(lst[:mid]) \n",
    "    right = merge_sort(lst[mid:]) \n",
    "    return merge(left, right)\n",
    "\n",
    "a = [3, 5, 1, 2, 6, 4, 7]    \n",
    "print(merge_sort(a)) "
   ]
  },
  {
   "cell_type": "markdown",
   "id": "74a8ae43-5ae6-4a1b-8efc-14679c4d90b5",
   "metadata": {},
   "source": [
    "### QuickSort:"
   ]
  },
  {
   "cell_type": "code",
   "execution_count": 11,
   "id": "65e5617f-b82c-49ee-b408-0e32a5014495",
   "metadata": {},
   "outputs": [
    {
     "name": "stdout",
     "output_type": "stream",
     "text": [
      "[1, 2, 3, 4, 5, 6, 7]\n"
     ]
    }
   ],
   "source": [
    "def quick_sort(lst, first, last):\n",
    "   if first < last:\n",
    "       p = partition(lst, first, last)\n",
    "       quick_sort(lst, first, p-1)\n",
    "       quick_sort(lst, p+1, last)\n",
    "\n",
    "\n",
    "def partition(lst, first, last):\n",
    "   p = lst[first]\n",
    "   left = first+1\n",
    "   right = last\n",
    "   done = False\n",
    "   while not done:\n",
    "       while left <= right and lst[left] <= p:\n",
    "           left = left + 1\n",
    "\n",
    "       while lst[right] >= p and right >= left:\n",
    "           right = right -1\n",
    "\n",
    "       if right < left:\n",
    "           done = True\n",
    "       else:\n",
    "           t = lst[left]\n",
    "           lst[left] = lst[right]\n",
    "           lst[right] = t\n",
    "\n",
    "   t = lst[first]\n",
    "   lst[first] = lst[right]\n",
    "   lst[right] = t\n",
    "\n",
    "\n",
    "   return right\n",
    "\n",
    "a = [3, 5, 1, 2, 4, 6, 7]      \n",
    "quick_sort(a,0,len(a)-1)\n",
    "print(a)"
   ]
  }
 ],
 "metadata": {
  "kernelspec": {
   "display_name": "Python 3 (ipykernel)",
   "language": "python",
   "name": "python3"
  },
  "language_info": {
   "codemirror_mode": {
    "name": "ipython",
    "version": 3
   },
   "file_extension": ".py",
   "mimetype": "text/x-python",
   "name": "python",
   "nbconvert_exporter": "python",
   "pygments_lexer": "ipython3",
   "version": "3.10.12"
  }
 },
 "nbformat": 4,
 "nbformat_minor": 5
}
