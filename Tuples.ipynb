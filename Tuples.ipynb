{
 "cells": [
  {
   "cell_type": "markdown",
   "id": "d1d99651-697a-4783-b654-c7439426df6c",
   "metadata": {
    "editable": true,
    "slideshow": {
     "slide_type": ""
    },
    "tags": []
   },
   "source": [
    "## Tuples"
   ]
  },
  {
   "cell_type": "code",
   "execution_count": 4,
   "id": "575ff048-1ff9-44f8-9cb0-f11b1bce456e",
   "metadata": {},
   "outputs": [
    {
     "name": "stdout",
     "output_type": "stream",
     "text": [
      "('English', 'History', 'Mathematics')\n",
      "<class 'tuple'>\n",
      "3\n"
     ]
    }
   ],
   "source": [
    "t = ('English', 'History', 'Mathematics')\n",
    "print(t)\n",
    "print(type(t))  \n",
    "print(len(t))   "
   ]
  },
  {
   "cell_type": "code",
   "execution_count": 6,
   "id": "911e9cf5-f359-49b8-9510-5add76b133fb",
   "metadata": {},
   "outputs": [],
   "source": [
    " #t[0] = 'art'  # error : tuples are immutable"
   ]
  },
  {
   "cell_type": "code",
   "execution_count": 7,
   "id": "2cfaee10-1961-447f-9a62-9c6cee713f97",
   "metadata": {},
   "outputs": [
    {
     "name": "stdout",
     "output_type": "stream",
     "text": [
      "12\n",
      "9\n",
      "1\n",
      "1\n",
      "(1, 9, 2, 1, 9, 2)\n",
      "(2, 9, 1)\n"
     ]
    }
   ],
   "source": [
    "t = (1, 9 , 2)    \n",
    "print(sum(t))      \n",
    "print(max(t))     \n",
    "print(min(t))     \n",
    "print(t.count(9))  \n",
    "print(t*2)        \n",
    "\n",
    "print(tuple(reversed(t)))  "
   ]
  },
  {
   "cell_type": "markdown",
   "id": "109046ba-89d5-408f-b017-25be86384b82",
   "metadata": {},
   "source": [
    "### how to add something or remove in tuple??"
   ]
  },
  {
   "cell_type": "code",
   "execution_count": null,
   "id": "6a1ef1eb-1208-48e0-8c6c-8f72d0a0bffe",
   "metadata": {},
   "outputs": [],
   "source": [
    "# append ?\n",
    "t = (4 , 6)\n",
    "t = t + (9,)\n",
    "print(t)    \n",
    "\n",
    "# or\n",
    "t = (4 ,6)\n",
    "a = list(t)\n",
    "a.append(9)\n",
    "t = tuple(a)\n",
    "print(t)    \n",
    "\n",
    "# remove ?\n",
    "t = (4, 7, 2, 9, 8)\n",
    "x = list(t)\n",
    "x.remove(2)\n",
    "t = tuple(x)\n",
    "print(t)   "
   ]
  },
  {
   "cell_type": "code",
   "execution_count": 8,
   "id": "20845185-bd74-4e60-8a98-dd4228c6d3f0",
   "metadata": {},
   "outputs": [
    {
     "name": "stdout",
     "output_type": "stream",
     "text": [
      "4\n",
      "8\n",
      "blue\n",
      "auto\n",
      "7\n"
     ]
    }
   ],
   "source": [
    "# unpack\n",
    "t = (4, 8)\n",
    "a,b = t\n",
    "print(a)   # 4\n",
    "print(b)   # 8\n",
    "\n",
    "car = ('blue', 'auto', 7)\n",
    "color,_,a = car\n",
    "print(color)    # blue\n",
    "print(_)        # auto\n",
    "print(a)        # 7\n"
   ]
  },
  {
   "cell_type": "markdown",
   "id": "f74ca788-114f-451f-b330-ae127987f625",
   "metadata": {},
   "source": [
    "### zip()  zip(*) => unzip"
   ]
  },
  {
   "cell_type": "code",
   "execution_count": 9,
   "id": "8bfa26ef-0275-47ec-94a4-dcd39aaef272",
   "metadata": {},
   "outputs": [
    {
     "name": "stdout",
     "output_type": "stream",
     "text": [
      "<zip object at 0x7f8df827cc00>\n",
      "[(1, 3), (2, 4)]\n",
      "(1, 3)\n",
      "<class 'tuple'>\n",
      "[(1, 2), (3, 4)]\n",
      "[(1, 3), (2, 4), ('A', 8)]\n"
     ]
    }
   ],
   "source": [
    "a = (1, 2)\n",
    "b = (3, 4)\n",
    "c = zip(a,b)\n",
    "print(c)\n",
    "x = list(c)\n",
    "print(x)          \n",
    "print(x[0])        \n",
    "print(type(x[0])) \n",
    "\n",
    "# unzip\n",
    "z = [(1, 3), (2, 4)]\n",
    "u = zip(*z)\n",
    "print(list(u))   \n",
    "\n",
    "\n",
    "a = (1, 2 , 'A')\n",
    "b = (3, 4 , 8)\n",
    "c = zip(a,b)\n",
    "x = list(c)\n",
    "print(x)       \n"
   ]
  },
  {
   "cell_type": "markdown",
   "id": "f08442d9-5f4f-4a3f-84b6-c4571cfacc8f",
   "metadata": {},
   "source": [
    "### isinstance()"
   ]
  },
  {
   "cell_type": "code",
   "execution_count": 2,
   "id": "39e2a866-bd06-493f-bc9b-b80af2585bac",
   "metadata": {},
   "outputs": [
    {
     "name": "stdout",
     "output_type": "stream",
     "text": [
      "4\n",
      "2\n"
     ]
    }
   ],
   "source": [
    "num = [8, 2 , (9,3) , 4 , (1,6,7) , 34]\n",
    "c = 0\n",
    "for i in num:\n",
    "    if isinstance(i , tuple):\n",
    "        continue\n",
    "    c += 1\n",
    "print(c)              # 4\n",
    "print(len(num) - c)   # 2\n"
   ]
  },
  {
   "cell_type": "code",
   "execution_count": 1,
   "id": "eb1a4791-d96d-4ea5-87f6-b93c7535229e",
   "metadata": {},
   "outputs": [
    {
     "name": "stdout",
     "output_type": "stream",
     "text": [
      "[(1, 2, 9), (4, 5, 9)]\n"
     ]
    }
   ],
   "source": [
    "a = [(1,2,3) , (4,5,6)]\n",
    "\n",
    "b = [i[:-1]+(9,) for i in a]\n",
    "\n",
    "print(b) \n"
   ]
  },
  {
   "cell_type": "code",
   "execution_count": null,
   "id": "0b8057be-fc81-47be-88a6-858396c236cf",
   "metadata": {},
   "outputs": [],
   "source": []
  }
 ],
 "metadata": {
  "kernelspec": {
   "display_name": "Python 3 (ipykernel)",
   "language": "python",
   "name": "python3"
  },
  "language_info": {
   "codemirror_mode": {
    "name": "ipython",
    "version": 3
   },
   "file_extension": ".py",
   "mimetype": "text/x-python",
   "name": "python",
   "nbconvert_exporter": "python",
   "pygments_lexer": "ipython3",
   "version": "3.10.12"
  }
 },
 "nbformat": 4,
 "nbformat_minor": 5
}
