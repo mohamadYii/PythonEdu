{
 "cells": [
  {
   "cell_type": "markdown",
   "id": "65f4cc31-d278-4c24-87c7-394bbe5d9108",
   "metadata": {},
   "source": [
    "## Sets"
   ]
  },
  {
   "cell_type": "code",
   "execution_count": 2,
   "id": "4cf6efdd-e562-49f0-92ef-3c10ae8c2efb",
   "metadata": {},
   "outputs": [
    {
     "name": "stdout",
     "output_type": "stream",
     "text": [
      "<class 'set'>\n",
      "3\n",
      "{'banana', 'orange', 'apple'}\n",
      "banana\n",
      "orange\n",
      "apple\n",
      "True\n",
      "False\n",
      "{'banana', 'orange', 'cherry', 'apple'}\n",
      "{'orange', 'mango', 'apple', 'cherry', 'grapes', 'banana'}\n",
      "{'orange', 'mango', 'cherry', 'grapes', 'banana'}\n"
     ]
    }
   ],
   "source": [
    "f = {'apple', 'orange' , 'banana'}\n",
    "\n",
    "print(type(f)) \n",
    "\n",
    "print(len(f))\n",
    "\n",
    "print(f)     \n",
    "\n",
    "for i in f:\n",
    "    print(i)\n",
    "\n",
    "f1 = set(('apple', 'orange' , 'banana'))    \n",
    "\n",
    "print(f == f1) \n",
    "\n",
    "print('cherry' in f)   \n",
    "\n",
    "f.add('cherry')\n",
    "print(f)      \n",
    "\n",
    "f.update(['mango' , 'grapes'])\n",
    "print(f)   \n",
    "\n",
    "\n",
    "f.remove('apple')\n",
    "print(f) "
   ]
  },
  {
   "cell_type": "markdown",
   "id": "8522fb61-00fa-4d73-87ad-c966591b9d2d",
   "metadata": {},
   "source": [
    "### .discard() .pop() .copy() .clear() del"
   ]
  },
  {
   "cell_type": "code",
   "execution_count": 5,
   "id": "d7df0739-23df-4dec-b611-868fa8af6f6e",
   "metadata": {},
   "outputs": [
    {
     "name": "stdout",
     "output_type": "stream",
     "text": [
      "{'a', 'u', 'o', 'i', 'e'}\n",
      "a\n",
      "{'u', 'o', 'i', 'e'}\n",
      "{'i', 'o', 'u', 'e'}\n",
      "set()\n",
      "0\n"
     ]
    }
   ],
   "source": [
    "vowels = {'a','e','o','i','u'}\n",
    "print(vowels)\n",
    "\n",
    "# vowels.remove('k')  # KeyError: 'k'\n",
    "\n",
    "vowels.discard('h')  # Not raise an error\n",
    "\n",
    "x = vowels.pop() #random cuz sets not sorted\n",
    "print(x)        \n",
    "print(vowels)   \n",
    "\n",
    "\n",
    "c = vowels.copy()\n",
    "print(c)\n",
    "\n",
    "vowels.clear()\n",
    "print(vowels)   \n",
    "print(len(vowels))\n",
    "\n",
    "del c"
   ]
  },
  {
   "cell_type": "markdown",
   "id": "603bdcf2-b8ae-4efa-b3e0-ea9165740ef2",
   "metadata": {},
   "source": [
    "### .difference() .difference_update() .symmetric_difference()"
   ]
  },
  {
   "cell_type": "code",
   "execution_count": 11,
   "id": "33cb562b-acf3-4602-925f-e403305cc627",
   "metadata": {},
   "outputs": [
    {
     "name": "stdout",
     "output_type": "stream",
     "text": [
      "{1, 3, 5}\n",
      "{7}\n",
      "{1, 3, 5}\n",
      "{1, 2, 3, 4, 5}\n",
      "{2, 4, 7}\n",
      "None\n",
      "{1, 3, 5}\n",
      "{2, 4, 7}\n",
      "{1, 4}\n",
      "{1, 4}\n"
     ]
    }
   ],
   "source": [
    "A = {1,2,3,4,5}\n",
    "B = {2,4,7}\n",
    "\n",
    "print(A-B)\n",
    "print(B-A)\n",
    "\n",
    "r = A.difference(B)\n",
    "print(r)\n",
    "print(A)\n",
    "print(B)\n",
    "\n",
    "\n",
    "r = A.difference_update(B)\n",
    "print(r)\n",
    "print(A)\n",
    "print(B)\n",
    "\n",
    "\n",
    "X = {1, 2, 3}\n",
    "Y = {2 ,3, 4}\n",
    "print(X.symmetric_difference(Y)) \n",
    "print(X ^ Y)"
   ]
  },
  {
   "cell_type": "markdown",
   "id": "f6b065b2-8cfa-4544-abcd-1ad42ebf380c",
   "metadata": {},
   "source": [
    "### .intersection() .union()"
   ]
  },
  {
   "cell_type": "code",
   "execution_count": 12,
   "id": "24e8528c-a809-4d7a-9abf-4b9f7b27cbc5",
   "metadata": {},
   "outputs": [
    {
     "name": "stdout",
     "output_type": "stream",
     "text": [
      "{2, 3}\n",
      "{2, 3}\n",
      "{1, 2, 3, 4}\n",
      "{1, 2, 3, 4}\n"
     ]
    }
   ],
   "source": [
    "X = {1, 2, 3}\n",
    "Y = {2 ,3, 4}\n",
    "print(X.intersection(Y))    \n",
    "print(X & Y)               \n",
    "\n",
    "X = {1, 2, 3}\n",
    "Y = {2 ,3, 4}\n",
    "print(X.union(Y))  \n",
    "print(X | Y)        \n"
   ]
  },
  {
   "cell_type": "code",
   "execution_count": 14,
   "id": "ef160146-9859-4339-af59-fa8af40258f5",
   "metadata": {},
   "outputs": [
    {
     "name": "stdout",
     "output_type": "stream",
     "text": [
      "{1, 2, 3, 4}\n",
      "{98, 'one', 'a', 'l', 7, 8, 'i', 13, 'two', 56, 25}\n"
     ]
    }
   ],
   "source": [
    "X = {1, 2, 3}\n",
    "Y = {2 ,3, 4}\n",
    "X.update(Y)\n",
    "print(X)             \n",
    "\n",
    "X = {56 , 98}\n",
    "s ='ali'\n",
    "a = [13,25]\n",
    "t = (7 , 8 )\n",
    "d = {'one':1 , 'two':2}\n",
    "\n",
    "X.update(s,a,t,d)\n",
    "print(X)"
   ]
  },
  {
   "cell_type": "markdown",
   "id": "1428dc4c-3c74-4eaa-b39a-51beab3cbdb8",
   "metadata": {},
   "source": [
    "### .isdisjoint() .issubset() "
   ]
  },
  {
   "cell_type": "code",
   "execution_count": 16,
   "id": "913d147e-6285-42fb-addd-fb2f09c232ba",
   "metadata": {},
   "outputs": [
    {
     "name": "stdout",
     "output_type": "stream",
     "text": [
      "False\n",
      "True\n",
      "True\n",
      "False\n"
     ]
    }
   ],
   "source": [
    "X = {1, 2}\n",
    "Y = {1, 2, 3}\n",
    "print(X.isdisjoint(Y))   \n",
    "\n",
    "X = {1, 2}\n",
    "Y = {3, 7, 8}\n",
    "print(X.isdisjoint(Y))   \n",
    "\n",
    "X = {1, 2}\n",
    "Y = {1, 2 , 3}\n",
    "print(X.issubset(Y))  \n",
    "print(Y.issubset(X))  "
   ]
  },
  {
   "cell_type": "code",
   "execution_count": 17,
   "id": "d7bcd424-b8cc-4306-90ce-bf96afc9efb8",
   "metadata": {},
   "outputs": [
    {
     "name": "stdout",
     "output_type": "stream",
     "text": [
      "{'a', 'r'}\n"
     ]
    }
   ],
   "source": [
    "w = 'alireza'\n",
    "x = {'a' , 'r'}\n",
    "s = set(w)\n",
    "print(x.intersection(s))  # {'a', 'r'}"
   ]
  },
  {
   "cell_type": "code",
   "execution_count": 22,
   "id": "c616224a-ab1a-4402-8b72-cb2a102e07b9",
   "metadata": {},
   "outputs": [
    {
     "name": "stdout",
     "output_type": "stream",
     "text": [
      "{('b', 3)}\n",
      "b\n"
     ]
    }
   ],
   "source": [
    "d1 = {'a':1 , 'b':3 , 'c':2}\n",
    "d2 = {'a':2 , 'b':3 , 'c':1}\n",
    "\n",
    "s1 = set(d1.items())\n",
    "s2 = set(d2.items())\n",
    "s = s1 & s2\n",
    "print(s)\n",
    "for k,v in s:\n",
    "    print(k)    # b"
   ]
  },
  {
   "cell_type": "code",
   "execution_count": null,
   "id": "1529b223-6ae3-4df8-83e4-66f74dbea054",
   "metadata": {},
   "outputs": [],
   "source": []
  }
 ],
 "metadata": {
  "kernelspec": {
   "display_name": "Python 3 (ipykernel)",
   "language": "python",
   "name": "python3"
  },
  "language_info": {
   "codemirror_mode": {
    "name": "ipython",
    "version": 3
   },
   "file_extension": ".py",
   "mimetype": "text/x-python",
   "name": "python",
   "nbconvert_exporter": "python",
   "pygments_lexer": "ipython3",
   "version": "3.10.12"
  }
 },
 "nbformat": 4,
 "nbformat_minor": 5
}
