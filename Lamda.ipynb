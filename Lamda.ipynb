{
 "cells": [
  {
   "cell_type": "markdown",
   "id": "32b69bbc-5c1e-4dbe-b922-43a78c94b240",
   "metadata": {},
   "source": [
    "## Lambda"
   ]
  },
  {
   "cell_type": "code",
   "execution_count": 4,
   "id": "64e2a336-15de-41e1-98f8-4724ea719336",
   "metadata": {},
   "outputs": [
    {
     "name": "stdout",
     "output_type": "stream",
     "text": [
      "6\n",
      "6\n"
     ]
    }
   ],
   "source": [
    "def f(n):\n",
    "    return n*2\n",
    "print(f(3))\n",
    "\n",
    "g = lambda n : n*2\n",
    "print(g(3))"
   ]
  },
  {
   "cell_type": "code",
   "execution_count": 7,
   "id": "3492c62e-2321-4552-b666-798732b72813",
   "metadata": {},
   "outputs": [
    {
     "name": "stdout",
     "output_type": "stream",
     "text": [
      "5\n",
      "(5, -1)\n"
     ]
    }
   ],
   "source": [
    "add = lambda x,y :x+y\n",
    "print(add(2,3))\n",
    "add = lambda x,y : (x+y , x-y)\n",
    "print(add(2,3))"
   ]
  },
  {
   "cell_type": "code",
   "execution_count": 9,
   "id": "7648d629-b109-4a62-98ab-31ddef067bed",
   "metadata": {},
   "outputs": [
    {
     "name": "stdout",
     "output_type": "stream",
     "text": [
      "7\n"
     ]
    }
   ],
   "source": [
    "d = {'a':3,'b':7,'c':5}\n",
    "print(d[max(d.keys(),key= (lambda k: d[k]))])"
   ]
  },
  {
   "cell_type": "markdown",
   "id": "f65ff89b-1c38-4944-81cc-f853ae396d65",
   "metadata": {},
   "source": [
    "### map()"
   ]
  },
  {
   "cell_type": "code",
   "execution_count": 11,
   "id": "cdba8ecb-87dd-4efa-91c0-788bad150da8",
   "metadata": {},
   "outputs": [
    {
     "name": "stdout",
     "output_type": "stream",
     "text": [
      "['AHMAD', 'REZA']\n"
     ]
    }
   ],
   "source": [
    "lst = [\"ahmad\",\"reza\"]\n",
    "u = []\n",
    "for i in lst:\n",
    "    x = i.upper()\n",
    "    u.append(x)\n",
    "print(u)"
   ]
  },
  {
   "cell_type": "code",
   "execution_count": 14,
   "id": "f4d0769e-accb-4069-b185-a087c98452c0",
   "metadata": {},
   "outputs": [
    {
     "name": "stdout",
     "output_type": "stream",
     "text": [
      "['AHMAD', 'REZA']\n"
     ]
    }
   ],
   "source": [
    "m = map(str.upper,lst) #apply function for each element on list \n",
    "print(list(m))"
   ]
  },
  {
   "cell_type": "code",
   "execution_count": 15,
   "id": "149d7e44-506b-440c-8716-7efeeb221ba5",
   "metadata": {},
   "outputs": [
    {
     "name": "stdout",
     "output_type": "stream",
     "text": [
      "[('ali', 13), ('reza', 18)]\n"
     ]
    }
   ],
   "source": [
    "name = ['ali','reza']\n",
    "score = [13,18]\n",
    "print(list(zip(name,score)))"
   ]
  },
  {
   "cell_type": "code",
   "execution_count": 16,
   "id": "f4bcf9f6-0786-4919-a89a-d39023d2d84b",
   "metadata": {},
   "outputs": [
    {
     "name": "stdout",
     "output_type": "stream",
     "text": [
      "[('ali', 13), ('reza', 18)]\n"
     ]
    }
   ],
   "source": [
    "print(list(map(lambda x,y : (x,y) , name,score)))"
   ]
  },
  {
   "cell_type": "code",
   "execution_count": 17,
   "id": "51a0b469-574d-4c62-bea2-ce1804b7de9e",
   "metadata": {},
   "outputs": [
    {
     "name": "stdout",
     "output_type": "stream",
     "text": [
      "[97, 98]\n"
     ]
    }
   ],
   "source": [
    "lst = [\"a\",\"b\"]\n",
    "my_ascii = []\n",
    "for i in lst:\n",
    "    my_ascii.append(ord(i))\n",
    "print(my_ascii)"
   ]
  },
  {
   "cell_type": "code",
   "execution_count": 18,
   "id": "a88b9faf-f5c5-4294-9912-64e76f634172",
   "metadata": {},
   "outputs": [
    {
     "name": "stdout",
     "output_type": "stream",
     "text": [
      "[97, 98]\n"
     ]
    }
   ],
   "source": [
    "print(list(map(ord,lst)))"
   ]
  },
  {
   "cell_type": "code",
   "execution_count": 20,
   "id": "0a76ce5f-9b7c-488c-90eb-ef0b55a75b07",
   "metadata": {},
   "outputs": [
    {
     "name": "stdout",
     "output_type": "stream",
     "text": [
      "[True, False, True, True, False]\n"
     ]
    }
   ],
   "source": [
    "scores = [12,8,19,15,7]\n",
    "print(list(map(lambda x : x>9,scores)))"
   ]
  },
  {
   "cell_type": "code",
   "execution_count": 24,
   "id": "982e48ba-01f0-471c-9b46-f470715d981c",
   "metadata": {},
   "outputs": [
    {
     "name": "stdout",
     "output_type": "stream",
     "text": [
      "[9, 6, 8]\n",
      "[9, 6, 8]\n"
     ]
    }
   ],
   "source": [
    "a = [3,2,1]\n",
    "b = [6,4,7]\n",
    "f = lambda x,y : x+y\n",
    "print(list(map(f,a,b)))\n",
    "print(list(map(lambda x,y : x+y ,a,b)))"
   ]
  },
  {
   "cell_type": "code",
   "execution_count": 28,
   "id": "d849c2a7-27a7-4b1d-b097-4d589b56b075",
   "metadata": {},
   "outputs": [
    {
     "name": "stdout",
     "output_type": "stream",
     "text": [
      "[6, 2]\n",
      "[7, 4]\n",
      "[8, 6]\n"
     ]
    }
   ],
   "source": [
    "def f(x):\n",
    "    return x+5\n",
    "\n",
    "def g(y):\n",
    "    return y*2\n",
    "funcs = [f,g]\n",
    "\n",
    "lst = [1,2,3]\n",
    "for i in lst:\n",
    "    print(list(map(lambda a : a(i),funcs)))"
   ]
  },
  {
   "cell_type": "markdown",
   "id": "8d6d4a46-ea8e-46f1-a540-28fb047df39a",
   "metadata": {},
   "source": [
    "### filter()"
   ]
  },
  {
   "cell_type": "code",
   "execution_count": 29,
   "id": "d239547f-0f84-4113-8132-1dcdfe8cc975",
   "metadata": {},
   "outputs": [
    {
     "name": "stdout",
     "output_type": "stream",
     "text": [
      "['radar', 'madam', 'php']\n"
     ]
    }
   ],
   "source": [
    "lst = ['radar','ali','madam','php']\n",
    "palindrome = lambda x: (x == ''.join(reversed(x)))\n",
    "print(list(filter(palindrome,lst)))"
   ]
  },
  {
   "cell_type": "code",
   "execution_count": 30,
   "id": "b0ff670d-9b7d-4eb2-abac-05834eb73d23",
   "metadata": {},
   "outputs": [
    {
     "name": "stdout",
     "output_type": "stream",
     "text": [
      "[2, 7, 9, 8, 12]\n"
     ]
    }
   ],
   "source": [
    "lst = [2,7,'',9,{},8,[],12]\n",
    "print(list(filter(None,lst)))"
   ]
  },
  {
   "cell_type": "markdown",
   "id": "4c8e0a16-2b66-4034-ad30-e70583c44563",
   "metadata": {},
   "source": [
    "### reduce()"
   ]
  },
  {
   "cell_type": "code",
   "execution_count": 36,
   "id": "026132b8-de04-4bdb-bd8e-e3f8c09faa19",
   "metadata": {},
   "outputs": [
    {
     "name": "stdout",
     "output_type": "stream",
     "text": [
      "20\n"
     ]
    }
   ],
   "source": [
    "from functools import reduce\n",
    "lst = [4,8,3,5]\n",
    "add = lambda a,b : a+b\n",
    "print(reduce(add,lst))"
   ]
  },
  {
   "cell_type": "code",
   "execution_count": 38,
   "id": "545f5729-3c77-494f-b7ba-f1d3f49ee3bf",
   "metadata": {},
   "outputs": [
    {
     "name": "stdout",
     "output_type": "stream",
     "text": [
      "20\n"
     ]
    }
   ],
   "source": [
    "def my_reduce(func,seq):\n",
    "    r = seq[0]\n",
    "    for i in seq[1:]:\n",
    "        r = func(r,i)\n",
    "    return r\n",
    "print(my_reduce(add,lst))"
   ]
  },
  {
   "cell_type": "code",
   "execution_count": 39,
   "id": "5b40c0f7-3964-4587-9e91-0f42f54a7d37",
   "metadata": {},
   "outputs": [
    {
     "name": "stdout",
     "output_type": "stream",
     "text": [
      "[1, 2, 3, 4, 5]\n"
     ]
    }
   ],
   "source": [
    "lst = [5,2,3,1,4]\n",
    "lst_sorted = sorted(lst)\n",
    "print(lst_sorted)"
   ]
  },
  {
   "cell_type": "code",
   "execution_count": 41,
   "id": "257fdd5c-d1a1-45ab-a9b2-182eed6ae8e7",
   "metadata": {},
   "outputs": [
    {
     "name": "stdout",
     "output_type": "stream",
     "text": [
      "[1, 2, 3, 4, 5]\n"
     ]
    }
   ],
   "source": [
    "lst.sort()\n",
    "print(lst)"
   ]
  },
  {
   "cell_type": "code",
   "execution_count": 45,
   "id": "5f7bec91-9fb0-491d-9691-7412a2b48f96",
   "metadata": {},
   "outputs": [
    {
     "name": "stdout",
     "output_type": "stream",
     "text": [
      "[{'id': 6, 'name': 'sara', 'score': 8}, {'id': 4, 'name': 'omid', 'score': 15}, {'id': 1, 'name': 'taha', 'score': 19}, {'id': 3, 'name': 'ali', 'score': 19}]\n"
     ]
    }
   ],
   "source": [
    "students = [\n",
    "    {'id':1 , 'name':'taha','score':19},\n",
    "    {'id':6 , 'name':'sara','score':8},\n",
    "    {'id':4 , 'name':'omid','score':15},\n",
    "    {'id':3 , 'name':'ali','score':19}\n",
    "]\n",
    "\n",
    "f = lambda x : x['score']\n",
    "print(sorted(students,key = f))"
   ]
  },
  {
   "cell_type": "markdown",
   "id": "3dbc8b7e-411a-472c-85b2-8c9668a289cc",
   "metadata": {},
   "source": [
    "## itemgetter"
   ]
  },
  {
   "cell_type": "code",
   "execution_count": 60,
   "id": "9cd87f00-4c0d-4ef7-bd5e-9fba45795a04",
   "metadata": {},
   "outputs": [
    {
     "name": "stdout",
     "output_type": "stream",
     "text": [
      "[(1, 'moe', 15), (4, 'ahmad', 15), (6, 'mahsa', 17), (3, 'ali', 19)]\n",
      "[(3, 'ali', 19), (6, 'mahsa', 17), (1, 'moe', 15), (4, 'ahmad', 15)]\n",
      "[(4, 'ahmad', 15), (1, 'moe', 15), (6, 'mahsa', 17), (3, 'ali', 19)]\n"
     ]
    }
   ],
   "source": [
    "student = [\n",
    "    (1 , \"moe\",15),\n",
    "    (6 , \"mahsa\",17),\n",
    "    (4 , \"ahmad\",15),\n",
    "    (3 , \"ali\",19)\n",
    "]\n",
    "\n",
    "from operator import itemgetter\n",
    "print(sorted(student,key = itemgetter(2))) # sorted by score\n",
    "print(sorted(student,key = itemgetter(2) , reverse = True))\n",
    "print(sorted(student,key = itemgetter(2,1))) #sorted by score and name"
   ]
  },
  {
   "cell_type": "code",
   "execution_count": null,
   "id": "246343dc-e9e3-4a40-8e45-f680c1e6b745",
   "metadata": {},
   "outputs": [],
   "source": []
  }
 ],
 "metadata": {
  "kernelspec": {
   "display_name": "Python 3 (ipykernel)",
   "language": "python",
   "name": "python3"
  },
  "language_info": {
   "codemirror_mode": {
    "name": "ipython",
    "version": 3
   },
   "file_extension": ".py",
   "mimetype": "text/x-python",
   "name": "python",
   "nbconvert_exporter": "python",
   "pygments_lexer": "ipython3",
   "version": "3.10.12"
  }
 },
 "nbformat": 4,
 "nbformat_minor": 5
}
