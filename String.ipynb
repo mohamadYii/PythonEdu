{
 "cells": [
  {
   "cell_type": "markdown",
   "id": "4f3b9792-a313-45cb-a0f2-0a8a33af6c7d",
   "metadata": {},
   "source": [
    "## String"
   ]
  },
  {
   "cell_type": "code",
   "execution_count": 4,
   "id": "7137e91c-3661-47f6-9f88-7a977d29db30",
   "metadata": {
    "editable": true,
    "slideshow": {
     "slide_type": ""
    },
    "tags": []
   },
   "outputs": [],
   "source": [
    "s = 'abcd'"
   ]
  },
  {
   "cell_type": "markdown",
   "id": "6b045d73-aa5d-4c72-89d0-9945d6624383",
   "metadata": {},
   "source": [
    "### Slicing:"
   ]
  },
  {
   "cell_type": "code",
   "execution_count": 7,
   "id": "59b47b01-4448-49f2-b6a1-346a6a24dfe4",
   "metadata": {},
   "outputs": [
    {
     "name": "stdout",
     "output_type": "stream",
     "text": [
      "bc\n",
      "bc\n",
      "bcd\n",
      "dcba\n"
     ]
    }
   ],
   "source": [
    "print(s[1:3])\n",
    "print(s[1:-1])\n",
    "print(s[1:4])\n",
    "print(s[::-1]) #reverse string"
   ]
  },
  {
   "cell_type": "markdown",
   "id": "4ed8cf23-e4d7-4a2d-849d-49cbd3450069",
   "metadata": {},
   "source": [
    "### max() min():"
   ]
  },
  {
   "cell_type": "code",
   "execution_count": 8,
   "id": "73848010-ebb5-4e72-96a9-669aa0d5e145",
   "metadata": {},
   "outputs": [
    {
     "name": "stdout",
     "output_type": "stream",
     "text": [
      "d\n",
      "a\n"
     ]
    }
   ],
   "source": [
    "print(max(s))\n",
    "print(min(s))"
   ]
  },
  {
   "cell_type": "markdown",
   "id": "773e96c1-c27a-4a18-b6f3-618a23785cce",
   "metadata": {},
   "source": [
    "### len():"
   ]
  },
  {
   "cell_type": "code",
   "execution_count": 9,
   "id": "1ea95a19-201a-43ec-b9a8-700f98944b4a",
   "metadata": {},
   "outputs": [
    {
     "name": "stdout",
     "output_type": "stream",
     "text": [
      "4\n"
     ]
    }
   ],
   "source": [
    "print(len(s))"
   ]
  },
  {
   "cell_type": "markdown",
   "id": "b601f6bc-ea7e-4f05-a000-b5177995c999",
   "metadata": {},
   "source": [
    "### ord() #binary convertor"
   ]
  },
  {
   "cell_type": "code",
   "execution_count": 11,
   "id": "507a3926-43a6-43d5-8214-8f9e641d97cf",
   "metadata": {},
   "outputs": [
    {
     "name": "stdout",
     "output_type": "stream",
     "text": [
      "97\n",
      "65\n"
     ]
    }
   ],
   "source": [
    "print(ord('a'))\n",
    "print(ord('A'))"
   ]
  },
  {
   "cell_type": "markdown",
   "id": "220f3b77-859f-4b9b-a721-f92faa8439ca",
   "metadata": {
    "editable": true,
    "slideshow": {
     "slide_type": ""
    },
    "tags": []
   },
   "source": [
    "### in , not in"
   ]
  },
  {
   "cell_type": "code",
   "execution_count": 16,
   "id": "7748673a-5ae8-484b-b7f8-ac0b9464e786",
   "metadata": {},
   "outputs": [
    {
     "name": "stdout",
     "output_type": "stream",
     "text": [
      "True\n",
      "True\n"
     ]
    }
   ],
   "source": [
    "s2 = \"python\"\n",
    "print('th' in s2)\n",
    "print('xh' not in s2)"
   ]
  },
  {
   "cell_type": "code",
   "execution_count": 20,
   "id": "34d93dc5-758e-4559-b6e6-31b8af6d44ca",
   "metadata": {},
   "outputs": [
    {
     "name": "stdout",
     "output_type": "stream",
     "text": [
      "True\n",
      "False\n"
     ]
    }
   ],
   "source": [
    "print(s2 == 'python')\n",
    "print(s2 == 'sara') #its calculate by asci value"
   ]
  },
  {
   "cell_type": "markdown",
   "id": "bae64fbf-d36c-4606-804b-ce10c3c395ac",
   "metadata": {},
   "source": [
    "### .islower() .isupper()"
   ]
  },
  {
   "cell_type": "code",
   "execution_count": 22,
   "id": "ea19610e-9579-4c96-92ba-6d68d24adbce",
   "metadata": {},
   "outputs": [
    {
     "name": "stdout",
     "output_type": "stream",
     "text": [
      "True\n",
      "False\n"
     ]
    }
   ],
   "source": [
    "print(s.islower())\n",
    "print(s.isupper())"
   ]
  },
  {
   "cell_type": "markdown",
   "id": "e881df1f-16e3-4f8e-a667-232e6f148f6e",
   "metadata": {},
   "source": [
    "### .isalnum() .isalpha() "
   ]
  },
  {
   "cell_type": "code",
   "execution_count": 24,
   "id": "01bf7cff-6487-4360-b5f5-363886b9af62",
   "metadata": {},
   "outputs": [
    {
     "name": "stdout",
     "output_type": "stream",
     "text": [
      "True\n",
      "True\n"
     ]
    }
   ],
   "source": [
    "print(s2.isalnum())\n",
    "print(s2.isalpha())"
   ]
  },
  {
   "cell_type": "markdown",
   "id": "c7863a8d-d2d8-49f5-ab39-1845700ce1d7",
   "metadata": {},
   "source": [
    "### .isdigit() .isspace()"
   ]
  },
  {
   "cell_type": "code",
   "execution_count": 28,
   "id": "e608e873-7237-4cd6-8dc3-6b3a382ad84b",
   "metadata": {},
   "outputs": [
    {
     "name": "stdout",
     "output_type": "stream",
     "text": [
      "True\n",
      "False\n"
     ]
    }
   ],
   "source": [
    "si = '15'\n",
    "print(si.isdigit())\n",
    "print(s2.isspace())"
   ]
  },
  {
   "cell_type": "code",
   "execution_count": 30,
   "id": "f452ca9a-8594-4a02-8313-54aeab2971a8",
   "metadata": {},
   "outputs": [
    {
     "name": "stdout",
     "output_type": "stream",
     "text": [
      "15\n"
     ]
    }
   ],
   "source": [
    "s3 = '12a3bcbcd45'\n",
    "A=0\n",
    "for ch in s3:\n",
    "    if ch.isdigit() == True:\n",
    "        A+= int(ch)\n",
    "print(A)"
   ]
  },
  {
   "cell_type": "markdown",
   "id": "7be20b08-eaa7-45cf-9fcf-70742ddec1ef",
   "metadata": {},
   "source": [
    "### .startswith()  .endswith()"
   ]
  },
  {
   "cell_type": "code",
   "execution_count": 33,
   "id": "2035befb-1bdc-4f16-a69d-24a09ac29e67",
   "metadata": {},
   "outputs": [
    {
     "name": "stdout",
     "output_type": "stream",
     "text": [
      "True\n",
      "True\n"
     ]
    }
   ],
   "source": [
    "s4 = \"Hello Moe!\"\n",
    "print(s4.startswith(\"Hello\"))\n",
    "print(s4.endswith(\"!\"))"
   ]
  },
  {
   "cell_type": "markdown",
   "id": "6c3273f2-444f-497a-b751-17c07d0b5ec2",
   "metadata": {},
   "source": [
    "### .find()  .index() .count()"
   ]
  },
  {
   "cell_type": "code",
   "execution_count": 44,
   "id": "e1dc3a7e-f680-4499-aede-748ba2b6d016",
   "metadata": {},
   "outputs": [
    {
     "name": "stdout",
     "output_type": "stream",
     "text": [
      "4\n",
      "4\n",
      "-1\n",
      "7\n",
      "2\n"
     ]
    }
   ],
   "source": [
    "print(s4.find(\"o\"))\n",
    "print(s4.index(\"o\")) \n",
    "#print(s4.index(\"K\"))   #if index() dont find the \"?\" ==> Error\n",
    "print(s4.find(\"k\"))     #if find() dont find the \"?\" ==> -1\n",
    "print(s4.find(\"o\",5))   # next \"?\" in s4\n",
    "\n",
    "print(s4.count(\"o\"))"
   ]
  },
  {
   "cell_type": "code",
   "execution_count": 50,
   "id": "956a1309-8c7b-4108-abab-c1ea0c60bb14",
   "metadata": {},
   "outputs": [
    {
     "name": "stdout",
     "output_type": "stream",
     "text": [
      "gmail.com\n"
     ]
    }
   ],
   "source": [
    "email = \"yourgmail@gmail.com\"\n",
    "f = email.find('@')\n",
    "print(email[f+1:])"
   ]
  },
  {
   "cell_type": "markdown",
   "id": "80234608-c02c-4628-8f42-3a8518e4e5d7",
   "metadata": {},
   "source": [
    "### .capitalize()  .title()"
   ]
  },
  {
   "cell_type": "code",
   "execution_count": 53,
   "id": "0f9b864c-d6f1-4e9d-a5b6-4e3941ab749c",
   "metadata": {},
   "outputs": [
    {
     "name": "stdout",
     "output_type": "stream",
     "text": [
      "Hello moe!\n",
      "Hello Moe!\n"
     ]
    }
   ],
   "source": [
    "print(s4.capitalize()) #just first word\n",
    "print(s4.title())      #all the word"
   ]
  },
  {
   "cell_type": "markdown",
   "id": "892a9046-9573-44ee-9b9d-e62bfd81c3d9",
   "metadata": {},
   "source": [
    "### .lower()  .upper() .swapcase()"
   ]
  },
  {
   "cell_type": "code",
   "execution_count": 54,
   "id": "7e56d417-9883-4c2d-8b7b-274e1bbf3a9f",
   "metadata": {},
   "outputs": [
    {
     "name": "stdout",
     "output_type": "stream",
     "text": [
      "hello moe!\n",
      "HELLO MOE!\n",
      "hELLO mOE!\n"
     ]
    }
   ],
   "source": [
    "print(s4.lower())\n",
    "print(s4.upper())\n",
    "print(s4.swapcase())"
   ]
  },
  {
   "cell_type": "markdown",
   "id": "c7088fa9-2cd7-4943-be64-89262f5e7386",
   "metadata": {},
   "source": [
    "### .replace() .strip() .lstrip() .rstrip()"
   ]
  },
  {
   "cell_type": "code",
   "execution_count": 62,
   "id": "0b400e18-0d2e-485e-9bb6-b8088235a48a",
   "metadata": {},
   "outputs": [
    {
     "name": "stdout",
     "output_type": "stream",
     "text": [
      "hi Moe!\n",
      "wooo\n",
      "!!wooo\n",
      "wooo!!\n"
     ]
    }
   ],
   "source": [
    "print(s4.replace('Hello','hi'))\n",
    "s5 = \"!!wooo!!\"\n",
    "print(s5.strip('!'))\n",
    "print(s5.rstrip('!'))\n",
    "print(s5.lstrip('!'))"
   ]
  },
  {
   "cell_type": "code",
   "execution_count": 81,
   "id": "3e81aee6-44f4-42bb-822a-f3ac208a9908",
   "metadata": {},
   "outputs": [
    {
     "name": "stdout",
     "output_type": "stream",
     "text": [
      "ali\n"
     ]
    }
   ],
   "source": [
    "s6 = '##ali$$$'\n",
    "print(s6.lstrip('#').rstrip('$'))"
   ]
  },
  {
   "cell_type": "markdown",
   "id": "38ba7cc4-784e-4cd2-97f8-24199cb78e8a",
   "metadata": {},
   "source": [
    "### .split() .join()"
   ]
  },
  {
   "cell_type": "code",
   "execution_count": 73,
   "id": "80118bd3-b620-4370-9511-8c2036f2c21b",
   "metadata": {},
   "outputs": [
    {
     "name": "stdout",
     "output_type": "stream",
     "text": [
      "['python', 'created', 'by', 'rossum']\n",
      "python created by rossum\n",
      "python created by rossum\n",
      "<class 'str'>\n",
      "<class 'list'>\n"
     ]
    }
   ],
   "source": [
    "s7 = \"python created by rossum\"\n",
    "ls7 = s7.split(\" \")\n",
    "print(ls7)\n",
    "js7 = \" \".join(ls7)\n",
    "print(js7)\n",
    "\n",
    "a,b,c,d = s7.split(\" \")\n",
    "print(a,b,c,d)\n",
    "print(type(a))\n",
    "print(type(ls7))"
   ]
  },
  {
   "cell_type": "code",
   "execution_count": 79,
   "id": "932200d5-9e37-4375-a0be-fe7adc9b750b",
   "metadata": {},
   "outputs": [
    {
     "name": "stdout",
     "output_type": "stream",
     "text": [
      "127.2.0.1\n"
     ]
    }
   ],
   "source": [
    "ip = '127.002.0.0001'\n",
    "ipT = '.'.join([str(int(i)) for i in ip.split(\".\")])\n",
    "print(ipT)"
   ]
  },
  {
   "cell_type": "markdown",
   "id": "992affc0-3086-4da6-bcdd-958eff6798a4",
   "metadata": {},
   "source": [
    "### .zfill()  .ljust()  .rjust()  .center()"
   ]
  },
  {
   "cell_type": "code",
   "execution_count": 82,
   "id": "92a7739c-0c8e-4d43-aa98-908c411e3d72",
   "metadata": {
    "editable": true,
    "slideshow": {
     "slide_type": ""
    },
    "tags": []
   },
   "outputs": [
    {
     "name": "stdout",
     "output_type": "stream",
     "text": [
      "00012\n",
      "012\n",
      "Moe$$$$\n",
      "$$$$Moe\n",
      "$$Moe$$\n"
     ]
    }
   ],
   "source": [
    "s9 = '12'\n",
    "print(s9.zfill(5))\n",
    "print(s9.zfill(3))\n",
    "\n",
    "s10 = 'Moe'\n",
    "print(s10.ljust(7,\"$\"))\n",
    "print(s10.rjust(7,\"$\"))\n",
    "print(s10.center(7,\"$\"))"
   ]
  },
  {
   "cell_type": "code",
   "execution_count": null,
   "id": "29f0242d-9336-4969-ab8d-07751660bc25",
   "metadata": {},
   "outputs": [],
   "source": []
  }
 ],
 "metadata": {
  "kernelspec": {
   "display_name": "Python 3 (ipykernel)",
   "language": "python",
   "name": "python3"
  },
  "language_info": {
   "codemirror_mode": {
    "name": "ipython",
    "version": 3
   },
   "file_extension": ".py",
   "mimetype": "text/x-python",
   "name": "python",
   "nbconvert_exporter": "python",
   "pygments_lexer": "ipython3",
   "version": "3.10.12"
  }
 },
 "nbformat": 4,
 "nbformat_minor": 5
}
