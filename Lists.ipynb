{
 "cells": [
  {
   "cell_type": "markdown",
   "id": "8be0705c-9122-4d9e-ae3c-240c366a2db7",
   "metadata": {
    "editable": true,
    "slideshow": {
     "slide_type": ""
    },
    "tags": []
   },
   "source": [
    "## Lists"
   ]
  },
  {
   "cell_type": "code",
   "execution_count": 2,
   "id": "d601ee70-d297-4240-9f78-35c6378b5399",
   "metadata": {
    "editable": true,
    "slideshow": {
     "slide_type": ""
    },
    "tags": []
   },
   "outputs": [
    {
     "name": "stdout",
     "output_type": "stream",
     "text": [
      "Moe\n",
      "jack\n",
      "linda\n"
     ]
    }
   ],
   "source": [
    "friends = ['Moe','jack','linda']\n",
    "for f in friends:\n",
    "    print(f)"
   ]
  },
  {
   "cell_type": "code",
   "execution_count": 5,
   "id": "15145c57-38f3-4238-92f9-44cb15e01b68",
   "metadata": {},
   "outputs": [
    {
     "name": "stdout",
     "output_type": "stream",
     "text": [
      "1\n",
      "7\n"
     ]
    }
   ],
   "source": [
    "a = [5 , 7, 12]\n",
    "print(a.index(7))  \n",
    "print(a[1])         \n",
    "a[1] = 8            # list is mutable"
   ]
  },
  {
   "cell_type": "code",
   "execution_count": 6,
   "id": "9343757a-e8e6-4abd-8d59-a4284eeb369d",
   "metadata": {},
   "outputs": [
    {
     "name": "stdout",
     "output_type": "stream",
     "text": [
      "False\n"
     ]
    }
   ],
   "source": [
    "a = [1, 2]\n",
    "b = [2, 1]\n",
    "print(a == b)    # False (list is ordered)"
   ]
  },
  {
   "cell_type": "code",
   "execution_count": 7,
   "id": "326d43dd-cd6d-4392-8fec-0719b0567d07",
   "metadata": {},
   "outputs": [
    {
     "name": "stdout",
     "output_type": "stream",
     "text": [
      "[5, 30, 2]\n",
      "[7, 5, 30]\n",
      "[2, 6, 25]\n",
      "[]\n",
      "[25, 6, 2, 30, 5, 7]\n",
      "[7, 30, 6]\n",
      "[25, 2, 5]\n",
      "[7, 5, 30, 14, 15, 25]\n",
      "[4, 7, 4, 7]\n",
      "[1, 2, 'a', 'b', 'c']\n"
     ]
    }
   ],
   "source": [
    "a = [7, 5, 30, 2, 6, 25]\n",
    "print(a[1:4])       \n",
    "print(a[:3])        \n",
    "print(a[3:])        \n",
    "print(a[3:0])       \n",
    "print(a[::-1])       \n",
    "\n",
    "print(a[0:7:2])      \n",
    "print(a[6:0:-2])     \n",
    "\n",
    "a[3:5]=[14, 15]\n",
    "print(a)           \n",
    "\n",
    "a = [4, 7]\n",
    "b = a*2\n",
    "print(b)          \n",
    "\n",
    "a = [1, 2]\n",
    "b = ['a', 'b', 'c']\n",
    "c = a + b\n",
    "print(c)           "
   ]
  },
  {
   "cell_type": "code",
   "execution_count": 8,
   "id": "e3ee5f79-c25e-424d-b171-da4fba891057",
   "metadata": {},
   "outputs": [
    {
     "name": "stdout",
     "output_type": "stream",
     "text": [
      "[109, 27]\n",
      "27\n",
      "4\n"
     ]
    }
   ],
   "source": [
    "a = [3, [109, 27], 4, 15] \n",
    "print(a[1])     \n",
    "print(a[1][1])  \n",
    "print(len(a))  "
   ]
  },
  {
   "cell_type": "code",
   "execution_count": null,
   "id": "0cc0f83c-ec99-4f9d-b594-c57ec44f7024",
   "metadata": {},
   "outputs": [],
   "source": [
    "a = [7 , 5 , 30 , 2 , 6 , 25]\n",
    "m = -1\n",
    "for i in a:\n",
    "    if i > m:\n",
    "        m = i\n",
    "\n",
    "print(m)          "
   ]
  },
  {
   "cell_type": "markdown",
   "id": "bbbd2ba9-f843-43a1-89d2-7c1efa6c54e1",
   "metadata": {},
   "source": [
    "### .insert() .count() .remove() .sum()"
   ]
  },
  {
   "cell_type": "code",
   "execution_count": 31,
   "id": "189be5ed-5194-4173-a8d2-1180ce213f53",
   "metadata": {},
   "outputs": [
    {
     "name": "stdout",
     "output_type": "stream",
     "text": [
      "2\n",
      "[1, 2, 13, 6, 5, 2]\n",
      "[1, 2, 13, 5, 2]\n",
      "23\n"
     ]
    }
   ],
   "source": [
    "a = [1,2,6,5,2]\n",
    "print(a.count(2))\n",
    "a.insert(2,13)\n",
    "print(a)\n",
    "a.remove(6)\n",
    "print(a)\n",
    "print(sum(a)) "
   ]
  },
  {
   "cell_type": "markdown",
   "id": "9e00755e-c488-4ced-a4ee-c50d891f0ac6",
   "metadata": {},
   "source": [
    "### .pop() .append()"
   ]
  },
  {
   "cell_type": "code",
   "execution_count": 23,
   "id": "56f63439-eb07-4e95-9a41-a3a20fd5ae26",
   "metadata": {},
   "outputs": [
    {
     "name": "stdout",
     "output_type": "stream",
     "text": [
      "8\n",
      "[10, 15, 12]\n",
      "12\n",
      "[10, 15, 13]\n"
     ]
    }
   ],
   "source": [
    "x = [10,15,12,8]\n",
    "p = x.pop()\n",
    "print(p)\n",
    "print(x)\n",
    "p = x.pop(2)\n",
    "print(p)\n",
    "x.append(13)\n",
    "print(x)"
   ]
  },
  {
   "cell_type": "markdown",
   "id": "f15e475c-798c-41cd-b5be-ed8a8a48918b",
   "metadata": {},
   "source": [
    "### del (keyword)"
   ]
  },
  {
   "cell_type": "code",
   "execution_count": 18,
   "id": "54090a7c-045a-4bb3-95ba-2585b33d0cce",
   "metadata": {},
   "outputs": [
    {
     "name": "stdout",
     "output_type": "stream",
     "text": [
      "[13, 5, 2]\n"
     ]
    }
   ],
   "source": [
    "del a[0:2]\n",
    "print(a)"
   ]
  },
  {
   "cell_type": "markdown",
   "id": "fd6a449d-3ce5-4b12-ae5a-bfd86a184f7d",
   "metadata": {},
   "source": [
    "### .reverse()  .sort()"
   ]
  },
  {
   "cell_type": "code",
   "execution_count": 25,
   "id": "35121b78-00ca-4cba-b694-7bbf925e1b83",
   "metadata": {},
   "outputs": [
    {
     "name": "stdout",
     "output_type": "stream",
     "text": [
      "[3, 2, 1]\n",
      "[1, 2, 3]\n"
     ]
    }
   ],
   "source": [
    "a=[1,2,3]\n",
    "a.reverse()\n",
    "print(a)\n",
    "a.sort()\n",
    "print(a)"
   ]
  },
  {
   "cell_type": "markdown",
   "id": "b226b4de-e428-413a-97b6-99f1aabd1e11",
   "metadata": {},
   "source": [
    "### .extend() .clear() .copy()"
   ]
  },
  {
   "cell_type": "code",
   "execution_count": 30,
   "id": "855dd512-4a69-45eb-b8a9-91a997ae4b8a",
   "metadata": {},
   "outputs": [
    {
     "name": "stdout",
     "output_type": "stream",
     "text": [
      "[1, 2, 3, 4, 5, 6]\n",
      "[1, 2, 3, 4, 5, 6, [4, 5, 6]]\n",
      "[]\n",
      "[1, 2, 3, 4, 5, 6, [4, 5, 6]]\n"
     ]
    }
   ],
   "source": [
    "x = [1,2,3]\n",
    "y = [4,5,6]\n",
    "x.extend(y)\n",
    "print(x)\n",
    "x.append(y)\n",
    "print(x)\n",
    "y = x.copy()\n",
    "x.clear()\n",
    "print(x)\n",
    "print(y)"
   ]
  },
  {
   "cell_type": "code",
   "execution_count": 32,
   "id": "b68db8bd-10d1-4828-a10a-08c29fa77158",
   "metadata": {},
   "outputs": [
    {
     "name": "stdout",
     "output_type": "stream",
     "text": [
      "[0, 1, 2, 3]\n",
      "[0, 1, 2, 3]\n",
      "[0, 2, 4, 6]\n",
      "[9, 16, 25]\n",
      "[1, 2, 5, 56, 8]\n"
     ]
    }
   ],
   "source": [
    "a = []\n",
    "for i in range(4):\n",
    "    a.append(i)\n",
    "print(a)          \n",
    "\n",
    "a = [i for i in range(4)]\n",
    "print(a)        \n",
    "\n",
    "\n",
    "a = [i*2 for i in range(4)]\n",
    "print(a)         \n",
    "\n",
    "# [9, 16, 25]\n",
    "a = [i*i for i in range(3,6)]\n",
    "print(a)\n",
    "\n",
    "a = [1 , -2 , 5 , -56 , 8]\n",
    "b = [abs(i) for i in a]\n",
    "print(b) "
   ]
  },
  {
   "cell_type": "code",
   "execution_count": 34,
   "id": "5fd5913f-9845-463a-b461-d4e080a39dc5",
   "metadata": {},
   "outputs": [
    {
     "name": "stdout",
     "output_type": "stream",
     "text": [
      "['ali', 'sara']\n"
     ]
    }
   ],
   "source": [
    "a = ['$ali', 'sara$']\n",
    "b = [i.strip('$') for i in a]\n",
    "print(b)     "
   ]
  },
  {
   "cell_type": "code",
   "execution_count": 35,
   "id": "b7717e60-cf18-4d5c-a0fb-4de719b17491",
   "metadata": {},
   "outputs": [
    {
     "name": "stdout",
     "output_type": "stream",
     "text": [
      "[8, 2]\n"
     ]
    }
   ],
   "source": [
    "a = [11, 8, 14, 20 , 2]\n",
    "b = [i for i in a if i < 10]\n",
    "print(b)"
   ]
  },
  {
   "cell_type": "code",
   "execution_count": 36,
   "id": "ef05de3a-50a9-4d32-ae7d-61acbe2643bd",
   "metadata": {},
   "outputs": [
    {
     "name": "stdout",
     "output_type": "stream",
     "text": [
      "[(1, 4), (1, 5), (2, 1), (2, 4), (2, 5)]\n"
     ]
    }
   ],
   "source": [
    "a = [1, 2]\n",
    "b = [1 ,4, 5]\n",
    "c = []\n",
    "for i in a:\n",
    "    for j in b:\n",
    "        if i != j:\n",
    "          c.append((i,j))\n",
    "print(c) "
   ]
  },
  {
   "cell_type": "markdown",
   "id": "294ab6ba-a107-46ff-ae77-233baa82dc71",
   "metadata": {},
   "source": [
    "### .isnan()"
   ]
  },
  {
   "cell_type": "code",
   "execution_count": 37,
   "id": "99486ffb-1342-43cf-ac76-e003b725c71d",
   "metadata": {},
   "outputs": [
    {
     "name": "stdout",
     "output_type": "stream",
     "text": [
      "[2.6, 4.8, 6.9]\n"
     ]
    }
   ],
   "source": [
    "a = [2.6, float('NaN') , 4.8 , 6.9, float('NaN')]\n",
    "b = []\n",
    "import math\n",
    "for i in a:\n",
    "    if not math.isnan(i):\n",
    "        b.append(i)\n",
    "print(b)"
   ]
  },
  {
   "cell_type": "markdown",
   "id": "6d68fc43-68e7-4a15-8b35-55545a72d0d0",
   "metadata": {},
   "source": [
    "### Matrix:\n"
   ]
  },
  {
   "cell_type": "code",
   "execution_count": 38,
   "id": "b7d5f5e0-0c94-4656-8a3a-55f77d82dcde",
   "metadata": {},
   "outputs": [],
   "source": [
    "m = [\n",
    "    [1,2,3],\n",
    "    [4,5,6],\n",
    "    [7,8,9]\n",
    "]"
   ]
  },
  {
   "cell_type": "code",
   "execution_count": 41,
   "id": "96d90692-1e3a-4aa7-bc71-aa95a2eafb99",
   "metadata": {},
   "outputs": [
    {
     "name": "stdout",
     "output_type": "stream",
     "text": [
      "3\n",
      "[1, 2, 3]\n",
      "1\n"
     ]
    }
   ],
   "source": [
    "print(len(m))\n",
    "print(m[0])\n",
    "print(m[0][0])"
   ]
  },
  {
   "cell_type": "code",
   "execution_count": 43,
   "id": "ab10d886-2ca5-4e8c-8d1b-e6dfe8962801",
   "metadata": {},
   "outputs": [
    {
     "name": "stdout",
     "output_type": "stream",
     "text": [
      "[1, 2, 3]\n",
      "[4, 5, 6]\n",
      "[7, 8, 9]\n"
     ]
    }
   ],
   "source": [
    "for i in m:\n",
    "    print(i)"
   ]
  },
  {
   "cell_type": "code",
   "execution_count": 44,
   "id": "4649bbd3-eb4d-40ab-81f6-696f1468b55c",
   "metadata": {},
   "outputs": [
    {
     "name": "stdout",
     "output_type": "stream",
     "text": [
      "1 5 9 "
     ]
    }
   ],
   "source": [
    "for i in range(0,3):\n",
    "    print(m[i][i],end=\" \")"
   ]
  },
  {
   "cell_type": "code",
   "execution_count": 45,
   "id": "136700a2-7e5a-42be-b3b8-93c7a3f71f4e",
   "metadata": {},
   "outputs": [
    {
     "name": "stdout",
     "output_type": "stream",
     "text": [
      "3\n",
      "5\n",
      "7\n"
     ]
    }
   ],
   "source": [
    "for i in range(0,3):\n",
    "    print(m[i][2-i])"
   ]
  },
  {
   "cell_type": "code",
   "execution_count": 48,
   "id": "9ff3b7c6-368e-4af7-979f-2bbb184a5b43",
   "metadata": {},
   "outputs": [
    {
     "name": "stdout",
     "output_type": "stream",
     "text": [
      "[6, 15, 24]\n"
     ]
    }
   ],
   "source": [
    "a = []\n",
    "a.extend([sum(i) for i in m])\n",
    "print(a) \n"
   ]
  },
  {
   "cell_type": "code",
   "execution_count": 49,
   "id": "a209bca8-dc24-400e-8297-fb9937464dc2",
   "metadata": {},
   "outputs": [
    {
     "name": "stdout",
     "output_type": "stream",
     "text": [
      "[12, 15, 18]\n"
     ]
    }
   ],
   "source": [
    "\n",
    "b = []\n",
    "for col in range(3):\n",
    "    b.append(sum(i[col] for i in m))\n",
    "print(b)   "
   ]
  },
  {
   "cell_type": "code",
   "execution_count": null,
   "id": "8a8e8147-fa38-400d-bcd0-7d192c15902e",
   "metadata": {},
   "outputs": [],
   "source": []
  }
 ],
 "metadata": {
  "kernelspec": {
   "display_name": "Python 3 (ipykernel)",
   "language": "python",
   "name": "python3"
  },
  "language_info": {
   "codemirror_mode": {
    "name": "ipython",
    "version": 3
   },
   "file_extension": ".py",
   "mimetype": "text/x-python",
   "name": "python",
   "nbconvert_exporter": "python",
   "pygments_lexer": "ipython3",
   "version": "3.10.12"
  }
 },
 "nbformat": 4,
 "nbformat_minor": 5
}
