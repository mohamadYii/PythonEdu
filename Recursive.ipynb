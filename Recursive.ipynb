{
 "cells": [
  {
   "cell_type": "markdown",
   "id": "050f5aad-b0a7-4ae9-80fb-454621644415",
   "metadata": {},
   "source": [
    "## Recursive"
   ]
  },
  {
   "cell_type": "code",
   "execution_count": 2,
   "id": "c04443e8-211b-405a-955f-81a63b91a183",
   "metadata": {},
   "outputs": [
    {
     "name": "stdout",
     "output_type": "stream",
     "text": [
      "6\n"
     ]
    }
   ],
   "source": [
    "def fact(n):\n",
    "    f = 1\n",
    "    if n == 0 :\n",
    "        print('1')\n",
    "    else:\n",
    "        for i in range(1, n+1):\n",
    "             f *= i\n",
    "        print(f)\n",
    "\n",
    "fact(3)"
   ]
  },
  {
   "cell_type": "code",
   "execution_count": 3,
   "id": "b47a7a16-0313-4e55-ba7e-61c3eb964d31",
   "metadata": {},
   "outputs": [
    {
     "name": "stdout",
     "output_type": "stream",
     "text": [
      "6\n"
     ]
    }
   ],
   "source": [
    "def fact_rec(n):\n",
    "    if n == 1:\n",
    "        return 1\n",
    "    else:\n",
    "        return n * fact_rec(n-1)\n",
    "\n",
    "print(fact_rec(3))"
   ]
  },
  {
   "cell_type": "code",
   "execution_count": 4,
   "id": "418df53e-f386-4fae-8b62-192f0d0b35b5",
   "metadata": {},
   "outputs": [
    {
     "name": "stdout",
     "output_type": "stream",
     "text": [
      "6\n"
     ]
    }
   ],
   "source": [
    "def mul(x,y):\n",
    "    if y == 0:\n",
    "        return 0\n",
    "    elif y == 1:\n",
    "        return x\n",
    "    else:\n",
    "        return x + mul(x,y-1)\n",
    "    \n",
    "print(mul(2,3))"
   ]
  },
  {
   "cell_type": "code",
   "execution_count": 11,
   "id": "d229fe11-cb9e-4dfa-9036-6b0e8045c5db",
   "metadata": {},
   "outputs": [
    {
     "name": "stdout",
     "output_type": "stream",
     "text": [
      "243\n"
     ]
    }
   ],
   "source": [
    "def pow_rec(x,y):\n",
    "    if y == 0:\n",
    "        return 1\n",
    "    elif x == 0:\n",
    "        return 0\n",
    "    elif y == 1:\n",
    "        return x\n",
    "    else:\n",
    "        return x * pow_rec(x,y-1)\n",
    "    \n",
    "print(pow_rec(3,5))"
   ]
  },
  {
   "cell_type": "code",
   "execution_count": 17,
   "id": "0b183027-e8ff-4cf9-8ecd-8c06dcda2007",
   "metadata": {},
   "outputs": [
    {
     "name": "stdout",
     "output_type": "stream",
     "text": [
      "[0, 1, 1, 2, 3]\n"
     ]
    }
   ],
   "source": [
    "def fibo(n):\n",
    "    r = []\n",
    "    a = 0\n",
    "    b = 1\n",
    "    while a < n:\n",
    "        r.append(a)\n",
    "        a, b = b, a+b\n",
    "    return r\n",
    "\n",
    "print(fibo(4)) "
   ]
  },
  {
   "cell_type": "code",
   "execution_count": 18,
   "id": "c41a60da-e706-45b4-883e-4a5b1a631a97",
   "metadata": {},
   "outputs": [
    {
     "name": "stdout",
     "output_type": "stream",
     "text": [
      "3\n"
     ]
    }
   ],
   "source": [
    "def fiborec(n):\n",
    "    if n == 0:\n",
    "        return 0\n",
    "    elif n == 1:\n",
    "        return 1\n",
    "    else:\n",
    "        return fiborec(n-1) + fiborec(n-2)\n",
    "\n",
    "print(fiborec(4))"
   ]
  },
  {
   "cell_type": "code",
   "execution_count": 22,
   "id": "1c06a4cf-dfbf-49ea-adc6-a8d9121873fa",
   "metadata": {},
   "outputs": [
    {
     "name": "stdout",
     "output_type": "stream",
     "text": [
      "24\n"
     ]
    }
   ],
   "source": [
    "def f(lst):\n",
    "    if len(lst) == 1:\n",
    "        return lst[0]\n",
    "    else:\n",
    "        return lst[0] + f(lst[1:])    \n",
    "\n",
    "a = [2, 4, 5, 6, 7]\n",
    "print(f(a))\n",
    "\n",
    "#f([2, 4, 5, 6, 7]) = 2 + f([4, 5, 6, 7]) =2 + 22 = 24\n",
    "#f([4, 5, 6, 7])    = 4 + f([5, 6, 7]) = 4 + 18 = 22\n",
    "#f([5, 6, 7])       = 5 + f([6, 7]) = 5 + 13 = 18\n",
    "#f([6, 7])          = 6 + f([7])  = 6 + 7 = 13\n",
    "#f([7])             = 7 "
   ]
  },
  {
   "cell_type": "code",
   "execution_count": 21,
   "id": "c6cba630-02ac-4228-96b0-8f95f4f800e5",
   "metadata": {},
   "outputs": [
    {
     "name": "stdout",
     "output_type": "stream",
     "text": [
      "12\n"
     ]
    }
   ],
   "source": [
    "def sum_digits(n):\n",
    "    if n == 0:\n",
    "        return 0\n",
    "    else:\n",
    "        return n % 10 + sum_digits(int(n/10)) \n",
    "\n",
    "print(sum_digits(345))\n",
    "\n",
    "#sum_digits(345) = 5 + sum_digits(34)= 5 + 7 = 12\n",
    "#sum_digits(34)  = 4 + sum_digits(3) = 4 + 3 = 7\n",
    "#sum_digits(3)   = 3 + sum_digits(0) = 3 + 0 = 3"
   ]
  },
  {
   "cell_type": "code",
   "execution_count": 24,
   "id": "1afa9431-63c1-47fd-82af-0ad3620cd997",
   "metadata": {},
   "outputs": [
    {
     "name": "stdout",
     "output_type": "stream",
     "text": [
      "A\n",
      "19\n",
      "1000\n"
     ]
    }
   ],
   "source": [
    "def f(n,base):\n",
    "     s = '0123456789ABCDEF'\n",
    "     if n < base:\n",
    "         return s[n]\n",
    "     else:\n",
    "         return f(n//base , base) + s[ n % base]\n",
    "\n",
    "print(f(10,16))       # A\n",
    "print(f(25,16)) \n",
    "\n",
    "print(f(8,2))         # 1000\n",
    "\n",
    "#f(8,2) = f(4,2) + s[0] = 100 + 0 = 1000\n",
    "#f(4,2) = f(2,2) + s[0] = 10  + 0 = 100\n",
    "#f(2,2) = f(1,2) + s[0] = 1   + 0 = 10\n",
    "#f(1,2) = s[1] =1"
   ]
  },
  {
   "cell_type": "markdown",
   "id": "15c47dba-5f36-4821-bb4e-15665477a512",
   "metadata": {},
   "source": [
    "### binary search"
   ]
  },
  {
   "cell_type": "code",
   "execution_count": 26,
   "id": "54b48589-9c65-4831-92b6-ced772438cde",
   "metadata": {},
   "outputs": [
    {
     "name": "stdout",
     "output_type": "stream",
     "text": [
      "4\n",
      "1\n",
      "False\n"
     ]
    }
   ],
   "source": [
    "def binary_search(lst, x, start=0, end=None):\n",
    "    if end is None:\n",
    "        end = len(lst) - 1\n",
    "    if start > end:\n",
    "        return False\n",
    "    mid = (start + end) // 2\n",
    "    if x == lst[mid]:\n",
    "        return mid\n",
    "    if x < lst[mid]:\n",
    "        return binary_search(lst, x, start, mid - 1)\n",
    "    return binary_search(lst, x, mid + 1, end)\n",
    "\n",
    "a = [2, 4, 7, 12, 19, 25, 38]\n",
    "print(binary_search(a, 19 ))    \n",
    "print(binary_search(a, 4 ))     \n",
    "print(binary_search(a, 20))     \n"
   ]
  },
  {
   "cell_type": "code",
   "execution_count": null,
   "id": "28ec211f-b018-471d-b361-2475824473ec",
   "metadata": {},
   "outputs": [],
   "source": []
  }
 ],
 "metadata": {
  "kernelspec": {
   "display_name": "Python 3 (ipykernel)",
   "language": "python",
   "name": "python3"
  },
  "language_info": {
   "codemirror_mode": {
    "name": "ipython",
    "version": 3
   },
   "file_extension": ".py",
   "mimetype": "text/x-python",
   "name": "python",
   "nbconvert_exporter": "python",
   "pygments_lexer": "ipython3",
   "version": "3.10.12"
  }
 },
 "nbformat": 4,
 "nbformat_minor": 5
}
