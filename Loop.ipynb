{
 "cells": [
  {
   "cell_type": "markdown",
   "id": "00ee7869-2a47-42e3-93b5-5c2471b19b3c",
   "metadata": {
    "editable": true,
    "slideshow": {
     "slide_type": ""
    },
    "tags": []
   },
   "source": [
    "## Loop "
   ]
  },
  {
   "cell_type": "markdown",
   "id": "244c166d-e2a1-4602-aec2-d246be51a60d",
   "metadata": {
    "editable": true,
    "slideshow": {
     "slide_type": ""
    },
    "tags": []
   },
   "source": [
    "### for , while"
   ]
  },
  {
   "cell_type": "code",
   "execution_count": 2,
   "id": "76bb92d6-39dd-4f7b-854f-53daa3c1921a",
   "metadata": {
    "editable": true,
    "slideshow": {
     "slide_type": ""
    },
    "tags": []
   },
   "outputs": [
    {
     "name": "stdout",
     "output_type": "stream",
     "text": [
      "0 1 2 3 "
     ]
    }
   ],
   "source": [
    "for i in range(4):\n",
    "    print(i , end = ' ')"
   ]
  },
  {
   "cell_type": "code",
   "execution_count": 5,
   "id": "beabc7c6-fd9f-4d55-883e-c5515da17ada",
   "metadata": {},
   "outputs": [
    {
     "name": "stdout",
     "output_type": "stream",
     "text": [
      "3 4 5 6 7 "
     ]
    }
   ],
   "source": [
    "for i in range(3,8):\n",
    "    print(i,end = ' ')"
   ]
  },
  {
   "cell_type": "code",
   "execution_count": 9,
   "id": "cdd62700-b128-4712-ba1c-2e151fb984a1",
   "metadata": {},
   "outputs": [
    {
     "name": "stdout",
     "output_type": "stream",
     "text": [
      "1 3 5 7 9 "
     ]
    }
   ],
   "source": [
    "for i in range(1,10,2): # range with step\n",
    "    print(i,end=\" \")"
   ]
  },
  {
   "cell_type": "code",
   "execution_count": 13,
   "id": "bf122cdd-77d2-46f0-8f3c-f57efd30ab84",
   "metadata": {},
   "outputs": [
    {
     "name": "stdout",
     "output_type": "stream",
     "text": [
      "H.e.l.l.o. .e.v.e.r.y. .o.n.e."
     ]
    }
   ],
   "source": [
    "for ch in \"Hello every one\":\n",
    "    print(ch,end=\".\")"
   ]
  },
  {
   "cell_type": "code",
   "execution_count": 16,
   "id": "b013ea25-af82-4514-91f8-e3f7da43b0eb",
   "metadata": {},
   "outputs": [
    {
     "name": "stdout",
     "output_type": "stream",
     "text": [
      "6\n"
     ]
    }
   ],
   "source": [
    "word = \"python\"\n",
    "c = 0 \n",
    "for i in word:\n",
    "    c+=1\n",
    "print(c)"
   ]
  },
  {
   "cell_type": "code",
   "execution_count": 18,
   "id": "ccf1d4bf-6390-498b-b597-8a6badf1cb33",
   "metadata": {},
   "outputs": [
    {
     "name": "stdout",
     "output_type": "stream",
     "text": [
      "2\n"
     ]
    }
   ],
   "source": [
    "name = \"linda\"\n",
    "v = 'aeiou'\n",
    "c = 0\n",
    "for ch in name:\n",
    "    if ch in v:\n",
    "        c+=1\n",
    "print(c)"
   ]
  },
  {
   "cell_type": "code",
   "execution_count": 21,
   "id": "6390776e-44e4-4549-b784-3024d2b27189",
   "metadata": {},
   "outputs": [
    {
     "name": "stdout",
     "output_type": "stream",
     "text": [
      "['i', 'a']\n"
     ]
    }
   ],
   "source": [
    "#faster Version \n",
    "i = [ch for ch in name if ch in v]\n",
    "print(i)"
   ]
  },
  {
   "cell_type": "code",
   "execution_count": 22,
   "id": "704a8410-49c7-44b9-9076-ea59fd518d66",
   "metadata": {},
   "outputs": [
    {
     "name": "stdout",
     "output_type": "stream",
     "text": [
      "2\n",
      "3\n",
      "2\n",
      "3\n",
      "2\n",
      "3\n"
     ]
    }
   ],
   "source": [
    "for i in range(1,4):\n",
    "    for j in range(2,4):\n",
    "        print(j)"
   ]
  },
  {
   "cell_type": "markdown",
   "id": "ed0bb6a5-fc8f-4ca9-9aeb-a262dd011e50",
   "metadata": {},
   "source": [
    "### Break continue"
   ]
  },
  {
   "cell_type": "code",
   "execution_count": 5,
   "id": "b62bc8c9-934f-44b0-a2cc-38ead3226490",
   "metadata": {},
   "outputs": [
    {
     "name": "stdout",
     "output_type": "stream",
     "text": [
      "1 \n",
      "1 2 \n",
      "1 2 3 \n",
      "1 2 3 4 \n",
      "1 2 3 4 5 \n",
      "1 2 3 4 5 6 \n"
     ]
    }
   ],
   "source": [
    "for i in range(2,8):\n",
    "    for j in range(1,i):\n",
    "        print(j,end=\" \")\n",
    "    print()"
   ]
  },
  {
   "cell_type": "code",
   "execution_count": 14,
   "id": "fbb31b64-54de-4f95-954e-9d069620da24",
   "metadata": {},
   "outputs": [
    {
     "name": "stdout",
     "output_type": "stream",
     "text": [
      "0 1 2 \n",
      "0 1 2 * 4 5 6 7 "
     ]
    }
   ],
   "source": [
    "for i in range(8):\n",
    "    if i == 3:\n",
    "        break;\n",
    "    else:\n",
    "        print(i,end=\" \")\n",
    "print()\n",
    "for i in range(8):\n",
    "    if i == 3:\n",
    "        print(\"*\",end=\" \")\n",
    "        continue;\n",
    "    else:\n",
    "        print(i,end=\" \")"
   ]
  },
  {
   "cell_type": "code",
   "execution_count": 15,
   "id": "0c81f38e-4964-4c50-b152-41d11b4c8136",
   "metadata": {},
   "outputs": [
    {
     "name": "stdout",
     "output_type": "stream",
     "text": [
      "10 12 14 "
     ]
    }
   ],
   "source": [
    "for n in range(10,15):\n",
    "    for i in range(2,n):\n",
    "        if n % i == 0:\n",
    "            print(n,end=' ')\n",
    "            break"
   ]
  },
  {
   "cell_type": "code",
   "execution_count": 16,
   "id": "ca1ce189-f583-4d4e-a91a-864a00a4e331",
   "metadata": {},
   "outputs": [
    {
     "name": "stdout",
     "output_type": "stream",
     "text": [
      "1 2 3 "
     ]
    }
   ],
   "source": [
    "i = 1\n",
    "while(i<=3):\n",
    "    print(i,end=' ')\n",
    "    i += 1\n",
    "    "
   ]
  },
  {
   "cell_type": "code",
   "execution_count": 17,
   "id": "43a89af5-ea62-4f27-a282-198f32b3144a",
   "metadata": {},
   "outputs": [
    {
     "name": "stdout",
     "output_type": "stream",
     "text": [
      "a b c "
     ]
    }
   ],
   "source": [
    "s = 'abcdef'\n",
    "i = 0\n",
    "while True:\n",
    "    if s[i]=='d':\n",
    "        break;\n",
    "    print(s[i],end=\" \")\n",
    "    i+=1"
   ]
  },
  {
   "cell_type": "code",
   "execution_count": 20,
   "id": "9ddb078a-7a72-4363-a1e4-ba3bea330d4f",
   "metadata": {},
   "outputs": [
    {
     "name": "stdout",
     "output_type": "stream",
     "text": [
      "0 1 1 2 3 5 8 "
     ]
    }
   ],
   "source": [
    "#fibonachi\n",
    "a = 0\n",
    "b = 1\n",
    "while a < 10:\n",
    "    print(a,end=' ')\n",
    "    a , b = b ,a+b"
   ]
  },
  {
   "cell_type": "code",
   "execution_count": 25,
   "id": "cb00a07c-b7d9-44b1-9aa8-3c5bf18b4c13",
   "metadata": {},
   "outputs": [
    {
     "name": "stdout",
     "output_type": "stream",
     "text": [
      "3\n"
     ]
    },
    {
     "name": "stdin",
     "output_type": "stream",
     "text": [
      "Enter: 5\n"
     ]
    },
    {
     "name": "stdout",
     "output_type": "stream",
     "text": [
      "<\n"
     ]
    },
    {
     "name": "stdin",
     "output_type": "stream",
     "text": [
      "Enter: 4\n"
     ]
    },
    {
     "name": "stdout",
     "output_type": "stream",
     "text": [
      "<\n"
     ]
    },
    {
     "name": "stdin",
     "output_type": "stream",
     "text": [
      "Enter: 3\n"
     ]
    },
    {
     "name": "stdout",
     "output_type": "stream",
     "text": [
      "Correct\n",
      "Thanks\n"
     ]
    }
   ],
   "source": [
    "import random\n",
    "n = random.randrange(0,10)\n",
    "f = 'no'\n",
    "print(n)\n",
    "while f=='no':\n",
    "    a = int(input(\"Enter:\"))\n",
    "    if a <n:\n",
    "        print(\">\")\n",
    "    elif a> n:\n",
    "        print(\"<\")\n",
    "    else:\n",
    "        print(\"Correct\")\n",
    "        f = 'Yes'\n",
    "print(\"Thanks\")"
   ]
  },
  {
   "cell_type": "code",
   "execution_count": null,
   "id": "5b97e806-8347-428d-a543-6750bee7211d",
   "metadata": {},
   "outputs": [],
   "source": []
  }
 ],
 "metadata": {
  "kernelspec": {
   "display_name": "Python 3 (ipykernel)",
   "language": "python",
   "name": "python3"
  },
  "language_info": {
   "codemirror_mode": {
    "name": "ipython",
    "version": 3
   },
   "file_extension": ".py",
   "mimetype": "text/x-python",
   "name": "python",
   "nbconvert_exporter": "python",
   "pygments_lexer": "ipython3",
   "version": "3.10.12"
  }
 },
 "nbformat": 4,
 "nbformat_minor": 5
}
