{
 "cells": [
  {
   "cell_type": "markdown",
   "id": "a290ad09-24d3-4e6d-8a91-3ad75639805e",
   "metadata": {},
   "source": [
    "## Control Statements"
   ]
  },
  {
   "cell_type": "markdown",
   "id": "44962b32-9356-4b60-9999-055a573cc115",
   "metadata": {
    "editable": true,
    "slideshow": {
     "slide_type": ""
    },
    "tags": []
   },
   "source": [
    "#### if \n",
    "#### if else\n",
    "#### elif"
   ]
  },
  {
   "cell_type": "code",
   "execution_count": 1,
   "id": "564f4a11-ef76-4867-8a5a-73d4fd2dff8d",
   "metadata": {},
   "outputs": [],
   "source": [
    "import math "
   ]
  },
  {
   "cell_type": "code",
   "execution_count": 6,
   "id": "c88c5577-1770-49c8-b7f3-1e825c8f1ffc",
   "metadata": {},
   "outputs": [
    {
     "name": "stdout",
     "output_type": "stream",
     "text": [
      "16\n"
     ]
    }
   ],
   "source": [
    "n = -16\n",
    "if n<0 :\n",
    "    n = abs(n)\n",
    "print(n)"
   ]
  },
  {
   "cell_type": "code",
   "execution_count": 19,
   "id": "a12410b6-d260-4a6a-9e2e-742aa268decd",
   "metadata": {},
   "outputs": [
    {
     "name": "stdin",
     "output_type": "stream",
     "text": [
      "Enter Number: 20\n"
     ]
    },
    {
     "name": "stdout",
     "output_type": "stream",
     "text": [
      "its 20\n"
     ]
    }
   ],
   "source": [
    "n2 = int(input(\"Enter Number:\"))\n",
    "if n2 > 20:\n",
    "    print(\"20<\")\n",
    "elif n2 == 20:\n",
    "    print(\"its 20\")\n",
    "else:\n",
    "    print(\"20>\")\n"
   ]
  },
  {
   "cell_type": "code",
   "execution_count": 16,
   "id": "9e76f170-5551-48e3-9203-4e2980987392",
   "metadata": {},
   "outputs": [
    {
     "name": "stdout",
     "output_type": "stream",
     "text": [
      "Ok\n"
     ]
    }
   ],
   "source": [
    "x = 3\n",
    "y = 1\n",
    "if x == 1 or y == 1:\n",
    "    print('Ok')\n",
    "else:\n",
    "    print('No')"
   ]
  },
  {
   "cell_type": "code",
   "execution_count": 20,
   "id": "d7eb1df0-3a88-4668-a84a-173cc0acc468",
   "metadata": {},
   "outputs": [
    {
     "name": "stdout",
     "output_type": "stream",
     "text": [
      "found\n"
     ]
    }
   ],
   "source": [
    "names = ['jack','melisa','Moe']\n",
    "if 'jack' in names:\n",
    "    print(\"found\")\n",
    "else:\n",
    "    print(\"not Found\")"
   ]
  },
  {
   "cell_type": "markdown",
   "id": "f50c58ce-3e44-4274-99d5-a1b807164509",
   "metadata": {},
   "source": [
    "### Conditional expression"
   ]
  },
  {
   "cell_type": "code",
   "execution_count": 22,
   "id": "b7b6188c-8b52-4f1e-bbf4-a382379df82d",
   "metadata": {},
   "outputs": [
    {
     "name": "stdout",
     "output_type": "stream",
     "text": [
      "2\n"
     ]
    }
   ],
   "source": [
    "#normal\n",
    "a = 2\n",
    "b = 5\n",
    "if a < b:\n",
    "    m=a\n",
    "else:\n",
    "    m=b\n",
    "print(m)"
   ]
  },
  {
   "cell_type": "code",
   "execution_count": 26,
   "id": "bdac077d-bf43-48fc-9b19-f70ae5c00c4e",
   "metadata": {},
   "outputs": [
    {
     "name": "stdout",
     "output_type": "stream",
     "text": [
      "2\n"
     ]
    }
   ],
   "source": [
    "# CE\n",
    "n = a if a<b else b\n",
    "print(n)"
   ]
  },
  {
   "cell_type": "code",
   "execution_count": 28,
   "id": "03ae8079-ec9a-4147-8752-9da6b48c357a",
   "metadata": {},
   "outputs": [
    {
     "name": "stdout",
     "output_type": "stream",
     "text": [
      "9\n"
     ]
    }
   ],
   "source": [
    "x = 2\n",
    "y = 6\n",
    "z = 1+(x if x >y else y+2)\n",
    "print(z)"
   ]
  },
  {
   "cell_type": "code",
   "execution_count": 30,
   "id": "7d00d74f-6edc-49b4-ad68-4b8fa9e7a0d0",
   "metadata": {},
   "outputs": [
    {
     "name": "stdout",
     "output_type": "stream",
     "text": [
      "Pass\n"
     ]
    }
   ],
   "source": [
    "grade = 12\n",
    "s = 'Fail' if grade < 10 else 'Pass'\n",
    "print(s)"
   ]
  },
  {
   "cell_type": "code",
   "execution_count": 31,
   "id": "e12f0ce5-1193-4eb1-91b3-9ef090d56c90",
   "metadata": {},
   "outputs": [
    {
     "name": "stdout",
     "output_type": "stream",
     "text": [
      "A\n"
     ]
    }
   ],
   "source": [
    "score = 100;\n",
    "if score >= 90:\n",
    "    l = \"A\"\n",
    "else:\n",
    "    if score>=80:\n",
    "        l =\"B\"\n",
    "    else:\n",
    "        if score >= 70:\n",
    "            l = \"C\"\n",
    "        else:\n",
    "            l = \"D\"\n",
    "print(l)\n",
    "            "
   ]
  },
  {
   "cell_type": "code",
   "execution_count": 32,
   "id": "dc246cc2-5938-4020-ad67-cb4aa9803aee",
   "metadata": {},
   "outputs": [
    {
     "name": "stdout",
     "output_type": "stream",
     "text": [
      "A\n"
     ]
    }
   ],
   "source": [
    "score = 100;\n",
    "if score >= 90:\n",
    "    l = \"A\"\n",
    "elif score>=80:\n",
    "    l =\"B\"\n",
    "elif score >= 70:\n",
    "    l = \"C\"\n",
    "else:\n",
    "    l = \"D\"\n",
    "print(l)\n",
    "            "
   ]
  },
  {
   "cell_type": "code",
   "execution_count": 39,
   "id": "c7ce8135-962e-45af-9282-36825100072b",
   "metadata": {},
   "outputs": [
    {
     "name": "stdout",
     "output_type": "stream",
     "text": [
      "son\n"
     ]
    }
   ],
   "source": [
    "age = 12\n",
    "gender = 'M'\n",
    "\n",
    "if age <18:\n",
    "    if gender == 'M':\n",
    "        print(\"son\")\n",
    "    else:\n",
    "        print(\"daughter\")\n",
    "elif age >= 18 and age <65:\n",
    "    if gender == 'M':\n",
    "        print(\"Father\")\n",
    "    else:\n",
    "        print(\"Mother\")\n",
    "else:\n",
    "    if gender == 'M':\n",
    "        print(\"Grandfather\")\n",
    "    else:\n",
    "        print(\"GrandMother\")\n",
    "    \n"
   ]
  },
  {
   "cell_type": "code",
   "execution_count": 54,
   "id": "33e38054-081a-4e79-a42f-24074fa02987",
   "metadata": {},
   "outputs": [
    {
     "name": "stdout",
     "output_type": "stream",
     "text": [
      "Your BMI = 24.489 You are Normal.\n"
     ]
    }
   ],
   "source": [
    "w = 75\n",
    "h = 1.75\n",
    "\n",
    "bmi = w / (h**2)\n",
    "if bmi <15:\n",
    "    c=\"Very severly underweight\"\n",
    "elif 15 <= bmi <= 16:\n",
    "    c=\"severly underweight\"\n",
    "elif 16 < bmi <= 18.5:\n",
    "    c=\"underweight\"\n",
    "elif 18.5 < bmi <= 25:\n",
    "    c=\"Normal\"\n",
    "elif 25 < bmi <= 30:\n",
    "    c=\"overweight\"\n",
    "elif 30 < bmi <= 35:\n",
    "    c=\"severly overweight\"\n",
    "elif bmi > 35:\n",
    "    c=\"very severly overweight\"\n",
    "bmi = str(bmi)\n",
    "print(\"Your BMI = \"+bmi[0:6]+ \" You are \"+c+'.')"
   ]
  },
  {
   "cell_type": "code",
   "execution_count": null,
   "id": "f31626a4-9b25-4144-bcd3-9b6ee0627544",
   "metadata": {},
   "outputs": [],
   "source": []
  }
 ],
 "metadata": {
  "kernelspec": {
   "display_name": "Python 3 (ipykernel)",
   "language": "python",
   "name": "python3"
  },
  "language_info": {
   "codemirror_mode": {
    "name": "ipython",
    "version": 3
   },
   "file_extension": ".py",
   "mimetype": "text/x-python",
   "name": "python",
   "nbconvert_exporter": "python",
   "pygments_lexer": "ipython3",
   "version": "3.10.12"
  }
 },
 "nbformat": 4,
 "nbformat_minor": 5
}
