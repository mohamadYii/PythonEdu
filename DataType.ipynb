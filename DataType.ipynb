{
 "cells": [
  {
   "cell_type": "markdown",
   "id": "dc10be22-3330-4065-899a-4792df998a68",
   "metadata": {
    "editable": true,
    "slideshow": {
     "slide_type": ""
    },
    "tags": []
   },
   "source": [
    "## Python DataType\n"
   ]
  },
  {
   "cell_type": "markdown",
   "id": "c1c37d18-6ec1-40b5-a879-a8b617238b2c",
   "metadata": {
    "editable": true,
    "slideshow": {
     "slide_type": ""
    },
    "tags": []
   },
   "source": [
    "#### int float str bool complex list tuple dict set bytes\n"
   ]
  },
  {
   "cell_type": "code",
   "execution_count": 78,
   "id": "de7dd38d-3d6d-4e6e-8ead-0eaf919a491e",
   "metadata": {
    "editable": true,
    "slideshow": {
     "slide_type": ""
    },
    "tags": []
   },
   "outputs": [],
   "source": [
    "i = 2\n",
    "f = 2.3\n",
    "str = \"Moe\"\n",
    "bool = 5 > 2 # or True False\n",
    "complex = 3+4j\n",
    "li = [1,2,3]\n",
    "tuple = (1,2,3) # same as a (list) but cant change value after define\n",
    "dict  = {1:\"one\",2:\"Two\",\"What\":\"Three\"}\n",
    "set = {\"a\",\"b\",\"u\",\"u\"}"
   ]
  },
  {
   "cell_type": "markdown",
   "id": "4ef78420-cd70-4ea9-8a2c-397a0fb5e274",
   "metadata": {
    "editable": true,
    "slideshow": {
     "slide_type": ""
    },
    "tags": []
   },
   "source": [
    "### type():"
   ]
  },
  {
   "cell_type": "code",
   "execution_count": 79,
   "id": "c80dbee7-d783-4942-a0ff-1afab5003ebb",
   "metadata": {},
   "outputs": [
    {
     "data": {
      "text/plain": [
       "complex"
      ]
     },
     "execution_count": 79,
     "metadata": {},
     "output_type": "execute_result"
    }
   ],
   "source": [
    "type(complex)"
   ]
  },
  {
   "cell_type": "markdown",
   "id": "735405f1-c8da-450f-82ff-1cb4ae5a6177",
   "metadata": {},
   "source": [
    "### print():"
   ]
  },
  {
   "cell_type": "code",
   "execution_count": 80,
   "id": "9fd3594b-020f-4036-9b66-08262de0e399",
   "metadata": {},
   "outputs": [
    {
     "name": "stdout",
     "output_type": "stream",
     "text": [
      "hello\n",
      "<class 'dict'>\n",
      "2 2.3 Moe True (3+4j) 1 1 Three {'a', 'b', 'u'}\n",
      "Hello Moe\n"
     ]
    }
   ],
   "source": [
    "print(\"hello\")\n",
    "print(type(dict))\n",
    "print(i,f,str , bool , complex , li[0] , tuple[0] , dict[\"What\"],set)\n",
    "print(f\"Hello {str}\")"
   ]
  },
  {
   "cell_type": "markdown",
   "id": "510ba70d-a983-4ac2-9905-cf59b6fdd92d",
   "metadata": {},
   "source": [
    "###  .isidentifier()"
   ]
  },
  {
   "cell_type": "code",
   "execution_count": 81,
   "id": "98e66fb3-5345-4fc2-b728-934955bcb34c",
   "metadata": {},
   "outputs": [
    {
     "name": "stdout",
     "output_type": "stream",
     "text": [
      "False\n",
      "True\n"
     ]
    }
   ],
   "source": [
    "print(\"2a\".isidentifier())\n",
    "print(\"Moe\".isidentifier())"
   ]
  },
  {
   "cell_type": "markdown",
   "id": "0d12475c-aecc-4be8-90ae-53595b7acdd2",
   "metadata": {},
   "source": [
    "### iskeyword()"
   ]
  },
  {
   "cell_type": "code",
   "execution_count": 82,
   "id": "5cedcf3f-c99a-444c-8961-f2be9bb942bd",
   "metadata": {},
   "outputs": [
    {
     "name": "stdout",
     "output_type": "stream",
     "text": [
      "True\n",
      "False\n"
     ]
    }
   ],
   "source": [
    "from keyword import iskeyword\n",
    "print(iskeyword(\"if\"))\n",
    "print(iskeyword(\"Moe\"))"
   ]
  },
  {
   "cell_type": "markdown",
   "id": "e4fcb0e8-5d3a-41b4-84cc-94d3daec5f13",
   "metadata": {},
   "source": [
    "### Type Casting"
   ]
  },
  {
   "cell_type": "code",
   "execution_count": 83,
   "id": "dc73daf1-4df8-450f-9b8c-7e80b8464030",
   "metadata": {},
   "outputs": [
    {
     "name": "stdout",
     "output_type": "stream",
     "text": [
      "<class 'int'>\n",
      "<class 'float'>\n"
     ]
    }
   ],
   "source": [
    "num = 23\n",
    "fnum = float(num)\n",
    "print(type(num))\n",
    "print(type(fnum))"
   ]
  },
  {
   "cell_type": "markdown",
   "id": "a26dfd0f-163f-414b-bd02-a0893c62e021",
   "metadata": {},
   "source": [
    "### Fast Swap\n"
   ]
  },
  {
   "cell_type": "code",
   "execution_count": 84,
   "id": "55422725-90fe-4f45-a745-72e54765b2c9",
   "metadata": {},
   "outputs": [
    {
     "name": "stdout",
     "output_type": "stream",
     "text": [
      "1 2\n",
      "2 1\n",
      "2 1\n",
      "1 2\n"
     ]
    }
   ],
   "source": [
    "# Normal Swap\n",
    "a = 1\n",
    "b = 2\n",
    "print(a,b)\n",
    "temp = a\n",
    "a = b\n",
    "b = temp\n",
    "print(a,b)\n",
    "\n",
    "# Fast Swap\n",
    "print(a,b)\n",
    "a,b = b,a\n",
    "print(a,b)"
   ]
  },
  {
   "cell_type": "markdown",
   "id": "c45f39c9-15c8-4ffa-8be7-98bed0b170db",
   "metadata": {},
   "source": [
    "### input()"
   ]
  },
  {
   "cell_type": "code",
   "execution_count": 89,
   "id": "93b50654-8b6b-4249-8d26-16761ba177ce",
   "metadata": {},
   "outputs": [
    {
     "name": "stdin",
     "output_type": "stream",
     "text": [
      " 23\n"
     ]
    },
    {
     "name": "stdout",
     "output_type": "stream",
     "text": [
      "23\n",
      "<class 'int'>\n"
     ]
    }
   ],
   "source": [
    "usrInput = input()\n",
    "print(usrInput)\n",
    "usrInput = int(usrInput)\n",
    "print(type(usrInput))"
   ]
  },
  {
   "cell_type": "code",
   "execution_count": 90,
   "id": "e85e5cf5-3930-4524-87e0-0356e754741c",
   "metadata": {
    "editable": true,
    "slideshow": {
     "slide_type": ""
    },
    "tags": []
   },
   "outputs": [
    {
     "name": "stdin",
     "output_type": "stream",
     "text": [
      " Moe\n"
     ]
    },
    {
     "name": "stdout",
     "output_type": "stream",
     "text": [
      "M\n",
      "o\n",
      "e\n"
     ]
    }
   ],
   "source": [
    "usrInputStr = input()\n",
    "print(usrInputStr[0])\n",
    "print(usrInputStr[1:2])\n",
    "print(usrInputStr[-1])"
   ]
  },
  {
   "cell_type": "code",
   "execution_count": null,
   "id": "b3ab08b4-b61c-48a8-9a33-90ac25a73521",
   "metadata": {},
   "outputs": [],
   "source": []
  }
 ],
 "metadata": {
  "kernelspec": {
   "display_name": "Python 3 (ipykernel)",
   "language": "python",
   "name": "python3"
  },
  "language_info": {
   "codemirror_mode": {
    "name": "ipython",
    "version": 3
   },
   "file_extension": ".py",
   "mimetype": "text/x-python",
   "name": "python",
   "nbconvert_exporter": "python",
   "pygments_lexer": "ipython3",
   "version": "3.10.12"
  }
 },
 "nbformat": 4,
 "nbformat_minor": 5
}
