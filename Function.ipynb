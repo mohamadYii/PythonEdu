{
 "cells": [
  {
   "cell_type": "markdown",
   "id": "4b5ddbc5-71ca-4671-a086-c6accf05b43e",
   "metadata": {},
   "source": [
    "## Function:"
   ]
  },
  {
   "cell_type": "code",
   "execution_count": 1,
   "id": "e122ec41-6d1d-4d39-8069-02cc0f9598db",
   "metadata": {},
   "outputs": [
    {
     "name": "stdout",
     "output_type": "stream",
     "text": [
      "hello\n"
     ]
    }
   ],
   "source": [
    "def hello():\n",
    "    print(\"hello\")\n",
    "\n",
    "\n",
    "hello()"
   ]
  },
  {
   "cell_type": "code",
   "execution_count": 2,
   "id": "8673ff49-e429-4969-821c-e8bf3ed35065",
   "metadata": {},
   "outputs": [
    {
     "name": "stdout",
     "output_type": "stream",
     "text": [
      "hello world\n"
     ]
    }
   ],
   "source": [
    "def hello2():\n",
    "    return 'hello world'\n",
    "\n",
    "s = hello2()\n",
    "print(s)"
   ]
  },
  {
   "cell_type": "code",
   "execution_count": 3,
   "id": "c97ab2a8-166e-4252-92e0-8fe2595908b5",
   "metadata": {},
   "outputs": [
    {
     "name": "stdout",
     "output_type": "stream",
     "text": [
      "hello\n"
     ]
    }
   ],
   "source": [
    "def hello3(p):\n",
    "    print(p)\n",
    "\n",
    "hello3(\"hello\")"
   ]
  },
  {
   "cell_type": "code",
   "execution_count": 4,
   "id": "d2a9253a-944f-4021-8915-868b9f9c039b",
   "metadata": {},
   "outputs": [
    {
     "name": "stdout",
     "output_type": "stream",
     "text": [
      "7\n"
     ]
    }
   ],
   "source": [
    "def addtwo(a,b):\n",
    "    print(a+b)\n",
    "\n",
    "addtwo(3,4)"
   ]
  },
  {
   "cell_type": "code",
   "execution_count": 7,
   "id": "b0ea7ea6-15e6-495f-86a3-e88014b52176",
   "metadata": {},
   "outputs": [
    {
     "name": "stdout",
     "output_type": "stream",
     "text": [
      "10\n",
      "11\n"
     ]
    }
   ],
   "source": [
    "def f(a):\n",
    "    a *=2\n",
    "    print(a)\n",
    "    return a+1\n",
    "\n",
    "b =5\n",
    "r = f(b)\n",
    "print(r)"
   ]
  },
  {
   "cell_type": "code",
   "execution_count": 12,
   "id": "d3951d3d-2f7f-47e1-acf9-3d37da054501",
   "metadata": {},
   "outputs": [
    {
     "name": "stdout",
     "output_type": "stream",
     "text": [
      "7\n"
     ]
    }
   ],
   "source": [
    "def maxnum(x,y):\n",
    "    if x>y:\n",
    "        return x\n",
    "    return y\n",
    "\n",
    "\n",
    "print(maxnum(7,5))"
   ]
  },
  {
   "cell_type": "code",
   "execution_count": 13,
   "id": "6048e199-c6f7-4c5b-a7cc-5dd611037026",
   "metadata": {},
   "outputs": [
    {
     "name": "stdout",
     "output_type": "stream",
     "text": [
      "5\n"
     ]
    }
   ],
   "source": [
    "def maxnum2(x,y,z):\n",
    "    return maxnum(x,maxnum(y,z))\n",
    "\n",
    "print(maxnum2(2,5,3))"
   ]
  },
  {
   "cell_type": "code",
   "execution_count": 15,
   "id": "418a5818-195e-4ae0-a9f7-afb2203d6d60",
   "metadata": {},
   "outputs": [
    {
     "name": "stdout",
     "output_type": "stream",
     "text": [
      "2\n",
      "1\n",
      "2\n",
      "2\n"
     ]
    }
   ],
   "source": [
    "x = 1\n",
    "\n",
    "def f():\n",
    "    x = 2\n",
    "    print(x)\n",
    "f()\n",
    "print(x)\n",
    "#######################\n",
    "x = 1\n",
    "\n",
    "def f():\n",
    "    global x\n",
    "    x = 2\n",
    "    print(x)\n",
    "f()\n",
    "print(x)\n"
   ]
  },
  {
   "cell_type": "code",
   "execution_count": 16,
   "id": "db07ecb7-cdf5-47aa-b780-2ac2fd9e67e5",
   "metadata": {},
   "outputs": [
    {
     "name": "stdout",
     "output_type": "stream",
     "text": [
      "2\n",
      "6\n"
     ]
    }
   ],
   "source": [
    "def f(a, b):\n",
    "    a -=1\n",
    "    b +=1\n",
    "    return a, b\n",
    "\n",
    "x = 3\n",
    "y = 5\n",
    "m , n = f(x, y)\n",
    "print(m)       \n",
    "print(n)"
   ]
  },
  {
   "cell_type": "code",
   "execution_count": 17,
   "id": "cc0a5b58-580d-4b62-a513-470120583f60",
   "metadata": {},
   "outputs": [
    {
     "name": "stdout",
     "output_type": "stream",
     "text": [
      "2\n",
      "6\n"
     ]
    }
   ],
   "source": [
    "def f(a):\n",
    "    a[0] -= 1\n",
    "    a[1] += 1\n",
    "    \n",
    "lst = [3, 5] \n",
    "f(lst)  \n",
    "print(lst[0])   \n",
    "print(lst[1])"
   ]
  },
  {
   "cell_type": "code",
   "execution_count": 18,
   "id": "94dd854b-3de9-4867-a9da-3286c5048e31",
   "metadata": {},
   "outputs": [
    {
     "name": "stdout",
     "output_type": "stream",
     "text": [
      "2\n",
      "6\n"
     ]
    }
   ],
   "source": [
    "def f(d):\n",
    "    d['a'] -= 1\n",
    "    d['b'] += 1    \n",
    "        \n",
    "my_dict = {'a':3  , 'b':5}    \n",
    "f(my_dict)\n",
    "print(my_dict['a'])  \n",
    "print(my_dict['b'])"
   ]
  },
  {
   "cell_type": "code",
   "execution_count": 19,
   "id": "79657d0c-f41d-4d18-82f3-c6a2fdc6c73d",
   "metadata": {},
   "outputs": [
    {
     "name": "stdout",
     "output_type": "stream",
     "text": [
      "1 2\n",
      "1 2\n",
      "1 2\n"
     ]
    }
   ],
   "source": [
    "def f(a, b):\n",
    "    print(a, b)\n",
    "\n",
    "f(1, 2)         \n",
    "f(a = 1 , b = 2) \n",
    "f(1 , b = 2)    \n",
    "\n",
    "# f(2 , a = 1)   # f() got multiple values for argument 'a'"
   ]
  },
  {
   "cell_type": "code",
   "execution_count": 20,
   "id": "3a9ef3f6-dc35-4f4e-87c4-19bb21d054f7",
   "metadata": {},
   "outputs": [
    {
     "name": "stdout",
     "output_type": "stream",
     "text": [
      "1 5 7\n",
      "1 3 7\n",
      "1 3 5\n",
      "1 5 9\n",
      "1 3 5\n"
     ]
    }
   ],
   "source": [
    "def f(a, b=5, c=7) :\n",
    "    print(a,b,c)\n",
    "    \n",
    "f(1)             \n",
    "f(1, 3)          \n",
    "f(1, 3, 5)      \n",
    "f(1, c=9)        \n",
    "f(b=3, c=5 ,a=1) "
   ]
  },
  {
   "cell_type": "markdown",
   "id": "6a9034db-e577-40a9-9c3e-5d7aa353ba3f",
   "metadata": {},
   "source": [
    "### keyword inly argument"
   ]
  },
  {
   "cell_type": "code",
   "execution_count": 21,
   "id": "2cb5aeeb-aacb-43cd-b4bd-fd58ca36297f",
   "metadata": {},
   "outputs": [
    {
     "name": "stdout",
     "output_type": "stream",
     "text": [
      "3\n",
      "5\n"
     ]
    }
   ],
   "source": [
    "def f(*, a=3):\n",
    "    print(a)\n",
    "    \n",
    "f()        # 3\n",
    "f(a = 5)   # 5\n",
    "#f(5)     #  f() takes 0 positional arguments but 1 was given"
   ]
  },
  {
   "cell_type": "code",
   "execution_count": 22,
   "id": "08dd2a18-3845-4488-8997-a8ac833eb793",
   "metadata": {},
   "outputs": [
    {
     "name": "stdout",
     "output_type": "stream",
     "text": [
      "6\n",
      "13\n"
     ]
    }
   ],
   "source": [
    "def f(*t):\n",
    "    s = 0\n",
    "    for i in t:\n",
    "        s += i\n",
    "    print(s)        \n",
    "    \n",
    "f(1, 2, 3)       \n",
    "f(5, 8) "
   ]
  },
  {
   "cell_type": "code",
   "execution_count": 24,
   "id": "9796207e-c5a3-41a4-b215-6ad5a6974c28",
   "metadata": {},
   "outputs": [
    {
     "name": "stdout",
     "output_type": "stream",
     "text": [
      "9\n"
     ]
    }
   ],
   "source": [
    "def addnum(a,b,*more):\n",
    "    r = a+b+sum(more)\n",
    "    print(r)\n",
    "\n",
    "\n",
    "\n",
    "addnum(1,3,5)"
   ]
  },
  {
   "cell_type": "code",
   "execution_count": 26,
   "id": "6d8fe2e8-e579-4271-8d2d-f12d39096bd9",
   "metadata": {},
   "outputs": [
    {
     "name": "stdout",
     "output_type": "stream",
     "text": [
      "ali.reza\n",
      "ali.reza.sara\n",
      "ali/reza/sara\n"
     ]
    }
   ],
   "source": [
    "def concat(*s , sep='.'):\n",
    "    return sep.join(s)\n",
    "\n",
    "print(concat('ali', 'reza'))                 \n",
    "print(concat('ali', 'reza', 'sara'))           \n",
    "print(concat('ali', 'reza', 'sara', sep='/'))   "
   ]
  },
  {
   "cell_type": "code",
   "execution_count": 29,
   "id": "fe5f9e63-8ff2-4cbb-904c-ff37a4079ccf",
   "metadata": {},
   "outputs": [
    {
     "name": "stdout",
     "output_type": "stream",
     "text": [
      "1 2 3\n",
      "1 8 3\n"
     ]
    }
   ],
   "source": [
    "def f(a ,*, b=2, c=3):\n",
    "    print(a,b,c)\n",
    "    \n",
    "f(1)         # 1  2  3\n",
    "f(1, b=8)    # 1  8  3\n",
    "\n",
    "# f(1, 3, c=4) \n",
    "\n",
    "#f() takes 1 positional argument but 2 positional arguments \n",
    "#(and 1 keyword-only argument) were given\n",
    "\n",
    "    \n",
    "# f(1, b=2, 4)    #  positional argument follows keyword argument\n"
   ]
  },
  {
   "cell_type": "code",
   "execution_count": 30,
   "id": "c684a95c-53c7-4781-862e-62cba7810047",
   "metadata": {},
   "outputs": [
    {
     "name": "stdout",
     "output_type": "stream",
     "text": [
      "3 4 {'x': 5, 'y': 9}\n"
     ]
    }
   ],
   "source": [
    "def f(a, b , **c):\n",
    "    print(a,b,c)\n",
    "    \n",
    "f(3, 4, x=5, y=9)"
   ]
  },
  {
   "cell_type": "code",
   "execution_count": 31,
   "id": "ae819fb2-fe89-4af9-b2ed-826e2b50df5f",
   "metadata": {},
   "outputs": [
    {
     "name": "stdout",
     "output_type": "stream",
     "text": [
      "3\n",
      "4\n",
      "(7, 1, 6)\n",
      "{'x': 5, 'y': 7, 'z': 9}\n"
     ]
    }
   ],
   "source": [
    "def f(a, b , *c , **d):\n",
    "    print(a)  \n",
    "    print(b)  \n",
    "    print(c)  \n",
    "    print(d)  \n",
    "\n",
    "f(3 , 4, 7, 1, 6, x=5, y=7, z=9)   "
   ]
  },
  {
   "cell_type": "code",
   "execution_count": 32,
   "id": "45dcc762-1785-4674-b5ea-dd681d1f1f0e",
   "metadata": {},
   "outputs": [
    {
     "name": "stdout",
     "output_type": "stream",
     "text": [
      "5\n",
      "3\n"
     ]
    }
   ],
   "source": [
    "count_dict = {\n",
    "         'L' : 0 ,\n",
    "         'U' :0\n",
    "        }\n",
    "\n",
    "def func_count(s):\n",
    "    for ch in s:\n",
    "        if ch.islower():\n",
    "            count_dict['L'] += 1\n",
    "        else:\n",
    "            count_dict['U'] += 1\n",
    "\n",
    "s = 'MohaMMad'            \n",
    "func_count(s)            \n",
    "print(count_dict['L'])   \n",
    "print(count_dict['U'])"
   ]
  },
  {
   "cell_type": "code",
   "execution_count": 33,
   "id": "aae72e65-54a8-490c-8d08-9aec94f5892c",
   "metadata": {},
   "outputs": [
    {
     "name": "stdout",
     "output_type": "stream",
     "text": [
      "{'a': 2, 'b': 3, 'c': 1, 'f': 1}\n"
     ]
    }
   ],
   "source": [
    "def count_char(s):\n",
    "    d = {}\n",
    "    for i in s:\n",
    "        if i in d.keys():\n",
    "            d[i] +=1\n",
    "        else:\n",
    "            d[i] = 1\n",
    "    return d\n",
    "\n",
    "print(count_char('abbcfab')) "
   ]
  },
  {
   "cell_type": "code",
   "execution_count": 34,
   "id": "0bd40715-0273-48a6-9951-aacde4e2fc18",
   "metadata": {},
   "outputs": [
    {
     "name": "stdout",
     "output_type": "stream",
     "text": [
      "{'python': 1, 'created': 1, 'by': 1, 'rossum': 1}\n"
     ]
    }
   ],
   "source": [
    "def count_word(s):\n",
    "    d = {}\n",
    "    words = s.split()\n",
    "    for i in words:\n",
    "        if i in d:\n",
    "            d[i] += 1\n",
    "        else:            \n",
    "            d[i] = 1\n",
    "    return d\n",
    "            \n",
    "s = 'python created by rossum'\n",
    "print(count_word(s)) \n"
   ]
  },
  {
   "cell_type": "code",
   "execution_count": 35,
   "id": "d8ed87f7-73ea-450c-a4a9-0bcdaad43a12",
   "metadata": {},
   "outputs": [
    {
     "name": "stdout",
     "output_type": "stream",
     "text": [
      "[{'id': 1, 'Ave': 50.0}, {'id': 2, 'Ave': 75.0}]\n"
     ]
    }
   ],
   "source": [
    "grade_student = [ \n",
    "                  {'id':1 , 'M':60 , 'F':40} , \n",
    "                  {'id':2 , 'M':80 , 'F':70}\n",
    "                ]\n",
    "\n",
    "def ave_grade(lst):\n",
    "    for d in lst:\n",
    "        n1 = d.pop('M')\n",
    "        n2 = d.pop('F')\n",
    "        d['Ave'] = (n1 + n2) / 2\n",
    "    return lst\n",
    "\n",
    "print(ave_grade(grade_student)) "
   ]
  },
  {
   "cell_type": "code",
   "execution_count": 36,
   "id": "1131cb09-4f88-4d32-b958-5627a10d6e65",
   "metadata": {},
   "outputs": [
    {
     "name": "stdout",
     "output_type": "stream",
     "text": [
      "cba\n"
     ]
    }
   ],
   "source": [
    "def reverse_string(s):\n",
    "    r = ''.join(reversed(s))\n",
    "    return r\n",
    "print(reverse_string('abc'))"
   ]
  },
  {
   "cell_type": "code",
   "execution_count": 39,
   "id": "6657346d-d7ba-4195-93e9-ff25f2b1af5e",
   "metadata": {},
   "outputs": [
    {
     "name": "stdout",
     "output_type": "stream",
     "text": [
      "True\n",
      "False\n"
     ]
    }
   ],
   "source": [
    "def palinrome(s):\n",
    "    return s == s[::-1]\n",
    "\n",
    "print(palinrome(\"hesseh\"))\n",
    "print(palinrome(\"jack\"))"
   ]
  },
  {
   "cell_type": "code",
   "execution_count": 40,
   "id": "2333aa2b-b916-41fb-b261-ded96aa3ab96",
   "metadata": {},
   "outputs": [
    {
     "name": "stdout",
     "output_type": "stream",
     "text": [
      "pon\n"
     ]
    }
   ],
   "source": [
    "def remove_index(s,start,end):\n",
    "    if len(s) > end:\n",
    "        s = s[0: start] + s[end+1 ::]\n",
    "    return s    \n",
    "\n",
    "s= 'python'\n",
    "print(remove_index(s,1,3))"
   ]
  },
  {
   "cell_type": "code",
   "execution_count": 61,
   "id": "060f9278-c002-4bb8-8e51-c6e5d01c2061",
   "metadata": {},
   "outputs": [
    {
     "name": "stdout",
     "output_type": "stream",
     "text": [
      "pto\n",
      "aceg\n",
      "yhn\n",
      "bdfh\n"
     ]
    }
   ],
   "source": [
    "def remove_oddindex(s):\n",
    "    r = ''\n",
    "    for i in range(len(s)):\n",
    "        if i % 2 == 0:\n",
    "            r += s[i]\n",
    "    return r            \n",
    "\n",
    "print(remove_oddindex('python'))\n",
    "print(remove_oddindex('abcdefgh'))\n",
    "\n",
    "def remove_evenindex(s):\n",
    "    r = ''\n",
    "    for i in range(len(s)):\n",
    "        if not i % 2 == 0:\n",
    "            r += s[i]\n",
    "    return r     \n",
    "\n",
    "print(remove_evenindex('python'))\n",
    "print(remove_evenindex('abcdefgh'))"
   ]
  },
  {
   "cell_type": "code",
   "execution_count": 62,
   "id": "35753ebc-9c1e-448c-8d8e-f9517c08dc88",
   "metadata": {},
   "outputs": [
    {
     "name": "stdout",
     "output_type": "stream",
     "text": [
      "[1, 2, 3, 4]\n"
     ]
    }
   ],
   "source": [
    "def unique_list(lst):\n",
    "    r = []\n",
    "    for i in lst:\n",
    "        if i not in r:\n",
    "            r.append(i)\n",
    "    return r            \n",
    "\n",
    "a = [1, 2, 3, 1, 4, 2]\n",
    "print(unique_list(a)) "
   ]
  },
  {
   "cell_type": "code",
   "execution_count": 67,
   "id": "311feeb4-2d3c-494a-b789-6074d129a5d4",
   "metadata": {},
   "outputs": [
    {
     "name": "stdout",
     "output_type": "stream",
     "text": [
      "[1, 2, 3, 4, 6, 8, 12]\n",
      "[1]\n"
     ]
    }
   ],
   "source": [
    "def f(n):\n",
    "    r = [1]\n",
    "    for i in range(2, n):\n",
    "        if (n % i) == 0:\n",
    "            r.append(i)\n",
    "    return r            \n",
    "\n",
    "lst = f(24)    \n",
    "print(lst)\n",
    "lst = f(17)    \n",
    "print(lst)"
   ]
  },
  {
   "cell_type": "markdown",
   "id": "ad69ca66-996f-4c17-9eaa-2d5dca975087",
   "metadata": {},
   "source": [
    "### find the biggest word"
   ]
  },
  {
   "cell_type": "code",
   "execution_count": 69,
   "id": "798131fb-9558-46b1-b945-a73110a3431a",
   "metadata": {},
   "outputs": [
    {
     "name": "stdout",
     "output_type": "stream",
     "text": [
      "interpreted\n"
     ]
    }
   ],
   "source": [
    "def  f(s):\n",
    "    w =' '\n",
    "    lst =[]\n",
    "    \n",
    "    for i in range(0,len(s)):\n",
    "        if(s[i] != ' '):\n",
    "             w += s[i]\n",
    "        else:\n",
    "             lst.append(w)\n",
    "             w = ''\n",
    "            \n",
    "    m = lst[0]\n",
    "    for j in range(0,len(lst)):\n",
    "        if (len(lst[j]) > len(m)):\n",
    "            m = lst[j]\n",
    "    return m            \n",
    "           \n",
    "s = 'python is an interpreted language.'\n",
    "print(f(s))"
   ]
  },
  {
   "cell_type": "markdown",
   "id": "ea14a7d4-2dc4-4cea-935c-659887dba00b",
   "metadata": {},
   "source": [
    "### Pascal\n",
    "  1\n"
   ]
  },
  {
   "cell_type": "code",
   "execution_count": 82,
   "id": "038ec1cb-cf49-43c3-9cd7-00e1f20584e7",
   "metadata": {},
   "outputs": [
    {
     "name": "stdout",
     "output_type": "stream",
     "text": [
      "[1]\n",
      "[1, 1]\n",
      "[1, 2, 1]\n",
      "[1, 3, 3, 1]\n",
      "[1, 4, 6, 4, 1]\n",
      "[1, 5, 10, 10, 5, 1]\n"
     ]
    }
   ],
   "source": [
    "def pascal(n):\n",
    "    t = [1]\n",
    "    y = [0]\n",
    "    for x in range(max(n,0)):\n",
    "        print(t)\n",
    "        t = [i + j for i,j in zip(t+y , y+t)]\n",
    "pascal(6)"
   ]
  },
  {
   "cell_type": "code",
   "execution_count": 83,
   "id": "86301e69-73b2-4933-b28f-b52627d8ff04",
   "metadata": {},
   "outputs": [
    {
     "name": "stdout",
     "output_type": "stream",
     "text": [
      "[1, 2, 3, 4]\n"
     ]
    }
   ],
   "source": [
    "def unique_list(lst):\n",
    "   return list(set(lst))\n",
    "\n",
    "a = [1, 2, 3, 1, 4, 2]\n",
    "print(unique_list(a)) "
   ]
  },
  {
   "cell_type": "code",
   "execution_count": 84,
   "id": "04b4059b-0c27-4a21-ac41-0a1c056a2c8f",
   "metadata": {},
   "outputs": [
    {
     "name": "stdout",
     "output_type": "stream",
     "text": [
      "ali\n"
     ]
    }
   ],
   "source": [
    "def f(s):\n",
    "    my_set = set()\n",
    "    w = s.split()\n",
    "    for i in w:\n",
    "        if i in my_set:\n",
    "            return i\n",
    "        else:\n",
    "            my_set.add(i)\n",
    "    return 'None'            \n",
    "\n",
    "s = 'sara ali reza ali taha reza'\n",
    "print(f(s))"
   ]
  },
  {
   "cell_type": "code",
   "execution_count": 87,
   "id": "b93c4ca7-5c00-495c-b28f-e8339c7773d6",
   "metadata": {},
   "outputs": [
    {
     "name": "stdout",
     "output_type": "stream",
     "text": [
      "[2, 3, 5, 7]\n"
     ]
    }
   ],
   "source": [
    "def prime(n):\n",
    "    my_set = set()\n",
    "    lst = []\n",
    "    for i in range(2, n+1):\n",
    "        if i in my_set:\n",
    "            continue\n",
    "        for j in range(i*2, n+1, i):\n",
    "            my_set.add(j)     \n",
    "        lst.append(i)         \n",
    "    return lst        \n",
    "    \n",
    "n = 10\n",
    "print(prime(n)) "
   ]
  },
  {
   "cell_type": "code",
   "execution_count": 88,
   "id": "508454fc-1b93-42c8-a654-2d2212a41eba",
   "metadata": {},
   "outputs": [
    {
     "name": "stdout",
     "output_type": "stream",
     "text": [
      "True\n"
     ]
    }
   ],
   "source": [
    "def magic(m):\n",
    "    n = len(m[0])\n",
    "    lst = []\n",
    "    \n",
    "    lst.extend([sum(i) for i in m])\n",
    "    \n",
    "    for col in range(n):\n",
    "        lst.append(sum(row[col] for row in m))\n",
    "    \n",
    "    r = 0\n",
    "    for i in range(0,n):\n",
    "        r += m[i][i]\n",
    "    \n",
    "    lst.append(r)\n",
    "    \n",
    "    r2 = 0\n",
    "    for i in range(0,n):\n",
    "        r2 += m[i][n-1-i]\n",
    "    \n",
    "    lst.append(r2)\n",
    "    if len(set(lst)) > 1:\n",
    "        return False\n",
    "    return True\n",
    "     \n",
    "my_matrix = [\n",
    "     [2, 7, 6],\n",
    "     [9, 5, 1],\n",
    "     [4, 3, 8]\n",
    "    ]\n",
    "\n",
    "print(magic(my_matrix))  # True\n"
   ]
  },
  {
   "cell_type": "markdown",
   "id": "06b75d8c-b7a3-4085-a0ba-ba126718d384",
   "metadata": {},
   "source": [
    "## PEP 484"
   ]
  },
  {
   "cell_type": "code",
   "execution_count": 89,
   "id": "c2d3f4eb-7177-41d7-a9a6-a0bd3bc7fb6c",
   "metadata": {},
   "outputs": [
    {
     "name": "stdout",
     "output_type": "stream",
     "text": [
      "Hello moe\n"
     ]
    }
   ],
   "source": [
    "def greeting(name: str) -> str:\n",
    "    return 'Hello ' + name\n",
    "\n",
    "\n",
    "print(greeting(\"moe\"))"
   ]
  },
  {
   "cell_type": "code",
   "execution_count": 92,
   "id": "c912ecc1-c6a2-4747-b3af-5de59a3a04a3",
   "metadata": {},
   "outputs": [
    {
     "name": "stdout",
     "output_type": "stream",
     "text": [
      "5\n"
     ]
    }
   ],
   "source": [
    "def add(x:int, y:int) ->int:\n",
    "    print(x+y)\n",
    "\n",
    "add(2, 3)    "
   ]
  },
  {
   "cell_type": "code",
   "execution_count": 95,
   "id": "d173fd58-5805-4f03-b870-b8ef7ebd79b4",
   "metadata": {},
   "outputs": [
    {
     "name": "stdout",
     "output_type": "stream",
     "text": [
      "{'x': <class 'int'>, 'y': <class 'int'>, 'return': <class 'int'>}\n"
     ]
    }
   ],
   "source": [
    "print(add.__annotations__)  "
   ]
  },
  {
   "cell_type": "code",
   "execution_count": null,
   "id": "aa1d41cd-571d-4302-a429-a59e1d02a566",
   "metadata": {},
   "outputs": [],
   "source": []
  }
 ],
 "metadata": {
  "kernelspec": {
   "display_name": "Python 3 (ipykernel)",
   "language": "python",
   "name": "python3"
  },
  "language_info": {
   "codemirror_mode": {
    "name": "ipython",
    "version": 3
   },
   "file_extension": ".py",
   "mimetype": "text/x-python",
   "name": "python",
   "nbconvert_exporter": "python",
   "pygments_lexer": "ipython3",
   "version": "3.10.12"
  }
 },
 "nbformat": 4,
 "nbformat_minor": 5
}
