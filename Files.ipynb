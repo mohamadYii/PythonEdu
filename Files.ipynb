{
 "cells": [
  {
   "cell_type": "markdown",
   "id": "7908b1f0-7824-48f6-a2ec-ffeb5fa2ec07",
   "metadata": {},
   "source": [
    "## Text File"
   ]
  },
  {
   "cell_type": "code",
   "execution_count": 5,
   "id": "fcf01a72-1aaf-4762-9713-641ba80756fa",
   "metadata": {},
   "outputs": [],
   "source": [
    "f = open('./Test.txt','w')"
   ]
  },
  {
   "cell_type": "code",
   "execution_count": 13,
   "id": "0b67a12a-6c3c-4bc4-bce9-4ad66235f7c9",
   "metadata": {},
   "outputs": [
    {
     "name": "stdout",
     "output_type": "stream",
     "text": [
      "We Have file now!\n"
     ]
    }
   ],
   "source": [
    "try:\n",
    "    textfile = open('./Test.txt','w')\n",
    "except FileNotFoundError:\n",
    "    print('Error')\n",
    "print('We Have file now!')"
   ]
  },
  {
   "cell_type": "code",
   "execution_count": 17,
   "id": "d57b5402-65d8-46d6-8e6a-7cfa27b5c77b",
   "metadata": {},
   "outputs": [],
   "source": [
    "line1 = \"hello dear\"\n",
    "line2 = \"how are u doing?\"\n",
    "textfile.write(line1)\n",
    "textfile.write(line2)\n",
    "textfile.close() # need to close the file every time "
   ]
  },
  {
   "cell_type": "code",
   "execution_count": 16,
   "id": "563feb43-faa9-4512-a6f3-d49c3473db43",
   "metadata": {},
   "outputs": [
    {
     "name": "stdout",
     "output_type": "stream",
     "text": [
      "./Test.txt\n",
      "w\n"
     ]
    }
   ],
   "source": [
    "print(textfile.name)\n",
    "print(textfile.mode)"
   ]
  },
  {
   "cell_type": "code",
   "execution_count": 31,
   "id": "805f76dc-8917-4e36-967a-d298a932323c",
   "metadata": {},
   "outputs": [],
   "source": [
    "with open('./Test.txt','w') as f:\n",
    "    line1 = \"!!!!!!!!!!!!!\"\n",
    "    line2 = \"????????\"\n",
    "    f.write(line1)\n",
    "    f.write(line2)\n",
    "    # we dont need to close file when we use (with)"
   ]
  },
  {
   "cell_type": "code",
   "execution_count": 28,
   "id": "5c65aa35-b739-4610-9e8e-4c8d1825a7c3",
   "metadata": {},
   "outputs": [
    {
     "name": "stdout",
     "output_type": "stream",
     "text": [
      "['!!!!!!!!!!!!!????????']\n"
     ]
    }
   ],
   "source": [
    "with open('./Test.txt','r') as f:\n",
    "    print(f.readlines())"
   ]
  },
  {
   "cell_type": "code",
   "execution_count": 23,
   "id": "f0d16659-1513-4d13-a7d7-a37a4e735c03",
   "metadata": {},
   "outputs": [
    {
     "name": "stdout",
     "output_type": "stream",
     "text": [
      "!!!!!!!!!!!!!????????\n"
     ]
    }
   ],
   "source": [
    "with open('./Test.txt','r') as f:\n",
    "    print(f.read())"
   ]
  },
  {
   "cell_type": "code",
   "execution_count": 29,
   "id": "c1fd56e6-5f91-484b-b15a-abb600b816de",
   "metadata": {},
   "outputs": [
    {
     "name": "stdout",
     "output_type": "stream",
     "text": [
      "True\n"
     ]
    }
   ],
   "source": [
    "import os\n",
    "print(os.path.exists('./Test.txt'))"
   ]
  },
  {
   "cell_type": "code",
   "execution_count": 25,
   "id": "f4d2cf6d-a773-4bbc-bb50-1846ab585e21",
   "metadata": {},
   "outputs": [],
   "source": [
    "os.remove('./Test.txt')"
   ]
  },
  {
   "cell_type": "code",
   "execution_count": 33,
   "id": "4ca6c14f-c5c9-45fc-8fbf-074234592fba",
   "metadata": {},
   "outputs": [],
   "source": [
    "with open('./Test.txt',\"r\") as f1 , open('./Test2.txt',\"w\") as f2:\n",
    "    for line in f1:\n",
    "        f2.write(line)"
   ]
  },
  {
   "cell_type": "code",
   "execution_count": 39,
   "id": "9629f135-949f-4d67-9dfb-a01007251e8f",
   "metadata": {},
   "outputs": [
    {
     "name": "stdout",
     "output_type": "stream",
     "text": [
      "!!!!!!!!!!!!!????????\n"
     ]
    }
   ],
   "source": [
    "with open('./Test2.txt','r') as f2:\n",
    "    print(f2.read())"
   ]
  },
  {
   "cell_type": "code",
   "execution_count": 45,
   "id": "0f91741a-94d8-4916-9dc7-821c5b7059d2",
   "metadata": {},
   "outputs": [
    {
     "name": "stdout",
     "output_type": "stream",
     "text": [
      "4\n",
      "3\n"
     ]
    }
   ],
   "source": [
    "lst = ['yes','no','no','yes','yes','yes','no']\n",
    "\n",
    "name = './answer.txt'\n",
    "\n",
    "with open(name, 'w') as f:\n",
    "    for i in lst:\n",
    "        f.write(i)\n",
    "        f.write('\\n')\n",
    "c1 = 0\n",
    "c2 = 0\n",
    "\n",
    "with open(name, 'r')  as f:\n",
    "     lst = f.readlines()       \n",
    "     for i in lst:\n",
    "         x = i.strip() # remove \\n s\n",
    "         if x == 'yes':\n",
    "            c1 += 1\n",
    "         else :\n",
    "            c2 += 1\n",
    "print(c1)\n",
    "print(c2)"
   ]
  },
  {
   "cell_type": "code",
   "execution_count": 46,
   "id": "0bd236c6-c8eb-487b-9903-c76284bad369",
   "metadata": {},
   "outputs": [
    {
     "name": "stdout",
     "output_type": "stream",
     "text": [
      "{'yes': 4, 'no': 3}\n"
     ]
    }
   ],
   "source": [
    "d = dict()\n",
    "with open(name) as f:\n",
    "    for line in f:\n",
    "        w = line.split()\n",
    "        for i in w:\n",
    "            d[i] = d.get(i, 0) + 1\n",
    "print(d) "
   ]
  },
  {
   "cell_type": "code",
   "execution_count": 49,
   "id": "db395472-b7c4-4665-b669-6e970ef58315",
   "metadata": {},
   "outputs": [
    {
     "name": "stdout",
     "output_type": "stream",
     "text": [
      "./answer.txt : 7\n",
      "[Errno 2] No such file or directory: './h.txt'\n"
     ]
    }
   ],
   "source": [
    "def count(filename):\n",
    "    try:\n",
    "        with open(filename) as f:\n",
    "            x = f.read()\n",
    "    except FileNotFoundError as e:\n",
    "        print(e)        \n",
    "    else:    \n",
    "        c = len(x.split())\n",
    "        print(f'{filename} : {c}')\n",
    "        \n",
    "count('./answer.txt')\n",
    "count('./h.txt') "
   ]
  },
  {
   "cell_type": "code",
   "execution_count": 51,
   "id": "1d23b365-302d-4d23-ab51-58ed865efc10",
   "metadata": {},
   "outputs": [],
   "source": [
    "with open('./Test.txt' , 'a') as f:\n",
    "     f.write(line1)"
   ]
  },
  {
   "cell_type": "markdown",
   "id": "73ef68f5-5c4a-4ffc-be85-f8176249fedb",
   "metadata": {},
   "source": [
    "### Json"
   ]
  },
  {
   "cell_type": "code",
   "execution_count": 53,
   "id": "a3a373c1-e1cd-4d79-8ea6-c6aa7082b4f2",
   "metadata": {},
   "outputs": [
    {
     "name": "stdout",
     "output_type": "stream",
     "text": [
      "{\"k1\": \"v1\", \"k2\": \"v2\"}\n",
      "{\n",
      "    \"k1\": \"v1\",\n",
      "    \"k2\": \"v2\"\n",
      "}\n"
     ]
    }
   ],
   "source": [
    "import json\n",
    "d = {'k1':'v1' , 'k2':'v2'}\n",
    "\n",
    "js = json.dumps(d)\n",
    "print(js)          # {\"k1\": \"v1\", \"k2\": \"v2\"}\n",
    "\n",
    "print(json.dumps(d , indent = 4))"
   ]
  },
  {
   "cell_type": "code",
   "execution_count": 54,
   "id": "e879ac38-7b84-4623-96b2-17ba992be4dc",
   "metadata": {},
   "outputs": [
    {
     "name": "stdout",
     "output_type": "stream",
     "text": [
      "{\n",
      "    \"k1\"=\"v1\";\n",
      "    \"k2\"=\"v2\"\n",
      "}\n"
     ]
    }
   ],
   "source": [
    "print(json.dumps(d , indent = 4 , separators = (';','=')))"
   ]
  },
  {
   "cell_type": "code",
   "execution_count": 56,
   "id": "84d0d7cb-3aa9-45f9-9c9c-b8e9bfedb674",
   "metadata": {},
   "outputs": [
    {
     "name": "stdout",
     "output_type": "stream",
     "text": [
      "{'k1': 'v1', 'k2': 'v2'}\n"
     ]
    }
   ],
   "source": [
    "with open('./j.json', 'w') as f:\n",
    "    json.dump(d, f)\n",
    "    \n",
    "with open('./j.json') as f:\n",
    "    print(json.load(f))"
   ]
  },
  {
   "cell_type": "markdown",
   "id": "9f90d802-db42-40ef-9fe7-155e5508bee9",
   "metadata": {},
   "source": [
    "### pickle"
   ]
  },
  {
   "cell_type": "code",
   "execution_count": 58,
   "id": "d67c1422-e17d-4134-a525-f684280e6eea",
   "metadata": {},
   "outputs": [
    {
     "name": "stdout",
     "output_type": "stream",
     "text": [
      "{'k1': 'v1', 'k2': 'v2'}\n"
     ]
    }
   ],
   "source": [
    "import pickle \n",
    "\n",
    "with open('./p.bin', 'wb') as f:\n",
    "    pickle.dump(d, f)\n",
    "    \n",
    "with open('./p.bin','rb') as f:\n",
    "    print(pickle.load(f))   "
   ]
  },
  {
   "cell_type": "markdown",
   "id": "e204ff34-db6c-4a32-bf0e-afe838b1a377",
   "metadata": {},
   "source": [
    "### CSV"
   ]
  },
  {
   "cell_type": "code",
   "execution_count": 60,
   "id": "f9954b16-27b7-4de4-b885-7940a3bd985b",
   "metadata": {},
   "outputs": [
    {
     "name": "stdout",
     "output_type": "stream",
     "text": [
      "Name   Age\n",
      "ali   35\n",
      "taha   10\n",
      "mahsa   40\n"
     ]
    }
   ],
   "source": [
    "import csv\n",
    "x  = ['Name' , 'Age'] \n",
    "r1 = ['ali',35]\n",
    "r2 = ['taha',10]\n",
    "r3 = ['mahsa',40]\n",
    "\n",
    "with open('./a.csv','w') as f:\n",
    "    w = csv.writer(f)\n",
    "    w.writerow(x)\n",
    "    w.writerows([r1,r2,r3])\n",
    "    \n",
    "    \n",
    "with open('./a.csv', newline = '\\n') as f:\n",
    "    r = csv.reader(f)\n",
    "    for i in r:\n",
    "        print('   '.join(i))"
   ]
  },
  {
   "cell_type": "markdown",
   "id": "5385819e-84ec-484c-8fdf-1d22fc674fc4",
   "metadata": {},
   "source": [
    "### CSV in Pandas"
   ]
  },
  {
   "cell_type": "code",
   "execution_count": 62,
   "id": "9d5347da-cfd9-4ae8-9850-9c6bb4443bca",
   "metadata": {},
   "outputs": [
    {
     "name": "stdout",
     "output_type": "stream",
     "text": [
      "    Name  Age\n",
      "0    ali   35\n",
      "1   taha   10\n",
      "2  mahsa   40\n"
     ]
    }
   ],
   "source": [
    "import pandas as pd\n",
    "\n",
    "data = pd.read_csv('./a.csv')\n",
    "print(data)\n",
    "\n",
    "data.to_csv('./b.csv',sep=',', index = False)"
   ]
  }
 ],
 "metadata": {
  "kernelspec": {
   "display_name": "Python 3 (ipykernel)",
   "language": "python",
   "name": "python3"
  },
  "language_info": {
   "codemirror_mode": {
    "name": "ipython",
    "version": 3
   },
   "file_extension": ".py",
   "mimetype": "text/x-python",
   "name": "python",
   "nbconvert_exporter": "python",
   "pygments_lexer": "ipython3",
   "version": "3.10.12"
  }
 },
 "nbformat": 4,
 "nbformat_minor": 5
}
